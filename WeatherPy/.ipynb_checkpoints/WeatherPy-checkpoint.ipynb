{
 "cells": [
  {
   "cell_type": "code",
   "execution_count": 50,
   "metadata": {},
   "outputs": [
    {
     "name": "stdout",
     "output_type": "stream",
     "text": [
      "Written Description: Trend 1: There is a negative correlation between latitude and temperature for both hemispheres when looking at them collectively, as you get further from the equator the temperature decreases. Trend 2: Humidity is interesting as in the Northern Hemisphere it increases the further you get from the equator, while in the Southern hemisphere it decreases as you get closer to the equator showing an inverse relationship relative to the equator. Trend 3: The wind conditions pick up to higher speeds the further you get from the equator in both hemispheres \n"
     ]
    }
   ],
   "source": [
    "print('Written Description: Trend 1: There is a negative correlation between latitude and temperature for both hemispheres when looking at them collectively, as you get further from the equator the temperature decreases. Trend 2: Humidity is interesting as in the Northern Hemisphere it increases the further you get from the equator, while in the Southern hemisphere it decreases as you get closer to the equator showing an inverse relationship relative to the equator. Trend 3: The wind conditions pick up to higher speeds the further you get from the equator in both hemispheres ')"
   ]
  },
  {
   "cell_type": "code",
   "execution_count": 1,
   "metadata": {},
   "outputs": [],
   "source": [
    "# Dependencies and Setup\n",
    "import matplotlib.pyplot as plt\n",
    "import pandas as pd\n",
    "import numpy as np\n",
    "import requests\n",
    "import gmaps\n",
    "import os\n",
    "from scipy import stats\n",
    "from api_config import (weather_api)"
   ]
  },
  {
   "cell_type": "code",
   "execution_count": 2,
   "metadata": {},
   "outputs": [
    {
     "name": "stdout",
     "output_type": "stream",
     "text": [
      "Requirement already satisfied: citipy in c:\\users\\joymode\\anaconda3\\envs\\pythondata\\lib\\site-packages (0.0.5)\n",
      "Requirement already satisfied: kdtree>=0.12 in c:\\users\\joymode\\anaconda3\\envs\\pythondata\\lib\\site-packages (from citipy) (0.16)\n",
      "Note: you may need to restart the kernel to use updated packages.\n"
     ]
    }
   ],
   "source": [
    "pip install citipy"
   ]
  },
  {
   "cell_type": "code",
   "execution_count": 3,
   "metadata": {},
   "outputs": [],
   "source": [
    "from citipy import citipy"
   ]
  },
  {
   "cell_type": "code",
   "execution_count": 4,
   "metadata": {},
   "outputs": [],
   "source": [
    "cities_list= []\n",
    "record_number = 0\n",
    "cloud=[]\n",
    "country=[]\n",
    "date=[]\n",
    "humidity=[]\n",
    "max_temp=[]\n",
    "wind_speed=[]\n",
    "lat=[]\n",
    "lon= []"
   ]
  },
  {
   "cell_type": "code",
   "execution_count": 5,
   "metadata": {},
   "outputs": [
    {
     "data": {
      "text/plain": [
       "610"
      ]
     },
     "execution_count": 5,
     "metadata": {},
     "output_type": "execute_result"
    }
   ],
   "source": [
    "# List for holding lat_lngs and cities\n",
    "lat_lngs = []\n",
    "cities = []\n",
    "\n",
    "# Create a set of random lat and lng combinations\n",
    "lats = np.random.uniform(low=-90.000, high=90.000, size=1500)\n",
    "lngs = np.random.uniform(low=-180.000, high=180.000, size=1500)\n",
    "lat_lngs = zip(lats, lngs)\n",
    "\n",
    "# Identify nearest city for each lat, lng combination\n",
    "for lat_lng in lat_lngs:\n",
    "    city = citipy.nearest_city(lat_lng[0], lat_lng[1]).city_name\n",
    "    \n",
    "    # If the city is unique, then add it to a our cities list\n",
    "    if city not in cities:\n",
    "        cities.append(city)\n",
    "\n",
    "# Print the city count to confirm sufficient count\n",
    "len(cities)"
   ]
  },
  {
   "cell_type": "code",
   "execution_count": 6,
   "metadata": {},
   "outputs": [],
   "source": [
    "output_data_file = \"cities.csv\""
   ]
  },
  {
   "cell_type": "code",
   "execution_count": 7,
   "metadata": {},
   "outputs": [
    {
     "name": "stdout",
     "output_type": "stream",
     "text": [
      "cities.csv\n"
     ]
    }
   ],
   "source": [
    "print(output_data_file)"
   ]
  },
  {
   "cell_type": "code",
   "execution_count": 8,
   "metadata": {},
   "outputs": [
    {
     "data": {
      "text/html": [
       "<div>\n",
       "<style scoped>\n",
       "    .dataframe tbody tr th:only-of-type {\n",
       "        vertical-align: middle;\n",
       "    }\n",
       "\n",
       "    .dataframe tbody tr th {\n",
       "        vertical-align: top;\n",
       "    }\n",
       "\n",
       "    .dataframe thead th {\n",
       "        text-align: right;\n",
       "    }\n",
       "</style>\n",
       "<table border=\"1\" class=\"dataframe\">\n",
       "  <thead>\n",
       "    <tr style=\"text-align: right;\">\n",
       "      <th></th>\n",
       "      <th>City_ID</th>\n",
       "      <th>City</th>\n",
       "      <th>Cloudiness</th>\n",
       "      <th>Country</th>\n",
       "      <th>Date</th>\n",
       "      <th>Humidity</th>\n",
       "      <th>Lat</th>\n",
       "      <th>Lng</th>\n",
       "      <th>Max Temp</th>\n",
       "      <th>Wind Speed</th>\n",
       "    </tr>\n",
       "  </thead>\n",
       "  <tbody>\n",
       "    <tr>\n",
       "      <th>0</th>\n",
       "      <td>0</td>\n",
       "      <td>ostrovnoy</td>\n",
       "      <td>2</td>\n",
       "      <td>RU</td>\n",
       "      <td>1558378754</td>\n",
       "      <td>72</td>\n",
       "      <td>68.05</td>\n",
       "      <td>39.51</td>\n",
       "      <td>37.50</td>\n",
       "      <td>7.16</td>\n",
       "    </tr>\n",
       "    <tr>\n",
       "      <th>1</th>\n",
       "      <td>1</td>\n",
       "      <td>mahebourg</td>\n",
       "      <td>75</td>\n",
       "      <td>MU</td>\n",
       "      <td>1558378503</td>\n",
       "      <td>74</td>\n",
       "      <td>-20.41</td>\n",
       "      <td>57.70</td>\n",
       "      <td>78.80</td>\n",
       "      <td>11.41</td>\n",
       "    </tr>\n",
       "    <tr>\n",
       "      <th>2</th>\n",
       "      <td>2</td>\n",
       "      <td>qaanaaq</td>\n",
       "      <td>25</td>\n",
       "      <td>GL</td>\n",
       "      <td>1558378755</td>\n",
       "      <td>73</td>\n",
       "      <td>77.48</td>\n",
       "      <td>-69.36</td>\n",
       "      <td>22.20</td>\n",
       "      <td>2.37</td>\n",
       "    </tr>\n",
       "    <tr>\n",
       "      <th>3</th>\n",
       "      <td>3</td>\n",
       "      <td>zhuhai</td>\n",
       "      <td>0</td>\n",
       "      <td>CN</td>\n",
       "      <td>1558378755</td>\n",
       "      <td>39</td>\n",
       "      <td>40.71</td>\n",
       "      <td>112.04</td>\n",
       "      <td>44.60</td>\n",
       "      <td>4.47</td>\n",
       "    </tr>\n",
       "    <tr>\n",
       "      <th>4</th>\n",
       "      <td>4</td>\n",
       "      <td>cape town</td>\n",
       "      <td>20</td>\n",
       "      <td>ZA</td>\n",
       "      <td>1558378755</td>\n",
       "      <td>76</td>\n",
       "      <td>-33.93</td>\n",
       "      <td>18.42</td>\n",
       "      <td>55.99</td>\n",
       "      <td>8.05</td>\n",
       "    </tr>\n",
       "    <tr>\n",
       "      <th>...</th>\n",
       "      <td>...</td>\n",
       "      <td>...</td>\n",
       "      <td>...</td>\n",
       "      <td>...</td>\n",
       "      <td>...</td>\n",
       "      <td>...</td>\n",
       "      <td>...</td>\n",
       "      <td>...</td>\n",
       "      <td>...</td>\n",
       "      <td>...</td>\n",
       "    </tr>\n",
       "    <tr>\n",
       "      <th>543</th>\n",
       "      <td>543</td>\n",
       "      <td>yabrud</td>\n",
       "      <td>0</td>\n",
       "      <td>SY</td>\n",
       "      <td>1558378840</td>\n",
       "      <td>32</td>\n",
       "      <td>33.97</td>\n",
       "      <td>36.66</td>\n",
       "      <td>80.60</td>\n",
       "      <td>8.05</td>\n",
       "    </tr>\n",
       "    <tr>\n",
       "      <th>544</th>\n",
       "      <td>544</td>\n",
       "      <td>paraiso</td>\n",
       "      <td>5</td>\n",
       "      <td>MX</td>\n",
       "      <td>1558378898</td>\n",
       "      <td>4</td>\n",
       "      <td>24.01</td>\n",
       "      <td>-104.61</td>\n",
       "      <td>84.20</td>\n",
       "      <td>16.11</td>\n",
       "    </tr>\n",
       "    <tr>\n",
       "      <th>545</th>\n",
       "      <td>545</td>\n",
       "      <td>veraval</td>\n",
       "      <td>0</td>\n",
       "      <td>FR</td>\n",
       "      <td>1558378898</td>\n",
       "      <td>62</td>\n",
       "      <td>49.65</td>\n",
       "      <td>0.71</td>\n",
       "      <td>61.00</td>\n",
       "      <td>8.05</td>\n",
       "    </tr>\n",
       "    <tr>\n",
       "      <th>546</th>\n",
       "      <td>546</td>\n",
       "      <td>novyy urgal</td>\n",
       "      <td>100</td>\n",
       "      <td>RU</td>\n",
       "      <td>1558378899</td>\n",
       "      <td>93</td>\n",
       "      <td>51.07</td>\n",
       "      <td>132.56</td>\n",
       "      <td>49.74</td>\n",
       "      <td>2.68</td>\n",
       "    </tr>\n",
       "    <tr>\n",
       "      <th>547</th>\n",
       "      <td>547</td>\n",
       "      <td>tongren</td>\n",
       "      <td>4</td>\n",
       "      <td>CN</td>\n",
       "      <td>1558378899</td>\n",
       "      <td>64</td>\n",
       "      <td>27.72</td>\n",
       "      <td>109.18</td>\n",
       "      <td>55.86</td>\n",
       "      <td>2.84</td>\n",
       "    </tr>\n",
       "  </tbody>\n",
       "</table>\n",
       "<p>548 rows × 10 columns</p>\n",
       "</div>"
      ],
      "text/plain": [
       "     City_ID         City  Cloudiness Country        Date  Humidity    Lat  \\\n",
       "0          0    ostrovnoy           2      RU  1558378754        72  68.05   \n",
       "1          1    mahebourg          75      MU  1558378503        74 -20.41   \n",
       "2          2      qaanaaq          25      GL  1558378755        73  77.48   \n",
       "3          3       zhuhai           0      CN  1558378755        39  40.71   \n",
       "4          4    cape town          20      ZA  1558378755        76 -33.93   \n",
       "..       ...          ...         ...     ...         ...       ...    ...   \n",
       "543      543       yabrud           0      SY  1558378840        32  33.97   \n",
       "544      544      paraiso           5      MX  1558378898         4  24.01   \n",
       "545      545      veraval           0      FR  1558378898        62  49.65   \n",
       "546      546  novyy urgal         100      RU  1558378899        93  51.07   \n",
       "547      547      tongren           4      CN  1558378899        64  27.72   \n",
       "\n",
       "        Lng  Max Temp  Wind Speed  \n",
       "0     39.51     37.50        7.16  \n",
       "1     57.70     78.80       11.41  \n",
       "2    -69.36     22.20        2.37  \n",
       "3    112.04     44.60        4.47  \n",
       "4     18.42     55.99        8.05  \n",
       "..      ...       ...         ...  \n",
       "543   36.66     80.60        8.05  \n",
       "544 -104.61     84.20       16.11  \n",
       "545    0.71     61.00        8.05  \n",
       "546  132.56     49.74        2.68  \n",
       "547  109.18     55.86        2.84  \n",
       "\n",
       "[548 rows x 10 columns]"
      ]
     },
     "execution_count": 8,
     "metadata": {},
     "output_type": "execute_result"
    }
   ],
   "source": [
    "data = pd.read_csv(output_data_file)\n",
    "data"
   ]
  },
  {
   "cell_type": "code",
   "execution_count": 9,
   "metadata": {},
   "outputs": [
    {
     "data": {
      "text/html": [
       "<div>\n",
       "<style scoped>\n",
       "    .dataframe tbody tr th:only-of-type {\n",
       "        vertical-align: middle;\n",
       "    }\n",
       "\n",
       "    .dataframe tbody tr th {\n",
       "        vertical-align: top;\n",
       "    }\n",
       "\n",
       "    .dataframe thead th {\n",
       "        text-align: right;\n",
       "    }\n",
       "</style>\n",
       "<table border=\"1\" class=\"dataframe\">\n",
       "  <thead>\n",
       "    <tr style=\"text-align: right;\">\n",
       "      <th></th>\n",
       "      <th>City_ID</th>\n",
       "      <th>City</th>\n",
       "      <th>Cloudiness</th>\n",
       "      <th>Country</th>\n",
       "      <th>Date</th>\n",
       "      <th>Humidity</th>\n",
       "      <th>Lat</th>\n",
       "      <th>Lng</th>\n",
       "      <th>Max Temp</th>\n",
       "      <th>Wind Speed</th>\n",
       "    </tr>\n",
       "  </thead>\n",
       "  <tbody>\n",
       "    <tr>\n",
       "      <th>0</th>\n",
       "      <td>0</td>\n",
       "      <td>ostrovnoy</td>\n",
       "      <td>2</td>\n",
       "      <td>RU</td>\n",
       "      <td>1558378754</td>\n",
       "      <td>72</td>\n",
       "      <td>68.05</td>\n",
       "      <td>39.51</td>\n",
       "      <td>37.50</td>\n",
       "      <td>7.16</td>\n",
       "    </tr>\n",
       "    <tr>\n",
       "      <th>1</th>\n",
       "      <td>1</td>\n",
       "      <td>mahebourg</td>\n",
       "      <td>75</td>\n",
       "      <td>MU</td>\n",
       "      <td>1558378503</td>\n",
       "      <td>74</td>\n",
       "      <td>-20.41</td>\n",
       "      <td>57.70</td>\n",
       "      <td>78.80</td>\n",
       "      <td>11.41</td>\n",
       "    </tr>\n",
       "    <tr>\n",
       "      <th>2</th>\n",
       "      <td>2</td>\n",
       "      <td>qaanaaq</td>\n",
       "      <td>25</td>\n",
       "      <td>GL</td>\n",
       "      <td>1558378755</td>\n",
       "      <td>73</td>\n",
       "      <td>77.48</td>\n",
       "      <td>-69.36</td>\n",
       "      <td>22.20</td>\n",
       "      <td>2.37</td>\n",
       "    </tr>\n",
       "    <tr>\n",
       "      <th>3</th>\n",
       "      <td>3</td>\n",
       "      <td>zhuhai</td>\n",
       "      <td>0</td>\n",
       "      <td>CN</td>\n",
       "      <td>1558378755</td>\n",
       "      <td>39</td>\n",
       "      <td>40.71</td>\n",
       "      <td>112.04</td>\n",
       "      <td>44.60</td>\n",
       "      <td>4.47</td>\n",
       "    </tr>\n",
       "    <tr>\n",
       "      <th>4</th>\n",
       "      <td>4</td>\n",
       "      <td>cape town</td>\n",
       "      <td>20</td>\n",
       "      <td>ZA</td>\n",
       "      <td>1558378755</td>\n",
       "      <td>76</td>\n",
       "      <td>-33.93</td>\n",
       "      <td>18.42</td>\n",
       "      <td>55.99</td>\n",
       "      <td>8.05</td>\n",
       "    </tr>\n",
       "  </tbody>\n",
       "</table>\n",
       "</div>"
      ],
      "text/plain": [
       "   City_ID       City  Cloudiness Country        Date  Humidity    Lat  \\\n",
       "0        0  ostrovnoy           2      RU  1558378754        72  68.05   \n",
       "1        1  mahebourg          75      MU  1558378503        74 -20.41   \n",
       "2        2    qaanaaq          25      GL  1558378755        73  77.48   \n",
       "3        3     zhuhai           0      CN  1558378755        39  40.71   \n",
       "4        4  cape town          20      ZA  1558378755        76 -33.93   \n",
       "\n",
       "      Lng  Max Temp  Wind Speed  \n",
       "0   39.51     37.50        7.16  \n",
       "1   57.70     78.80       11.41  \n",
       "2  -69.36     22.20        2.37  \n",
       "3  112.04     44.60        4.47  \n",
       "4   18.42     55.99        8.05  "
      ]
     },
     "execution_count": 9,
     "metadata": {},
     "output_type": "execute_result"
    }
   ],
   "source": [
    "data_df = pd.DataFrame(data)\n",
    "data_df.head()"
   ]
  },
  {
   "cell_type": "code",
   "execution_count": null,
   "metadata": {},
   "outputs": [],
   "source": [
    "\n",
    "\n"
   ]
  },
  {
   "cell_type": "code",
   "execution_count": 11,
   "metadata": {},
   "outputs": [
    {
     "name": "stdout",
     "output_type": "stream",
     "text": [
      "Processing Record 1 | Chui\n",
      "Processing Record 2 | Hofn\n",
      "Processing Record 3 | Hong Kong\n",
      "Processing Record 4 | Avarua\n",
      "Processing Record 5 | Iralaya\n",
      "Processing Record 6 | Santa Isabel\n",
      "Processing Record 7 | Lüderitz\n",
      "Processing Record 8 | Guasdualito\n",
      "Processing Record 9 | Thompson\n",
      "Processing Record 10 | Ushuaia\n",
      "Processing Record 11 | São José da Coroa Grande\n",
      "Processing Record 12 | Beringovskiy\n",
      "Processing Record 13 | Lasem\n",
      "Processing Record 14 | Gillette\n",
      "Processing Record 15 | Conceição do Araguaia\n",
      "Processing Record 16 | Baracoa\n",
      "Processing Record 17 | Nicoya\n",
      "Processing Record 18 | Bluff\n",
      "Processing Record 19 | Ribeira Grande\n",
      "Processing Record 20 | Punta Arenas\n",
      "Processing Record 21 | New Norfolk\n",
      "Processing Record 22 | Sotik Post\n",
      "Processing Record 23 | Airai\n",
      "Processing Record 24 | Tasiilaq\n",
      "City not found. Skipping...\n",
      "Processing Record 25 | Cape Town\n",
      "Processing Record 26 | Kaitangata\n",
      "Processing Record 27 | Benghazi\n",
      "Processing Record 28 | Rio Pomba\n",
      "Processing Record 29 | Talnakh\n",
      "Processing Record 30 | Hobart\n",
      "City not found. Skipping...\n",
      "City not found. Skipping...\n",
      "City not found. Skipping...\n",
      "Processing Record 31 | Albany\n",
      "Processing Record 32 | Codrington\n",
      "Processing Record 33 | Rikitea\n",
      "Processing Record 34 | Nantucket\n",
      "Processing Record 35 | Pokaran\n",
      "Processing Record 36 | Jamestown\n",
      "Processing Record 37 | Kalemie\n",
      "Processing Record 38 | Atar\n",
      "Processing Record 39 | Kamenka\n",
      "Processing Record 40 | Nome\n",
      "Processing Record 41 | Mount Isa\n",
      "Processing Record 42 | Sittwe\n",
      "Processing Record 43 | Callaway\n",
      "Processing Record 44 | Lufilufi\n",
      "Processing Record 45 | Babati\n",
      "Processing Record 46 | Kapaa\n",
      "Processing Record 47 | Necochea\n",
      "Processing Record 48 | Tigil'\n",
      "Processing Record 49 | East London\n",
      "Processing Record 50 | Intipucá\n",
      "Processing Record 51 | Upernavik\n",
      "Processing Record 52 | Peleduy\n",
      "Processing Record 53 | Mataura\n",
      "Processing Record 54 | Yarim\n",
      "Processing Record 55 | Bonfim\n",
      "Processing Record 56 | Gemeente Wageningen\n",
      "Processing Record 57 | Chokurdakh\n",
      "Processing Record 58 | Mar del Plata\n",
      "Processing Record 59 | Beyneu\n",
      "Processing Record 60 | Sandusky\n",
      "Processing Record 61 | Prince Rupert\n",
      "Processing Record 62 | Teguise\n",
      "Processing Record 63 | Saint George\n",
      "Processing Record 64 | Biak\n",
      "Processing Record 65 | Monmouth\n",
      "Processing Record 66 | Okahandja\n",
      "Processing Record 67 | Fortuna\n",
      "City not found. Skipping...\n",
      "Processing Record 68 | Dunedin\n",
      "Processing Record 69 | Butaritari\n",
      "Processing Record 70 | Kerrville\n",
      "Processing Record 71 | Suntar\n",
      "Processing Record 72 | Lorengau\n",
      "Processing Record 73 | Lata\n",
      "City not found. Skipping...\n",
      "Processing Record 74 | Hithadhoo\n",
      "Processing Record 75 | Mbekenyera\n",
      "Processing Record 76 | Nikolskoye\n",
      "Processing Record 77 | Cootamundra\n",
      "City not found. Skipping...\n",
      "Processing Record 78 | Klaksvík\n",
      "Processing Record 79 | Castro\n",
      "Processing Record 80 | Katsuura\n",
      "Processing Record 81 | Paamiut\n",
      "Processing Record 82 | Muroto-misakicho\n",
      "Processing Record 83 | Chumikan\n",
      "Processing Record 84 | Ponta do Sol\n",
      "Processing Record 85 | Lubaczów\n",
      "Processing Record 86 | George Town\n",
      "Processing Record 87 | Fort Dodge\n",
      "Processing Record 88 | Chernyshevskiy\n",
      "Processing Record 89 | Busselton\n",
      "Processing Record 90 | Port Elizabeth\n",
      "Processing Record 91 | Port Augusta\n",
      "Processing Record 92 | Peniche\n",
      "Processing Record 93 | Faanui\n",
      "Processing Record 94 | Sumbe\n",
      "Processing Record 95 | Vaini\n",
      "City not found. Skipping...\n",
      "Processing Record 96 | Cayenne\n",
      "Processing Record 97 | Barrow\n",
      "Processing Record 98 | Kruisfontein\n",
      "Processing Record 99 | Kumul\n",
      "Processing Record 100 | Mahanoro\n",
      "Processing Record 101 | Yellowknife\n",
      "City not found. Skipping...\n",
      "Processing Record 102 | Qaanaaq\n",
      "Processing Record 103 | Narsaq\n",
      "City not found. Skipping...\n",
      "Processing Record 104 | Viedma\n",
      "Processing Record 105 | Batangafo\n",
      "Processing Record 106 | Arraial do Cabo\n",
      "Processing Record 107 | The Valley\n",
      "Processing Record 108 | Clyde River\n",
      "Processing Record 109 | Bicester\n",
      "Processing Record 110 | Tutóia\n",
      "Processing Record 111 | Noumea\n",
      "Processing Record 112 | Saint Anthony\n",
      "Processing Record 113 | Dikson\n",
      "City not found. Skipping...\n",
      "Processing Record 114 | Guymon\n",
      "Processing Record 115 | Tuktoyaktuk\n",
      "Processing Record 116 | Kieta\n",
      "Processing Record 117 | Kiryat Gat\n",
      "Processing Record 118 | Henties Bay\n",
      "City not found. Skipping...\n",
      "Processing Record 119 | Hermanus\n",
      "Processing Record 120 | Nefteyugansk\n",
      "Processing Record 121 | Denpasar\n",
      "Processing Record 122 | Khatanga\n",
      "Processing Record 123 | Norman Wells\n",
      "Processing Record 124 | Būlaevo\n",
      "Processing Record 125 | Lompoc\n",
      "Processing Record 126 | Wuxi\n",
      "Processing Record 127 | Ahipara\n",
      "Processing Record 128 | Ola\n",
      "Processing Record 129 | Vila Velha\n",
      "City not found. Skipping...\n",
      "Processing Record 130 | Ambanja\n",
      "Processing Record 131 | Vila Franca do Campo\n",
      "Processing Record 132 | Provideniya\n",
      "Processing Record 133 | Kidal\n",
      "Processing Record 134 | Karakol\n",
      "Processing Record 135 | Puerto del Rosario\n",
      "Processing Record 136 | Esperance\n",
      "Processing Record 137 | Lebu\n",
      "Processing Record 138 | Souillac\n",
      "Processing Record 139 | Kupang\n",
      "Processing Record 140 | Port Blair\n",
      "Processing Record 141 | Vostok\n",
      "Processing Record 142 | Saldanha\n",
      "Processing Record 143 | Asău\n",
      "Processing Record 144 | Pacific Grove\n",
      "Processing Record 145 | Atuona\n",
      "City not found. Skipping...\n",
      "Processing Record 146 | Hilo\n",
      "Processing Record 147 | Port-Cartier\n",
      "Processing Record 148 | Bredasdorp\n",
      "Processing Record 149 | Mayachnyy\n",
      "City not found. Skipping...\n",
      "Processing Record 150 | Harper\n",
      "Processing Record 151 | Sumenep\n",
      "City not found. Skipping...\n",
      "Processing Record 152 | Guane\n",
      "Processing Record 153 | Taoudenni\n",
      "Processing Record 154 | Dhārchula\n",
      "Processing Record 155 | San Quintín\n",
      "Processing Record 156 | Petropavlovsk-Kamchatskiy\n",
      "Processing Record 157 | Kahului\n",
      "Processing Record 158 | Sušice\n",
      "Processing Record 159 | Buraidah\n",
      "Processing Record 160 | Oruzgan\n",
      "Processing Record 161 | Porto Walter\n",
      "Processing Record 162 | Gornorechenskiy\n",
      "Processing Record 163 | Port Alfred\n",
      "Processing Record 164 | Tadine\n",
      "Processing Record 165 | Cam Ranh\n",
      "Processing Record 166 | Puerto Ayora\n",
      "Processing Record 167 | Saskylakh\n",
      "Processing Record 168 | Gigmoto\n",
      "Processing Record 169 | Sirte\n",
      "Processing Record 170 | Sassandra\n",
      "Processing Record 171 | Carnarvon\n",
      "Processing Record 172 | San Patricio\n",
      "City not found. Skipping...\n",
      "Processing Record 173 | Grindavik\n",
      "Processing Record 174 | Tamandaré\n",
      "Processing Record 175 | Nhamundá\n",
      "Processing Record 176 | High Rock\n",
      "Processing Record 177 | Shingū\n",
      "Processing Record 178 | Champerico\n",
      "Processing Record 179 | Vestmannaeyjar\n",
      "Processing Record 180 | Caravelas\n",
      "Processing Record 181 | Wagar\n",
      "Processing Record 182 | Westerly\n",
      "Processing Record 183 | São João da Barra\n",
      "Processing Record 184 | Port Keats\n",
      "Processing Record 185 | Cannes\n",
      "Processing Record 186 | Changchun\n",
      "Processing Record 187 | Panabá\n",
      "Processing Record 188 | Saint-Philippe\n",
      "Processing Record 189 | Phan Thiet\n",
      "City not found. Skipping...\n",
      "Processing Record 190 | Tura\n",
      "Processing Record 191 | Port Lincoln\n",
      "Processing Record 192 | Sitka\n",
      "Processing Record 193 | Baykit\n",
      "Processing Record 194 | Shakiso\n",
      "Processing Record 195 | Salalah\n",
      "Processing Record 196 | Sioux Lookout\n",
      "City not found. Skipping...\n",
      "Processing Record 197 | Zhezkazgan\n",
      "City not found. Skipping...\n",
      "Processing Record 198 | Buluang\n",
      "Processing Record 199 | Padang\n",
      "Processing Record 200 | Saint-Louis\n",
      "Processing Record 201 | Bethel\n",
      "Processing Record 202 | Outlook\n",
      "Processing Record 203 | Liverpool\n",
      "Processing Record 204 | Bojnourd\n",
      "Processing Record 205 | Sur\n",
      "Processing Record 206 | Marrakesh\n",
      "Processing Record 207 | Bengkulu\n",
      "Processing Record 208 | Ust-Kuyga\n",
      "Processing Record 209 | Wamba\n",
      "Processing Record 210 | Aranos\n",
      "Processing Record 211 | Esim\n",
      "Processing Record 212 | Katrineholm\n",
      "Processing Record 213 | Nur\n",
      "Processing Record 214 | Cidreira\n",
      "Processing Record 215 | Ağdaş\n",
      "Processing Record 216 | Leningradskiy\n",
      "Processing Record 217 | Refojos de Basto\n",
      "Processing Record 218 | Bonavista\n",
      "Processing Record 219 | Ilulissat\n",
      "Processing Record 220 | Hualmay\n",
      "Processing Record 221 | Longyearbyen\n",
      "Processing Record 222 | Manavālakurichi\n",
      "Processing Record 223 | Lavrentiya\n",
      "Processing Record 224 | Huarmey\n",
      "Processing Record 225 | Rocha\n",
      "Processing Record 226 | Bilma\n",
      "Processing Record 227 | Makakilo City\n",
      "Processing Record 228 | Lagos\n",
      "Processing Record 229 | Topolobampo\n",
      "City not found. Skipping...\n",
      "Processing Record 230 | Pasni\n",
      "Processing Record 231 | Port Macquarie\n"
     ]
    },
    {
     "name": "stdout",
     "output_type": "stream",
     "text": [
      "Processing Record 232 | Olinda\n",
      "Processing Record 233 | Mahébourg\n",
      "Processing Record 234 | Rantauprapat\n",
      "Processing Record 235 | Impfondo\n",
      "Processing Record 236 | Te Anau\n",
      "Processing Record 237 | Jumla\n",
      "Processing Record 238 | Husavik\n",
      "Processing Record 239 | Benguela\n",
      "Processing Record 240 | Amapá\n",
      "Processing Record 241 | Flin Flon\n",
      "Processing Record 242 | Naze\n",
      "Processing Record 243 | Torbay\n",
      "Processing Record 244 | Hay River\n",
      "Processing Record 245 | Saint Paul Harbor\n",
      "Processing Record 246 | Otukpo\n",
      "Processing Record 247 | Forsytheganj\n",
      "Processing Record 248 | Kafanchan\n",
      "Processing Record 249 | Hasaki\n",
      "Processing Record 250 | Mangai\n",
      "Processing Record 251 | Havelock\n",
      "Processing Record 252 | Sechura\n",
      "Processing Record 253 | Cabo San Lucas\n",
      "Processing Record 254 | Tual\n",
      "Processing Record 255 | Pochutla\n",
      "Processing Record 256 | Quatre Cocos\n",
      "Processing Record 257 | São Filipe\n",
      "Processing Record 258 | Bakel\n",
      "Processing Record 259 | Aklavik\n",
      "Processing Record 260 | Portsmouth\n",
      "Processing Record 261 | Wuwei\n",
      "Processing Record 262 | Guerrero Negro\n",
      "City not found. Skipping...\n",
      "Processing Record 263 | Riyadh\n",
      "Processing Record 264 | Severo-Kuril'sk\n",
      "Processing Record 265 | Saint-Leu\n",
      "Processing Record 266 | Oistins\n",
      "Processing Record 267 | Tegul'det\n",
      "Processing Record 268 | Balabac\n",
      "Processing Record 269 | Iqaluit\n",
      "Processing Record 270 | Manacapuru\n",
      "Processing Record 271 | Cabra\n",
      "Processing Record 272 | Tuatapere\n",
      "Processing Record 273 | Pevek\n",
      "Processing Record 274 | Leopold\n",
      "Processing Record 275 | Havøysund\n",
      "Processing Record 276 | Zhigansk\n",
      "Processing Record 277 | Hearst\n",
      "Processing Record 278 | San Andrés\n",
      "Processing Record 279 | Sayyan\n",
      "Processing Record 280 | Jerome\n",
      "Processing Record 281 | Ust-Nera\n",
      "Processing Record 282 | Vetlanda\n",
      "Processing Record 283 | Comodoro Rivadavia\n",
      "Processing Record 284 | Bariloche\n",
      "Processing Record 285 | Dehui\n",
      "Processing Record 286 | Mehamn\n",
      "Processing Record 287 | Ostrovnoy\n",
      "Processing Record 288 | Governador Valadares\n",
      "Processing Record 289 | Khovd\n",
      "Processing Record 290 | Coffs Harbour\n",
      "City not found. Skipping...\n",
      "Processing Record 291 | Brae\n",
      "Processing Record 292 | Koutsouras\n",
      "City not found. Skipping...\n",
      "Processing Record 293 | Jaisalmer\n",
      "Processing Record 294 | Salinas\n",
      "Processing Record 295 | Namie\n",
      "Processing Record 296 | Okhotsk\n",
      "Processing Record 297 | Kencong\n",
      "City not found. Skipping...\n",
      "Processing Record 298 | Yumen\n",
      "City not found. Skipping...\n",
      "Processing Record 299 | Micheweni\n",
      "Processing Record 300 | Smithers\n",
      "Processing Record 301 | Namatanai\n",
      "Processing Record 302 | Saint-Augustin\n",
      "Processing Record 303 | Tūkrah\n",
      "Processing Record 304 | Central Point\n",
      "Processing Record 305 | São João do Paraíso\n",
      "Processing Record 306 | Anchorage\n",
      "Processing Record 307 | Haines Junction\n",
      "Processing Record 308 | Kirovskiy\n",
      "Processing Record 309 | Abu Dhabi\n",
      "Processing Record 310 | Channel-Port aux Basques\n",
      "Processing Record 311 | Angoche\n",
      "Processing Record 312 | Camacha\n",
      "Processing Record 313 | Cap Malheureux\n",
      "Processing Record 314 | Mungwi\n",
      "Processing Record 315 | County Wicklow\n",
      "Processing Record 316 | Mahon\n",
      "Processing Record 317 | Ancud\n",
      "Processing Record 318 | Yulara\n",
      "Processing Record 319 | Chicama\n",
      "Processing Record 320 | Aldan\n",
      "Processing Record 321 | Labuhan\n",
      "Processing Record 322 | Hudson Bay\n",
      "Processing Record 323 | Zaysan\n",
      "Processing Record 324 | Makokou\n",
      "Processing Record 325 | Tiksi\n",
      "Processing Record 326 | Makurdi\n",
      "Processing Record 327 | Hede\n",
      "Processing Record 328 | Tauramena\n",
      "Processing Record 329 | Seoul\n",
      "Processing Record 330 | Corrente\n",
      "Processing Record 331 | Vestmanna\n",
      "Processing Record 332 | Palu\n",
      "City not found. Skipping...\n",
      "Processing Record 333 | Fairbanks\n",
      "Processing Record 334 | Gryazovets\n",
      "Processing Record 335 | Okato\n",
      "Processing Record 336 | Erdenet\n",
      "Processing Record 337 | Mosetse\n",
      "Processing Record 338 | Kitimat\n",
      "Processing Record 339 | Shemonaīkha\n",
      "Processing Record 340 | Araouane\n",
      "Processing Record 341 | Geraldton\n",
      "Processing Record 342 | Kushmurun\n",
      "Processing Record 343 | Fort-Shevchenko\n",
      "Processing Record 344 | Chenzhou\n",
      "Processing Record 345 | Alta Floresta\n",
      "Processing Record 346 | Tsévié\n",
      "Processing Record 347 | Planovskoye\n",
      "Processing Record 348 | Zhengjiatun\n",
      "Processing Record 349 | Los Llanos de Aridane\n",
      "Processing Record 350 | Lagoa\n",
      "Processing Record 351 | Adra\n",
      "Processing Record 352 | Villa Vicente Guerrero\n",
      "Processing Record 353 | Hamilton\n",
      "Processing Record 354 | Jalu\n",
      "City not found. Skipping...\n",
      "Processing Record 355 | Ossora\n",
      "Processing Record 356 | Poum\n",
      "Processing Record 357 | Xai-Xai\n",
      "Processing Record 358 | Igarka\n",
      "City not found. Skipping...\n",
      "Processing Record 359 | Santa Cruz\n",
      "Processing Record 360 | Sidi Ali\n",
      "Processing Record 361 | Pisco\n",
      "Processing Record 362 | Río Tercero\n",
      "Processing Record 363 | Vanimo\n",
      "Processing Record 364 | Gornopravdinsk\n",
      "Processing Record 365 | Marolambo\n",
      "Processing Record 366 | Saint-Hubert\n",
      "Processing Record 367 | Jizan\n",
      "City not found. Skipping...\n",
      "Processing Record 368 | Nokaneng\n",
      "Processing Record 369 | Oruro\n",
      "Processing Record 370 | Itumba\n",
      "Processing Record 371 | Bandarbeyla\n",
      "Processing Record 372 | Tufānganj\n",
      "Processing Record 373 | Fes\n",
      "Processing Record 374 | Tefé\n",
      "Processing Record 375 | Cabedelo\n",
      "Processing Record 376 | Inírida\n",
      "Processing Record 377 | Aksu\n",
      "Processing Record 378 | Faya\n",
      "Processing Record 379 | Catabola\n",
      "Processing Record 380 | Manggar\n",
      "Processing Record 381 | Balkanabat\n",
      "Processing Record 382 | Plaster Rock\n",
      "City not found. Skipping...\n",
      "Processing Record 383 | Aykhal\n",
      "Processing Record 384 | Oranjemund\n",
      "Processing Record 385 | Talaya\n",
      "Processing Record 386 | Srednekolymsk\n",
      "Processing Record 387 | Karratha\n",
      "Processing Record 388 | Lüshunkou\n",
      "Processing Record 389 | Whitehorse\n",
      "Processing Record 390 | Gornyy\n",
      "City not found. Skipping...\n",
      "Processing Record 391 | Carutapera\n",
      "Processing Record 392 | Bambanglipuro\n",
      "Processing Record 393 | Nouadhibou\n",
      "Processing Record 394 | Manakara\n",
      "Processing Record 395 | Bull Savanna\n",
      "Processing Record 396 | Praia da Vitória\n",
      "Processing Record 397 | Liancheng\n",
      "Processing Record 398 | Pangnirtung\n",
      "City not found. Skipping...\n",
      "Processing Record 399 | Mayor Pablo Lagerenza\n",
      "Processing Record 400 | Otradnoye\n",
      "City not found. Skipping...\n",
      "Processing Record 401 | Beisfjord\n",
      "Processing Record 402 | Cherskiy\n",
      "Processing Record 403 | Merauke\n",
      "Processing Record 404 | Puerto Baquerizo Moreno\n",
      "Processing Record 405 | Ajdabiya\n",
      "Processing Record 406 | Ocean City\n",
      "Processing Record 407 | Pemangkat\n",
      "Processing Record 408 | Mormugao\n",
      "Processing Record 409 | La Rioja\n",
      "Processing Record 410 | Hervey Bay\n",
      "Processing Record 411 | Macao\n",
      "Processing Record 412 | New Lenox\n",
      "Processing Record 413 | Dingle\n",
      "Processing Record 414 | Beloha\n",
      "Processing Record 415 | Nelson Bay\n",
      "Processing Record 416 | Ivanava\n",
      "Processing Record 417 | Olivenza\n",
      "Processing Record 418 | Maceió\n",
      "City not found. Skipping...\n",
      "Processing Record 419 | Baruun-Urt\n",
      "Processing Record 420 | Río Gallegos\n",
      "Processing Record 421 | Shimoda\n",
      "City not found. Skipping...\n",
      "City not found. Skipping...\n",
      "City not found. Skipping...\n",
      "Processing Record 422 | Bambous Virieux\n",
      "Processing Record 423 | Matagami\n",
      "Processing Record 424 | Sarāhan\n",
      "Processing Record 425 | Olafsvik\n",
      "Processing Record 426 | Buckeye\n",
      "Processing Record 427 | Sapa\n",
      "Processing Record 428 | Mwinilunga\n",
      "Processing Record 429 | Santa Maria\n",
      "Processing Record 430 | Portland\n",
      "Processing Record 431 | Vardø\n",
      "Processing Record 432 | Tlacotepec (San Mateo)\n",
      "City not found. Skipping...\n",
      "City not found. Skipping...\n",
      "Processing Record 433 | Bathsheba\n",
      "Processing Record 434 | Mossamedes\n",
      "Processing Record 435 | Keuruu\n",
      "City not found. Skipping...\n",
      "Processing Record 436 | Rāikot\n",
      "Processing Record 437 | Flinders\n",
      "Processing Record 438 | Northam\n",
      "City not found. Skipping...\n",
      "Processing Record 439 | Marzuq\n",
      "Processing Record 440 | Meulaboh\n",
      "Processing Record 441 | Luorong\n",
      "Processing Record 442 | Zheleznodorozhnyy\n",
      "Processing Record 443 | Lastoursville\n",
      "Processing Record 444 | Grants\n",
      "Processing Record 445 | Gao\n",
      "Processing Record 446 | Ciudad Bolivar\n",
      "Processing Record 447 | Brigantine\n",
      "Processing Record 448 | Pincher Creek\n",
      "Processing Record 449 | Arraias\n",
      "Processing Record 450 | Kwinana\n",
      "Processing Record 451 | Santa Luzia\n",
      "Processing Record 452 | Dourbali\n",
      "Processing Record 453 | Kavieng\n",
      "City not found. Skipping...\n",
      "Processing Record 454 | Eureka\n",
      "Processing Record 455 | Rundu\n",
      "Processing Record 456 | Japura\n",
      "Processing Record 457 | Atagay\n"
     ]
    },
    {
     "name": "stdout",
     "output_type": "stream",
     "text": [
      "Processing Record 458 | Mineros\n",
      "Processing Record 459 | Itarema\n",
      "Processing Record 460 | Florianópolis\n",
      "Processing Record 461 | Rome\n",
      "Processing Record 462 | Weligama\n",
      "Processing Record 463 | Baní\n",
      "Processing Record 464 | Port Hardy\n",
      "Processing Record 465 | Sakakah\n",
      "Processing Record 466 | Dekar\n",
      "Processing Record 467 | Porkhov\n",
      "Processing Record 468 | Verkhnevilyuysk\n",
      "Processing Record 469 | Kavaratti\n",
      "Processing Record 470 | Mayma\n",
      "Processing Record 471 | Brazzaville\n",
      "Processing Record 472 | Kimbe\n",
      "Processing Record 473 | Atambua\n",
      "Processing Record 474 | Coahuayana Viejo\n",
      "Processing Record 475 | Bechem\n",
      "Processing Record 476 | Shizunai-furukawachō\n",
      "Processing Record 477 | Cairns\n",
      "Processing Record 478 | Opoczno\n",
      "Processing Record 479 | Paso de Carrasco\n",
      "Processing Record 480 | Kankan\n",
      "Processing Record 481 | Tambura\n",
      "City not found. Skipping...\n",
      "Processing Record 482 | Evensk\n",
      "Processing Record 483 | Ixtapa\n",
      "Processing Record 484 | Jatai\n",
      "Processing Record 485 | Yar-Sale\n",
      "Processing Record 486 | Fort Nelson\n",
      "Processing Record 487 | Kaeo\n",
      "Processing Record 488 | Kholodnyy\n",
      "Processing Record 489 | Luanda\n",
      "Processing Record 490 | Matara\n",
      "Processing Record 491 | Houma\n",
      "Processing Record 492 | Aberdeen\n",
      "Processing Record 493 | Indianola\n",
      "Processing Record 494 | Yining\n",
      "Processing Record 495 | Skjervøy\n",
      "Processing Record 496 | Sørland\n",
      "Processing Record 497 | Irpa Irpa\n",
      "Processing Record 498 | Yatou\n",
      "Processing Record 499 | Belyy Yar\n",
      "City not found. Skipping...\n",
      "Processing Record 500 | Kununurra\n",
      "Processing Record 501 | Caçapava do Sul\n",
      "City not found. Skipping...\n",
      "Processing Record 502 | Nemuro\n",
      "Processing Record 503 | Kroya\n",
      "City not found. Skipping...\n",
      "Processing Record 504 | Sulangan\n",
      "Processing Record 505 | Eldorado\n",
      "Processing Record 506 | Praxédis Guerrero\n",
      "Processing Record 507 | Enem\n",
      "Processing Record 508 | Kelvington\n",
      "Processing Record 509 | Sayhāt\n",
      "Processing Record 510 | Ilo\n",
      "Processing Record 511 | Obo\n",
      "Processing Record 512 | Hobyo\n",
      "Processing Record 513 | Hanzhong\n",
      "Processing Record 514 | Broome\n",
      "Processing Record 515 | Turan\n",
      "Processing Record 516 | Vidim\n",
      "Processing Record 517 | Svetlaya\n",
      "Processing Record 518 | Valparaíso\n",
      "Processing Record 519 | Havre-St-Pierre\n",
      "Processing Record 520 | Price\n",
      "Processing Record 521 | Ukiah\n",
      "Processing Record 522 | Mount Gambier\n",
      "Processing Record 523 | Christchurch\n",
      "Processing Record 524 | Puerto Colombia\n",
      "Processing Record 525 | Krasnoarmeyskoye\n",
      "Processing Record 526 | Muhos\n",
      "Processing Record 527 | Kailua\n",
      "Processing Record 528 | Coolum Beach\n",
      "City not found. Skipping...\n",
      "Processing Record 529 | Muros\n",
      "Processing Record 530 | Vilyuysk\n",
      "Processing Record 531 | Bonthe\n",
      "Processing Record 532 | Karlstad\n",
      "City not found. Skipping...\n",
      "Processing Record 533 | Morón\n",
      "City not found. Skipping...\n",
      "Processing Record 534 | Tazovsky\n",
      "Processing Record 535 | Farafangana\n",
      "City not found. Skipping...\n",
      "Processing Record 536 | Buala\n",
      "Processing Record 537 | Ivdel'\n",
      "Processing Record 538 | Emerald\n",
      "Processing Record 539 | La Reforma\n",
      "Processing Record 540 | Porto-Novo\n",
      "Processing Record 541 | Mahibadhoo\n",
      "Processing Record 542 | Bograd\n",
      "Processing Record 543 | Peiting\n",
      "Processing Record 544 | Barcelona\n",
      "Processing Record 545 | Marquette\n",
      "Processing Record 546 | Kempsey\n",
      "Processing Record 547 | Touros\n",
      "Processing Record 548 | Star\n",
      "Processing Record 549 | Valentín Gómez Farías\n",
      "Processing Record 550 | Susurluk\n",
      "Processing Record 551 | Shitkino\n",
      "Processing Record 552 | Beidao\n",
      "City not found. Skipping...\n",
      "City not found. Skipping...\n",
      "Processing Record 553 | Aginskoye\n",
      "Processing Record 554 | Xiongyue\n",
      "Processing Record 555 | Calbuco\n",
      "Processing Record 556 | Ţahţā\n",
      "Processing Record 557 | Krasnosel'kup\n",
      "['Chui', 'Hofn', 'Hong Kong', 'Avarua', 'Iralaya', 'Santa Isabel', 'Lüderitz', 'Guasdualito', 'Thompson', 'Ushuaia', 'São José da Coroa Grande', 'Beringovskiy', 'Lasem', 'Gillette', 'Conceição do Araguaia', 'Baracoa', 'Nicoya', 'Bluff', 'Ribeira Grande', 'Punta Arenas', 'New Norfolk', 'Sotik Post', 'Airai', 'Tasiilaq', 'Cape Town', 'Kaitangata', 'Benghazi', 'Rio Pomba', 'Talnakh', 'Hobart', 'Albany', 'Codrington', 'Rikitea', 'Nantucket', 'Pokaran', 'Jamestown', 'Kalemie', 'Atar', 'Kamenka', 'Nome', 'Mount Isa', 'Sittwe', 'Callaway', 'Lufilufi', 'Babati', 'Kapaa', 'Necochea', \"Tigil'\", 'East London', 'Intipucá', 'Upernavik', 'Peleduy', 'Mataura', 'Yarim', 'Bonfim', 'Gemeente Wageningen', 'Chokurdakh', 'Mar del Plata', 'Beyneu', 'Sandusky', 'Prince Rupert', 'Teguise', 'Saint George', 'Biak', 'Monmouth', 'Okahandja', 'Fortuna', 'Dunedin', 'Butaritari', 'Kerrville', 'Suntar', 'Lorengau', 'Lata', 'Hithadhoo', 'Mbekenyera', 'Nikolskoye', 'Cootamundra', 'Klaksvík', 'Castro', 'Katsuura', 'Paamiut', 'Muroto-misakicho', 'Chumikan', 'Ponta do Sol', 'Lubaczów', 'George Town', 'Fort Dodge', 'Chernyshevskiy', 'Busselton', 'Port Elizabeth', 'Port Augusta', 'Peniche', 'Faanui', 'Sumbe', 'Vaini', 'Cayenne', 'Barrow', 'Kruisfontein', 'Kumul', 'Mahanoro', 'Yellowknife', 'Qaanaaq', 'Narsaq', 'Viedma', 'Batangafo', 'Arraial do Cabo', 'The Valley', 'Clyde River', 'Bicester', 'Tutóia', 'Noumea', 'Saint Anthony', 'Dikson', 'Guymon', 'Tuktoyaktuk', 'Kieta', 'Kiryat Gat', 'Henties Bay', 'Hermanus', 'Nefteyugansk', 'Denpasar', 'Khatanga', 'Norman Wells', 'Būlaevo', 'Lompoc', 'Wuxi', 'Ahipara', 'Ola', 'Vila Velha', 'Ambanja', 'Vila Franca do Campo', 'Provideniya', 'Kidal', 'Karakol', 'Puerto del Rosario', 'Esperance', 'Lebu', 'Souillac', 'Kupang', 'Port Blair', 'Vostok', 'Saldanha', 'Asău', 'Pacific Grove', 'Atuona', 'Hilo', 'Port-Cartier', 'Bredasdorp', 'Mayachnyy', 'Harper', 'Sumenep', 'Guane', 'Taoudenni', 'Dhārchula', 'San Quintín', 'Petropavlovsk-Kamchatskiy', 'Kahului', 'Sušice', 'Buraidah', 'Oruzgan', 'Porto Walter', 'Gornorechenskiy', 'Port Alfred', 'Tadine', 'Cam Ranh', 'Puerto Ayora', 'Saskylakh', 'Gigmoto', 'Sirte', 'Sassandra', 'Carnarvon', 'San Patricio', 'Grindavik', 'Tamandaré', 'Nhamundá', 'High Rock', 'Shingū', 'Champerico', 'Vestmannaeyjar', 'Caravelas', 'Wagar', 'Westerly', 'São João da Barra', 'Port Keats', 'Cannes', 'Changchun', 'Panabá', 'Saint-Philippe', 'Phan Thiet', 'Tura', 'Port Lincoln', 'Sitka', 'Baykit', 'Shakiso', 'Salalah', 'Sioux Lookout', 'Zhezkazgan', 'Buluang', 'Padang', 'Saint-Louis', 'Bethel', 'Outlook', 'Liverpool', 'Bojnourd', 'Sur', 'Marrakesh', 'Bengkulu', 'Ust-Kuyga', 'Wamba', 'Aranos', 'Esim', 'Katrineholm', 'Nur', 'Cidreira', 'Ağdaş', 'Leningradskiy', 'Refojos de Basto', 'Bonavista', 'Ilulissat', 'Hualmay', 'Longyearbyen', 'Manavālakurichi', 'Lavrentiya', 'Huarmey', 'Rocha', 'Bilma', 'Makakilo City', 'Lagos', 'Topolobampo', 'Pasni', 'Port Macquarie', 'Olinda', 'Mahébourg', 'Rantauprapat', 'Impfondo', 'Te Anau', 'Jumla', 'Husavik', 'Benguela', 'Amapá', 'Flin Flon', 'Naze', 'Torbay', 'Hay River', 'Saint Paul Harbor', 'Otukpo', 'Forsytheganj', 'Kafanchan', 'Hasaki', 'Mangai', 'Havelock', 'Sechura', 'Cabo San Lucas', 'Tual', 'Pochutla', 'Quatre Cocos', 'São Filipe', 'Bakel', 'Aklavik', 'Portsmouth', 'Wuwei', 'Guerrero Negro', 'Riyadh', \"Severo-Kuril'sk\", 'Saint-Leu', 'Oistins', \"Tegul'det\", 'Balabac', 'Iqaluit', 'Manacapuru', 'Cabra', 'Tuatapere', 'Pevek', 'Leopold', 'Havøysund', 'Zhigansk', 'Hearst', 'San Andrés', 'Sayyan', 'Jerome', 'Ust-Nera', 'Vetlanda', 'Comodoro Rivadavia', 'Bariloche', 'Dehui', 'Mehamn', 'Ostrovnoy', 'Governador Valadares', 'Khovd', 'Coffs Harbour', 'Brae', 'Koutsouras', 'Jaisalmer', 'Salinas', 'Namie', 'Okhotsk', 'Kencong', 'Yumen', 'Micheweni', 'Smithers', 'Namatanai', 'Saint-Augustin', 'Tūkrah', 'Central Point', 'São João do Paraíso', 'Anchorage', 'Haines Junction', 'Kirovskiy', 'Abu Dhabi', 'Channel-Port aux Basques', 'Angoche', 'Camacha', 'Cap Malheureux', 'Mungwi', 'County Wicklow', 'Mahon', 'Ancud', 'Yulara', 'Chicama', 'Aldan', 'Labuhan', 'Hudson Bay', 'Zaysan', 'Makokou', 'Tiksi', 'Makurdi', 'Hede', 'Tauramena', 'Seoul', 'Corrente', 'Vestmanna', 'Palu', 'Fairbanks', 'Gryazovets', 'Okato', 'Erdenet', 'Mosetse', 'Kitimat', 'Shemonaīkha', 'Araouane', 'Geraldton', 'Kushmurun', 'Fort-Shevchenko', 'Chenzhou', 'Alta Floresta', 'Tsévié', 'Planovskoye', 'Zhengjiatun', 'Los Llanos de Aridane', 'Lagoa', 'Adra', 'Villa Vicente Guerrero', 'Hamilton', 'Jalu', 'Ossora', 'Poum', 'Xai-Xai', 'Igarka', 'Santa Cruz', 'Sidi Ali', 'Pisco', 'Río Tercero', 'Vanimo', 'Gornopravdinsk', 'Marolambo', 'Saint-Hubert', 'Jizan', 'Nokaneng', 'Oruro', 'Itumba', 'Bandarbeyla', 'Tufānganj', 'Fes', 'Tefé', 'Cabedelo', 'Inírida', 'Aksu', 'Faya', 'Catabola', 'Manggar', 'Balkanabat', 'Plaster Rock', 'Aykhal', 'Oranjemund', 'Talaya', 'Srednekolymsk', 'Karratha', 'Lüshunkou', 'Whitehorse', 'Gornyy', 'Carutapera', 'Bambanglipuro', 'Nouadhibou', 'Manakara', 'Bull Savanna', 'Praia da Vitória', 'Liancheng', 'Pangnirtung', 'Mayor Pablo Lagerenza', 'Otradnoye', 'Beisfjord', 'Cherskiy', 'Merauke', 'Puerto Baquerizo Moreno', 'Ajdabiya', 'Ocean City', 'Pemangkat', 'Mormugao', 'La Rioja', 'Hervey Bay', 'Macao', 'New Lenox', 'Dingle', 'Beloha', 'Nelson Bay', 'Ivanava', 'Olivenza', 'Maceió', 'Baruun-Urt', 'Río Gallegos', 'Shimoda', 'Bambous Virieux', 'Matagami', 'Sarāhan', 'Olafsvik', 'Buckeye', 'Sapa', 'Mwinilunga', 'Santa Maria', 'Portland', 'Vardø', 'Tlacotepec (San Mateo)', 'Bathsheba', 'Mossamedes', 'Keuruu', 'Rāikot', 'Flinders', 'Northam', 'Marzuq', 'Meulaboh', 'Luorong', 'Zheleznodorozhnyy', 'Lastoursville', 'Grants', 'Gao', 'Ciudad Bolivar', 'Brigantine', 'Pincher Creek', 'Arraias', 'Kwinana', 'Santa Luzia', 'Dourbali', 'Kavieng', 'Eureka', 'Rundu', 'Japura', 'Atagay', 'Mineros', 'Itarema', 'Florianópolis', 'Rome', 'Weligama', 'Baní', 'Port Hardy', 'Sakakah', 'Dekar', 'Porkhov', 'Verkhnevilyuysk', 'Kavaratti', 'Mayma', 'Brazzaville', 'Kimbe', 'Atambua', 'Coahuayana Viejo', 'Bechem', 'Shizunai-furukawachō', 'Cairns', 'Opoczno', 'Paso de Carrasco', 'Kankan', 'Tambura', 'Evensk', 'Ixtapa', 'Jatai', 'Yar-Sale', 'Fort Nelson', 'Kaeo', 'Kholodnyy', 'Luanda', 'Matara', 'Houma', 'Aberdeen', 'Indianola', 'Yining', 'Skjervøy', 'Sørland', 'Irpa Irpa', 'Yatou', 'Belyy Yar', 'Kununurra', 'Caçapava do Sul', 'Nemuro', 'Kroya', 'Sulangan', 'Eldorado', 'Praxédis Guerrero', 'Enem', 'Kelvington', 'Sayhāt', 'Ilo', 'Obo', 'Hobyo', 'Hanzhong', 'Broome', 'Turan', 'Vidim', 'Svetlaya', 'Valparaíso', 'Havre-St-Pierre', 'Price', 'Ukiah', 'Mount Gambier', 'Christchurch', 'Puerto Colombia', 'Krasnoarmeyskoye', 'Muhos', 'Kailua', 'Coolum Beach', 'Muros', 'Vilyuysk', 'Bonthe', 'Karlstad', 'Morón', 'Tazovsky', 'Farafangana', 'Buala', \"Ivdel'\", 'Emerald', 'La Reforma', 'Porto-Novo', 'Mahibadhoo', 'Bograd', 'Peiting', 'Barcelona', 'Marquette', 'Kempsey', 'Touros', 'Star', 'Valentín Gómez Farías', 'Susurluk', 'Shitkino', 'Beidao', 'Aginskoye', 'Xiongyue', 'Calbuco', 'Ţahţā', \"Krasnosel'kup\"]\n"
     ]
    }
   ],
   "source": [
    "\n",
    "# Save config information\n",
    "url = \"http://api.openweathermap.org/data/2.5/weather?\"\n",
    "\n",
    "for c in range(len(cities)):\n",
    "    try:\n",
    "        spec_url=cities[c]\n",
    "        query_url = f\"{url}appid={weather_api}&q={spec_url}&units=imperial\"\n",
    "        weather_response = requests.get(query_url).json()\n",
    "        cities_list.append(weather_response[\"name\"])\n",
    "        cloud.append(weather_response['clouds']['all'])\n",
    "        country.append(weather_response['sys']['country'])\n",
    "        date.append(weather_response['dt'])\n",
    "        humidity.append(weather_response['main']['humidity'])\n",
    "        max_temp.append(weather_response['main']['temp_max'])\n",
    "        wind_speed.append(weather_response['wind']['speed'])\n",
    "        lat.append(weather_response['coord']['lat'])\n",
    "        lon.append(weather_response['coord']['lon'])\n",
    "        record_number += 1\n",
    "        print(f\"Processing Record {record_number} | {weather_response['name']}\")\n",
    "    except KeyError:\n",
    "        print('City not found. Skipping...')\n",
    "print (cities_list)"
   ]
  },
  {
   "cell_type": "code",
   "execution_count": 12,
   "metadata": {},
   "outputs": [
    {
     "data": {
      "text/html": [
       "<div>\n",
       "<style scoped>\n",
       "    .dataframe tbody tr th:only-of-type {\n",
       "        vertical-align: middle;\n",
       "    }\n",
       "\n",
       "    .dataframe tbody tr th {\n",
       "        vertical-align: top;\n",
       "    }\n",
       "\n",
       "    .dataframe thead th {\n",
       "        text-align: right;\n",
       "    }\n",
       "</style>\n",
       "<table border=\"1\" class=\"dataframe\">\n",
       "  <thead>\n",
       "    <tr style=\"text-align: right;\">\n",
       "      <th></th>\n",
       "      <th>city</th>\n",
       "      <th>lon</th>\n",
       "      <th>lat</th>\n",
       "      <th>wind_speed</th>\n",
       "      <th>max_temp</th>\n",
       "      <th>humidity</th>\n",
       "      <th>date</th>\n",
       "      <th>country</th>\n",
       "      <th>cloud</th>\n",
       "    </tr>\n",
       "  </thead>\n",
       "  <tbody>\n",
       "    <tr>\n",
       "      <th>0</th>\n",
       "      <td>Chui</td>\n",
       "      <td>-53.46</td>\n",
       "      <td>-33.70</td>\n",
       "      <td>14.50</td>\n",
       "      <td>67.91</td>\n",
       "      <td>83</td>\n",
       "      <td>1584510866</td>\n",
       "      <td>UY</td>\n",
       "      <td>100</td>\n",
       "    </tr>\n",
       "    <tr>\n",
       "      <th>1</th>\n",
       "      <td>Hofn</td>\n",
       "      <td>-15.21</td>\n",
       "      <td>64.25</td>\n",
       "      <td>31.74</td>\n",
       "      <td>35.15</td>\n",
       "      <td>96</td>\n",
       "      <td>1584510866</td>\n",
       "      <td>IS</td>\n",
       "      <td>97</td>\n",
       "    </tr>\n",
       "    <tr>\n",
       "      <th>2</th>\n",
       "      <td>Hong Kong</td>\n",
       "      <td>114.16</td>\n",
       "      <td>22.29</td>\n",
       "      <td>4.70</td>\n",
       "      <td>73.99</td>\n",
       "      <td>83</td>\n",
       "      <td>1584510676</td>\n",
       "      <td>HK</td>\n",
       "      <td>40</td>\n",
       "    </tr>\n",
       "    <tr>\n",
       "      <th>3</th>\n",
       "      <td>Avarua</td>\n",
       "      <td>-159.78</td>\n",
       "      <td>-21.21</td>\n",
       "      <td>16.11</td>\n",
       "      <td>80.60</td>\n",
       "      <td>88</td>\n",
       "      <td>1584510867</td>\n",
       "      <td>CK</td>\n",
       "      <td>100</td>\n",
       "    </tr>\n",
       "    <tr>\n",
       "      <th>4</th>\n",
       "      <td>Iralaya</td>\n",
       "      <td>-83.23</td>\n",
       "      <td>15.00</td>\n",
       "      <td>15.39</td>\n",
       "      <td>79.61</td>\n",
       "      <td>79</td>\n",
       "      <td>1584510867</td>\n",
       "      <td>HN</td>\n",
       "      <td>8</td>\n",
       "    </tr>\n",
       "    <tr>\n",
       "      <th>...</th>\n",
       "      <td>...</td>\n",
       "      <td>...</td>\n",
       "      <td>...</td>\n",
       "      <td>...</td>\n",
       "      <td>...</td>\n",
       "      <td>...</td>\n",
       "      <td>...</td>\n",
       "      <td>...</td>\n",
       "      <td>...</td>\n",
       "    </tr>\n",
       "    <tr>\n",
       "      <th>552</th>\n",
       "      <td>Aginskoye</td>\n",
       "      <td>114.53</td>\n",
       "      <td>51.10</td>\n",
       "      <td>23.67</td>\n",
       "      <td>36.05</td>\n",
       "      <td>29</td>\n",
       "      <td>1584511001</td>\n",
       "      <td>RU</td>\n",
       "      <td>37</td>\n",
       "    </tr>\n",
       "    <tr>\n",
       "      <th>553</th>\n",
       "      <td>Xiongyue</td>\n",
       "      <td>122.12</td>\n",
       "      <td>40.18</td>\n",
       "      <td>20.76</td>\n",
       "      <td>61.43</td>\n",
       "      <td>28</td>\n",
       "      <td>1584511001</td>\n",
       "      <td>CN</td>\n",
       "      <td>55</td>\n",
       "    </tr>\n",
       "    <tr>\n",
       "      <th>554</th>\n",
       "      <td>Calbuco</td>\n",
       "      <td>-73.13</td>\n",
       "      <td>-41.77</td>\n",
       "      <td>2.24</td>\n",
       "      <td>46.40</td>\n",
       "      <td>100</td>\n",
       "      <td>1584511002</td>\n",
       "      <td>CL</td>\n",
       "      <td>90</td>\n",
       "    </tr>\n",
       "    <tr>\n",
       "      <th>555</th>\n",
       "      <td>Ţahţā</td>\n",
       "      <td>31.50</td>\n",
       "      <td>26.77</td>\n",
       "      <td>14.99</td>\n",
       "      <td>55.40</td>\n",
       "      <td>58</td>\n",
       "      <td>1584511002</td>\n",
       "      <td>EG</td>\n",
       "      <td>0</td>\n",
       "    </tr>\n",
       "    <tr>\n",
       "      <th>556</th>\n",
       "      <td>Krasnosel'kup</td>\n",
       "      <td>82.47</td>\n",
       "      <td>65.70</td>\n",
       "      <td>14.94</td>\n",
       "      <td>21.65</td>\n",
       "      <td>91</td>\n",
       "      <td>1584511002</td>\n",
       "      <td>RU</td>\n",
       "      <td>100</td>\n",
       "    </tr>\n",
       "  </tbody>\n",
       "</table>\n",
       "<p>557 rows × 9 columns</p>\n",
       "</div>"
      ],
      "text/plain": [
       "              city     lon    lat  wind_speed  max_temp  humidity        date  \\\n",
       "0             Chui  -53.46 -33.70       14.50     67.91        83  1584510866   \n",
       "1             Hofn  -15.21  64.25       31.74     35.15        96  1584510866   \n",
       "2        Hong Kong  114.16  22.29        4.70     73.99        83  1584510676   \n",
       "3           Avarua -159.78 -21.21       16.11     80.60        88  1584510867   \n",
       "4          Iralaya  -83.23  15.00       15.39     79.61        79  1584510867   \n",
       "..             ...     ...    ...         ...       ...       ...         ...   \n",
       "552      Aginskoye  114.53  51.10       23.67     36.05        29  1584511001   \n",
       "553       Xiongyue  122.12  40.18       20.76     61.43        28  1584511001   \n",
       "554        Calbuco  -73.13 -41.77        2.24     46.40       100  1584511002   \n",
       "555          Ţahţā   31.50  26.77       14.99     55.40        58  1584511002   \n",
       "556  Krasnosel'kup   82.47  65.70       14.94     21.65        91  1584511002   \n",
       "\n",
       "    country  cloud  \n",
       "0        UY    100  \n",
       "1        IS     97  \n",
       "2        HK     40  \n",
       "3        CK    100  \n",
       "4        HN      8  \n",
       "..      ...    ...  \n",
       "552      RU     37  \n",
       "553      CN     55  \n",
       "554      CL     90  \n",
       "555      EG      0  \n",
       "556      RU    100  \n",
       "\n",
       "[557 rows x 9 columns]"
      ]
     },
     "execution_count": 12,
     "metadata": {},
     "output_type": "execute_result"
    }
   ],
   "source": [
    "# create a data frame from cities, lat, and temp\n",
    "weather_dict = {\n",
    "    \"city\": cities_list,\n",
    "    \"lon\": lon,\n",
    "    \"lat\": lat,\n",
    "    \"wind_speed\": wind_speed,\n",
    "    \"max_temp\": max_temp,\n",
    "    \"humidity\": humidity,\n",
    "    \"date\": date,\n",
    "    \"country\": country,\n",
    "    \"cloud\": cloud\n",
    "}\n",
    "weather_data = pd.DataFrame(weather_dict)\n",
    "weather_data\n"
   ]
  },
  {
   "cell_type": "code",
   "execution_count": 53,
   "metadata": {},
   "outputs": [],
   "source": [
    "weather_data.to_csv('weather.csv')"
   ]
  },
  {
   "cell_type": "code",
   "execution_count": null,
   "metadata": {},
   "outputs": [],
   "source": []
  },
  {
   "cell_type": "code",
   "execution_count": null,
   "metadata": {},
   "outputs": [],
   "source": []
  },
  {
   "cell_type": "code",
   "execution_count": null,
   "metadata": {},
   "outputs": [],
   "source": []
  },
  {
   "cell_type": "code",
   "execution_count": null,
   "metadata": {},
   "outputs": [],
   "source": []
  },
  {
   "cell_type": "code",
   "execution_count": 13,
   "metadata": {},
   "outputs": [
    {
     "data": {
      "text/html": [
       "<div>\n",
       "<style scoped>\n",
       "    .dataframe tbody tr th:only-of-type {\n",
       "        vertical-align: middle;\n",
       "    }\n",
       "\n",
       "    .dataframe tbody tr th {\n",
       "        vertical-align: top;\n",
       "    }\n",
       "\n",
       "    .dataframe thead th {\n",
       "        text-align: right;\n",
       "    }\n",
       "</style>\n",
       "<table border=\"1\" class=\"dataframe\">\n",
       "  <thead>\n",
       "    <tr style=\"text-align: right;\">\n",
       "      <th></th>\n",
       "      <th>city</th>\n",
       "      <th>lon</th>\n",
       "      <th>lat</th>\n",
       "      <th>wind_speed</th>\n",
       "      <th>max_temp</th>\n",
       "      <th>humidity</th>\n",
       "      <th>date</th>\n",
       "      <th>country</th>\n",
       "      <th>cloud</th>\n",
       "    </tr>\n",
       "  </thead>\n",
       "  <tbody>\n",
       "    <tr>\n",
       "      <th>0</th>\n",
       "      <td>Chui</td>\n",
       "      <td>-53.46</td>\n",
       "      <td>-33.70</td>\n",
       "      <td>14.50</td>\n",
       "      <td>67.91</td>\n",
       "      <td>83</td>\n",
       "      <td>1584510866</td>\n",
       "      <td>UY</td>\n",
       "      <td>100</td>\n",
       "    </tr>\n",
       "    <tr>\n",
       "      <th>1</th>\n",
       "      <td>Hofn</td>\n",
       "      <td>-15.21</td>\n",
       "      <td>64.25</td>\n",
       "      <td>31.74</td>\n",
       "      <td>35.15</td>\n",
       "      <td>96</td>\n",
       "      <td>1584510866</td>\n",
       "      <td>IS</td>\n",
       "      <td>97</td>\n",
       "    </tr>\n",
       "    <tr>\n",
       "      <th>2</th>\n",
       "      <td>Hong Kong</td>\n",
       "      <td>114.16</td>\n",
       "      <td>22.29</td>\n",
       "      <td>4.70</td>\n",
       "      <td>73.99</td>\n",
       "      <td>83</td>\n",
       "      <td>1584510676</td>\n",
       "      <td>HK</td>\n",
       "      <td>40</td>\n",
       "    </tr>\n",
       "    <tr>\n",
       "      <th>3</th>\n",
       "      <td>Avarua</td>\n",
       "      <td>-159.78</td>\n",
       "      <td>-21.21</td>\n",
       "      <td>16.11</td>\n",
       "      <td>80.60</td>\n",
       "      <td>88</td>\n",
       "      <td>1584510867</td>\n",
       "      <td>CK</td>\n",
       "      <td>100</td>\n",
       "    </tr>\n",
       "    <tr>\n",
       "      <th>4</th>\n",
       "      <td>Iralaya</td>\n",
       "      <td>-83.23</td>\n",
       "      <td>15.00</td>\n",
       "      <td>15.39</td>\n",
       "      <td>79.61</td>\n",
       "      <td>79</td>\n",
       "      <td>1584510867</td>\n",
       "      <td>HN</td>\n",
       "      <td>8</td>\n",
       "    </tr>\n",
       "    <tr>\n",
       "      <th>...</th>\n",
       "      <td>...</td>\n",
       "      <td>...</td>\n",
       "      <td>...</td>\n",
       "      <td>...</td>\n",
       "      <td>...</td>\n",
       "      <td>...</td>\n",
       "      <td>...</td>\n",
       "      <td>...</td>\n",
       "      <td>...</td>\n",
       "    </tr>\n",
       "    <tr>\n",
       "      <th>552</th>\n",
       "      <td>Aginskoye</td>\n",
       "      <td>114.53</td>\n",
       "      <td>51.10</td>\n",
       "      <td>23.67</td>\n",
       "      <td>36.05</td>\n",
       "      <td>29</td>\n",
       "      <td>1584511001</td>\n",
       "      <td>RU</td>\n",
       "      <td>37</td>\n",
       "    </tr>\n",
       "    <tr>\n",
       "      <th>553</th>\n",
       "      <td>Xiongyue</td>\n",
       "      <td>122.12</td>\n",
       "      <td>40.18</td>\n",
       "      <td>20.76</td>\n",
       "      <td>61.43</td>\n",
       "      <td>28</td>\n",
       "      <td>1584511001</td>\n",
       "      <td>CN</td>\n",
       "      <td>55</td>\n",
       "    </tr>\n",
       "    <tr>\n",
       "      <th>554</th>\n",
       "      <td>Calbuco</td>\n",
       "      <td>-73.13</td>\n",
       "      <td>-41.77</td>\n",
       "      <td>2.24</td>\n",
       "      <td>46.40</td>\n",
       "      <td>100</td>\n",
       "      <td>1584511002</td>\n",
       "      <td>CL</td>\n",
       "      <td>90</td>\n",
       "    </tr>\n",
       "    <tr>\n",
       "      <th>555</th>\n",
       "      <td>Ţahţā</td>\n",
       "      <td>31.50</td>\n",
       "      <td>26.77</td>\n",
       "      <td>14.99</td>\n",
       "      <td>55.40</td>\n",
       "      <td>58</td>\n",
       "      <td>1584511002</td>\n",
       "      <td>EG</td>\n",
       "      <td>0</td>\n",
       "    </tr>\n",
       "    <tr>\n",
       "      <th>556</th>\n",
       "      <td>Krasnosel'kup</td>\n",
       "      <td>82.47</td>\n",
       "      <td>65.70</td>\n",
       "      <td>14.94</td>\n",
       "      <td>21.65</td>\n",
       "      <td>91</td>\n",
       "      <td>1584511002</td>\n",
       "      <td>RU</td>\n",
       "      <td>100</td>\n",
       "    </tr>\n",
       "  </tbody>\n",
       "</table>\n",
       "<p>557 rows × 9 columns</p>\n",
       "</div>"
      ],
      "text/plain": [
       "              city     lon    lat  wind_speed  max_temp  humidity        date  \\\n",
       "0             Chui  -53.46 -33.70       14.50     67.91        83  1584510866   \n",
       "1             Hofn  -15.21  64.25       31.74     35.15        96  1584510866   \n",
       "2        Hong Kong  114.16  22.29        4.70     73.99        83  1584510676   \n",
       "3           Avarua -159.78 -21.21       16.11     80.60        88  1584510867   \n",
       "4          Iralaya  -83.23  15.00       15.39     79.61        79  1584510867   \n",
       "..             ...     ...    ...         ...       ...       ...         ...   \n",
       "552      Aginskoye  114.53  51.10       23.67     36.05        29  1584511001   \n",
       "553       Xiongyue  122.12  40.18       20.76     61.43        28  1584511001   \n",
       "554        Calbuco  -73.13 -41.77        2.24     46.40       100  1584511002   \n",
       "555          Ţahţā   31.50  26.77       14.99     55.40        58  1584511002   \n",
       "556  Krasnosel'kup   82.47  65.70       14.94     21.65        91  1584511002   \n",
       "\n",
       "    country  cloud  \n",
       "0        UY    100  \n",
       "1        IS     97  \n",
       "2        HK     40  \n",
       "3        CK    100  \n",
       "4        HN      8  \n",
       "..      ...    ...  \n",
       "552      RU     37  \n",
       "553      CN     55  \n",
       "554      CL     90  \n",
       "555      EG      0  \n",
       "556      RU    100  \n",
       "\n",
       "[557 rows x 9 columns]"
      ]
     },
     "execution_count": 13,
     "metadata": {},
     "output_type": "execute_result"
    }
   ],
   "source": [
    "weather_data"
   ]
  },
  {
   "cell_type": "code",
   "execution_count": 14,
   "metadata": {},
   "outputs": [
    {
     "data": {
      "text/html": [
       "<div>\n",
       "<style scoped>\n",
       "    .dataframe tbody tr th:only-of-type {\n",
       "        vertical-align: middle;\n",
       "    }\n",
       "\n",
       "    .dataframe tbody tr th {\n",
       "        vertical-align: top;\n",
       "    }\n",
       "\n",
       "    .dataframe thead th {\n",
       "        text-align: right;\n",
       "    }\n",
       "</style>\n",
       "<table border=\"1\" class=\"dataframe\">\n",
       "  <thead>\n",
       "    <tr style=\"text-align: right;\">\n",
       "      <th></th>\n",
       "      <th>city</th>\n",
       "      <th>lon</th>\n",
       "      <th>lat</th>\n",
       "      <th>wind_speed</th>\n",
       "      <th>max_temp</th>\n",
       "      <th>humidity</th>\n",
       "      <th>date</th>\n",
       "      <th>country</th>\n",
       "      <th>cloud</th>\n",
       "    </tr>\n",
       "  </thead>\n",
       "  <tbody>\n",
       "    <tr>\n",
       "      <th>1</th>\n",
       "      <td>Hofn</td>\n",
       "      <td>-15.21</td>\n",
       "      <td>64.25</td>\n",
       "      <td>31.74</td>\n",
       "      <td>35.15</td>\n",
       "      <td>96</td>\n",
       "      <td>1584510866</td>\n",
       "      <td>IS</td>\n",
       "      <td>97</td>\n",
       "    </tr>\n",
       "    <tr>\n",
       "      <th>2</th>\n",
       "      <td>Hong Kong</td>\n",
       "      <td>114.16</td>\n",
       "      <td>22.29</td>\n",
       "      <td>4.70</td>\n",
       "      <td>73.99</td>\n",
       "      <td>83</td>\n",
       "      <td>1584510676</td>\n",
       "      <td>HK</td>\n",
       "      <td>40</td>\n",
       "    </tr>\n",
       "    <tr>\n",
       "      <th>4</th>\n",
       "      <td>Iralaya</td>\n",
       "      <td>-83.23</td>\n",
       "      <td>15.00</td>\n",
       "      <td>15.39</td>\n",
       "      <td>79.61</td>\n",
       "      <td>79</td>\n",
       "      <td>1584510867</td>\n",
       "      <td>HN</td>\n",
       "      <td>8</td>\n",
       "    </tr>\n",
       "    <tr>\n",
       "      <th>7</th>\n",
       "      <td>Guasdualito</td>\n",
       "      <td>-70.73</td>\n",
       "      <td>7.24</td>\n",
       "      <td>7.07</td>\n",
       "      <td>77.99</td>\n",
       "      <td>47</td>\n",
       "      <td>1584510867</td>\n",
       "      <td>VE</td>\n",
       "      <td>55</td>\n",
       "    </tr>\n",
       "    <tr>\n",
       "      <th>8</th>\n",
       "      <td>Thompson</td>\n",
       "      <td>-97.86</td>\n",
       "      <td>55.74</td>\n",
       "      <td>5.82</td>\n",
       "      <td>-11.20</td>\n",
       "      <td>63</td>\n",
       "      <td>1584510868</td>\n",
       "      <td>CA</td>\n",
       "      <td>5</td>\n",
       "    </tr>\n",
       "    <tr>\n",
       "      <th>...</th>\n",
       "      <td>...</td>\n",
       "      <td>...</td>\n",
       "      <td>...</td>\n",
       "      <td>...</td>\n",
       "      <td>...</td>\n",
       "      <td>...</td>\n",
       "      <td>...</td>\n",
       "      <td>...</td>\n",
       "      <td>...</td>\n",
       "    </tr>\n",
       "    <tr>\n",
       "      <th>551</th>\n",
       "      <td>Beidao</td>\n",
       "      <td>105.89</td>\n",
       "      <td>34.57</td>\n",
       "      <td>7.40</td>\n",
       "      <td>62.87</td>\n",
       "      <td>15</td>\n",
       "      <td>1584511000</td>\n",
       "      <td>CN</td>\n",
       "      <td>100</td>\n",
       "    </tr>\n",
       "    <tr>\n",
       "      <th>552</th>\n",
       "      <td>Aginskoye</td>\n",
       "      <td>114.53</td>\n",
       "      <td>51.10</td>\n",
       "      <td>23.67</td>\n",
       "      <td>36.05</td>\n",
       "      <td>29</td>\n",
       "      <td>1584511001</td>\n",
       "      <td>RU</td>\n",
       "      <td>37</td>\n",
       "    </tr>\n",
       "    <tr>\n",
       "      <th>553</th>\n",
       "      <td>Xiongyue</td>\n",
       "      <td>122.12</td>\n",
       "      <td>40.18</td>\n",
       "      <td>20.76</td>\n",
       "      <td>61.43</td>\n",
       "      <td>28</td>\n",
       "      <td>1584511001</td>\n",
       "      <td>CN</td>\n",
       "      <td>55</td>\n",
       "    </tr>\n",
       "    <tr>\n",
       "      <th>555</th>\n",
       "      <td>Ţahţā</td>\n",
       "      <td>31.50</td>\n",
       "      <td>26.77</td>\n",
       "      <td>14.99</td>\n",
       "      <td>55.40</td>\n",
       "      <td>58</td>\n",
       "      <td>1584511002</td>\n",
       "      <td>EG</td>\n",
       "      <td>0</td>\n",
       "    </tr>\n",
       "    <tr>\n",
       "      <th>556</th>\n",
       "      <td>Krasnosel'kup</td>\n",
       "      <td>82.47</td>\n",
       "      <td>65.70</td>\n",
       "      <td>14.94</td>\n",
       "      <td>21.65</td>\n",
       "      <td>91</td>\n",
       "      <td>1584511002</td>\n",
       "      <td>RU</td>\n",
       "      <td>100</td>\n",
       "    </tr>\n",
       "  </tbody>\n",
       "</table>\n",
       "<p>375 rows × 9 columns</p>\n",
       "</div>"
      ],
      "text/plain": [
       "              city     lon    lat  wind_speed  max_temp  humidity        date  \\\n",
       "1             Hofn  -15.21  64.25       31.74     35.15        96  1584510866   \n",
       "2        Hong Kong  114.16  22.29        4.70     73.99        83  1584510676   \n",
       "4          Iralaya  -83.23  15.00       15.39     79.61        79  1584510867   \n",
       "7      Guasdualito  -70.73   7.24        7.07     77.99        47  1584510867   \n",
       "8         Thompson  -97.86  55.74        5.82    -11.20        63  1584510868   \n",
       "..             ...     ...    ...         ...       ...       ...         ...   \n",
       "551         Beidao  105.89  34.57        7.40     62.87        15  1584511000   \n",
       "552      Aginskoye  114.53  51.10       23.67     36.05        29  1584511001   \n",
       "553       Xiongyue  122.12  40.18       20.76     61.43        28  1584511001   \n",
       "555          Ţahţā   31.50  26.77       14.99     55.40        58  1584511002   \n",
       "556  Krasnosel'kup   82.47  65.70       14.94     21.65        91  1584511002   \n",
       "\n",
       "    country  cloud  \n",
       "1        IS     97  \n",
       "2        HK     40  \n",
       "4        HN      8  \n",
       "7        VE     55  \n",
       "8        CA      5  \n",
       "..      ...    ...  \n",
       "551      CN    100  \n",
       "552      RU     37  \n",
       "553      CN     55  \n",
       "555      EG      0  \n",
       "556      RU    100  \n",
       "\n",
       "[375 rows x 9 columns]"
      ]
     },
     "execution_count": 14,
     "metadata": {},
     "output_type": "execute_result"
    }
   ],
   "source": [
    "north_weather_data = weather_data[(weather_data.lat >= 0)]\n",
    "north_weather_data\n"
   ]
  },
  {
   "cell_type": "code",
   "execution_count": 15,
   "metadata": {},
   "outputs": [
    {
     "data": {
      "text/html": [
       "<div>\n",
       "<style scoped>\n",
       "    .dataframe tbody tr th:only-of-type {\n",
       "        vertical-align: middle;\n",
       "    }\n",
       "\n",
       "    .dataframe tbody tr th {\n",
       "        vertical-align: top;\n",
       "    }\n",
       "\n",
       "    .dataframe thead th {\n",
       "        text-align: right;\n",
       "    }\n",
       "</style>\n",
       "<table border=\"1\" class=\"dataframe\">\n",
       "  <thead>\n",
       "    <tr style=\"text-align: right;\">\n",
       "      <th></th>\n",
       "      <th>city</th>\n",
       "      <th>lon</th>\n",
       "      <th>lat</th>\n",
       "      <th>wind_speed</th>\n",
       "      <th>max_temp</th>\n",
       "      <th>humidity</th>\n",
       "      <th>date</th>\n",
       "      <th>country</th>\n",
       "      <th>cloud</th>\n",
       "    </tr>\n",
       "  </thead>\n",
       "  <tbody>\n",
       "    <tr>\n",
       "      <th>0</th>\n",
       "      <td>Chui</td>\n",
       "      <td>-53.46</td>\n",
       "      <td>-33.70</td>\n",
       "      <td>14.50</td>\n",
       "      <td>67.91</td>\n",
       "      <td>83</td>\n",
       "      <td>1584510866</td>\n",
       "      <td>UY</td>\n",
       "      <td>100</td>\n",
       "    </tr>\n",
       "    <tr>\n",
       "      <th>3</th>\n",
       "      <td>Avarua</td>\n",
       "      <td>-159.78</td>\n",
       "      <td>-21.21</td>\n",
       "      <td>16.11</td>\n",
       "      <td>80.60</td>\n",
       "      <td>88</td>\n",
       "      <td>1584510867</td>\n",
       "      <td>CK</td>\n",
       "      <td>100</td>\n",
       "    </tr>\n",
       "    <tr>\n",
       "      <th>5</th>\n",
       "      <td>Santa Isabel</td>\n",
       "      <td>-46.22</td>\n",
       "      <td>-23.32</td>\n",
       "      <td>0.76</td>\n",
       "      <td>69.80</td>\n",
       "      <td>100</td>\n",
       "      <td>1584510867</td>\n",
       "      <td>BR</td>\n",
       "      <td>40</td>\n",
       "    </tr>\n",
       "    <tr>\n",
       "      <th>6</th>\n",
       "      <td>Lüderitz</td>\n",
       "      <td>15.16</td>\n",
       "      <td>-26.65</td>\n",
       "      <td>6.93</td>\n",
       "      <td>59.00</td>\n",
       "      <td>87</td>\n",
       "      <td>1584510867</td>\n",
       "      <td>NA</td>\n",
       "      <td>0</td>\n",
       "    </tr>\n",
       "    <tr>\n",
       "      <th>9</th>\n",
       "      <td>Ushuaia</td>\n",
       "      <td>-68.30</td>\n",
       "      <td>-54.80</td>\n",
       "      <td>3.42</td>\n",
       "      <td>53.60</td>\n",
       "      <td>58</td>\n",
       "      <td>1584510806</td>\n",
       "      <td>AR</td>\n",
       "      <td>40</td>\n",
       "    </tr>\n",
       "    <tr>\n",
       "      <th>...</th>\n",
       "      <td>...</td>\n",
       "      <td>...</td>\n",
       "      <td>...</td>\n",
       "      <td>...</td>\n",
       "      <td>...</td>\n",
       "      <td>...</td>\n",
       "      <td>...</td>\n",
       "      <td>...</td>\n",
       "      <td>...</td>\n",
       "    </tr>\n",
       "    <tr>\n",
       "      <th>535</th>\n",
       "      <td>Buala</td>\n",
       "      <td>159.59</td>\n",
       "      <td>-8.14</td>\n",
       "      <td>3.83</td>\n",
       "      <td>83.39</td>\n",
       "      <td>77</td>\n",
       "      <td>1584510997</td>\n",
       "      <td>SB</td>\n",
       "      <td>69</td>\n",
       "    </tr>\n",
       "    <tr>\n",
       "      <th>537</th>\n",
       "      <td>Emerald</td>\n",
       "      <td>148.17</td>\n",
       "      <td>-23.53</td>\n",
       "      <td>13.87</td>\n",
       "      <td>86.00</td>\n",
       "      <td>33</td>\n",
       "      <td>1584510998</td>\n",
       "      <td>AU</td>\n",
       "      <td>0</td>\n",
       "    </tr>\n",
       "    <tr>\n",
       "      <th>545</th>\n",
       "      <td>Kempsey</td>\n",
       "      <td>152.83</td>\n",
       "      <td>-31.08</td>\n",
       "      <td>5.01</td>\n",
       "      <td>75.00</td>\n",
       "      <td>62</td>\n",
       "      <td>1584510999</td>\n",
       "      <td>AU</td>\n",
       "      <td>1</td>\n",
       "    </tr>\n",
       "    <tr>\n",
       "      <th>546</th>\n",
       "      <td>Touros</td>\n",
       "      <td>-35.46</td>\n",
       "      <td>-5.20</td>\n",
       "      <td>4.70</td>\n",
       "      <td>77.00</td>\n",
       "      <td>94</td>\n",
       "      <td>1584511000</td>\n",
       "      <td>BR</td>\n",
       "      <td>40</td>\n",
       "    </tr>\n",
       "    <tr>\n",
       "      <th>554</th>\n",
       "      <td>Calbuco</td>\n",
       "      <td>-73.13</td>\n",
       "      <td>-41.77</td>\n",
       "      <td>2.24</td>\n",
       "      <td>46.40</td>\n",
       "      <td>100</td>\n",
       "      <td>1584511002</td>\n",
       "      <td>CL</td>\n",
       "      <td>90</td>\n",
       "    </tr>\n",
       "  </tbody>\n",
       "</table>\n",
       "<p>182 rows × 9 columns</p>\n",
       "</div>"
      ],
      "text/plain": [
       "             city     lon    lat  wind_speed  max_temp  humidity        date  \\\n",
       "0            Chui  -53.46 -33.70       14.50     67.91        83  1584510866   \n",
       "3          Avarua -159.78 -21.21       16.11     80.60        88  1584510867   \n",
       "5    Santa Isabel  -46.22 -23.32        0.76     69.80       100  1584510867   \n",
       "6        Lüderitz   15.16 -26.65        6.93     59.00        87  1584510867   \n",
       "9         Ushuaia  -68.30 -54.80        3.42     53.60        58  1584510806   \n",
       "..            ...     ...    ...         ...       ...       ...         ...   \n",
       "535         Buala  159.59  -8.14        3.83     83.39        77  1584510997   \n",
       "537       Emerald  148.17 -23.53       13.87     86.00        33  1584510998   \n",
       "545       Kempsey  152.83 -31.08        5.01     75.00        62  1584510999   \n",
       "546        Touros  -35.46  -5.20        4.70     77.00        94  1584511000   \n",
       "554       Calbuco  -73.13 -41.77        2.24     46.40       100  1584511002   \n",
       "\n",
       "    country  cloud  \n",
       "0        UY    100  \n",
       "3        CK    100  \n",
       "5        BR     40  \n",
       "6        NA      0  \n",
       "9        AR     40  \n",
       "..      ...    ...  \n",
       "535      SB     69  \n",
       "537      AU      0  \n",
       "545      AU      1  \n",
       "546      BR     40  \n",
       "554      CL     90  \n",
       "\n",
       "[182 rows x 9 columns]"
      ]
     },
     "execution_count": 15,
     "metadata": {},
     "output_type": "execute_result"
    }
   ],
   "source": [
    "south_weather_data = weather_data[(weather_data.lat < 0)]\n",
    "south_weather_data"
   ]
  },
  {
   "cell_type": "code",
   "execution_count": 16,
   "metadata": {},
   "outputs": [
    {
     "data": {
      "image/png": "[encoded data removed]",
      "text/plain": [
       "<Figure size 432x288 with 1 Axes>"
      ]
     },
     "metadata": {
      "needs_background": "light"
     },
     "output_type": "display_data"
    },
    {
     "data": {
      "text/plain": [
       "<Figure size 432x288 with 0 Axes>"
      ]
     },
     "metadata": {},
     "output_type": "display_data"
    }
   ],
   "source": [
    "# Build a scatter plot for each data type\n",
    "plt.scatter(north_weather_data[\"lat\"], north_weather_data[\"max_temp\"], marker=\"o\")\n",
    "\n",
    "# Incorporate the other graph properties\n",
    "plt.title(\"City Latitude vs. Max Temperature Northern Hemisphere\")\n",
    "plt.ylabel(\"Max Temperature (F)\")\n",
    "plt.xlabel(\"Latitude\")\n",
    "plt.grid(True)\n",
    "\n",
    "# Show plot\n",
    "plt.show()\n",
    "\n",
    "plt.savefig('city_lat_max_temp.png')"
   ]
  },
  {
   "cell_type": "code",
   "execution_count": 17,
   "metadata": {},
   "outputs": [
    {
     "name": "stdout",
     "output_type": "stream",
     "text": [
      "1      18.321642\n",
      "2      67.926066\n",
      "4      76.544184\n",
      "7      85.717929\n",
      "8      28.382024\n",
      "         ...    \n",
      "551    53.408851\n",
      "552    33.867356\n",
      "553    46.776801\n",
      "555    62.629883\n",
      "556    16.607475\n",
      "Name: lat, Length: 375, dtype: float64\n"
     ]
    }
   ],
   "source": [
    "# Perform a linear regression on temperature vs. latitude\n",
    "(slope, intercept, rvalue, pvalue, stderr) = stats.linregress(north_weather_data[\"lat\"], north_weather_data[\"max_temp\"])\n",
    "\n",
    "# Get regression values\n",
    "regress_values = north_weather_data[\"lat\"] * slope + intercept\n",
    "print(regress_values)"
   ]
  },
  {
   "cell_type": "code",
   "execution_count": 18,
   "metadata": {},
   "outputs": [
    {
     "name": "stdout",
     "output_type": "stream",
     "text": [
      "y = -1.18x +94.28\n"
     ]
    }
   ],
   "source": [
    "# Create line equation string\n",
    "line_eq = \"y = \" + str(round(slope,2)) + \"x +\" + str(round(intercept,2))\n",
    "print(line_eq)"
   ]
  },
  {
   "cell_type": "code",
   "execution_count": 19,
   "metadata": {},
   "outputs": [
    {
     "name": "stdout",
     "output_type": "stream",
     "text": [
      "The r-squared is: -0.8925411814750206\n"
     ]
    },
    {
     "data": {
      "image/png": "[encoded data removed]",
      "text/plain": [
       "<Figure size 432x288 with 1 Axes>"
      ]
     },
     "metadata": {
      "needs_background": "light"
     },
     "output_type": "display_data"
    },
    {
     "data": {
      "text/plain": [
       "<Figure size 432x288 with 0 Axes>"
      ]
     },
     "metadata": {},
     "output_type": "display_data"
    }
   ],
   "source": [
    " # Create Plot\n",
    "plt.scatter(north_weather_data[\"lat\"], north_weather_data[\"max_temp\"], marker=\"o\")\n",
    "plt.plot(north_weather_data[\"lat\"],regress_values,\"r-\")\n",
    "\n",
    "# Label plot and annotate the line equation\n",
    "plt.title(\"City Latitude vs. Max Temperature Northern Hemisphere\")\n",
    "plt.ylabel(\"Max Temperature (F)\")\n",
    "plt.xlabel(\"Latitude\")\n",
    "plt.grid(True)\n",
    "\n",
    "# Print r square value\n",
    "print(f\"The r-squared is: {rvalue}\")\n",
    "\n",
    "# Show plot\n",
    "plt.show()\n",
    "\n",
    "plt.savefig('city_lat_max_temp_reg.png')"
   ]
  },
  {
   "cell_type": "code",
   "execution_count": 20,
   "metadata": {},
   "outputs": [
    {
     "data": {
      "image/png": "[encoded data removed]",
      "text/plain": [
       "<Figure size 432x288 with 1 Axes>"
      ]
     },
     "metadata": {
      "needs_background": "light"
     },
     "output_type": "display_data"
    },
    {
     "data": {
      "text/plain": [
       "<Figure size 432x288 with 0 Axes>"
      ]
     },
     "metadata": {},
     "output_type": "display_data"
    }
   ],
   "source": [
    "# Build a scatter plot for each data type\n",
    "plt.scatter(south_weather_data[\"lat\"], south_weather_data[\"max_temp\"], marker=\"o\")\n",
    "\n",
    "# Incorporate the other graph properties\n",
    "plt.title(\"City Latitude vs. Max Temperature Southern Hemisphere\")\n",
    "plt.ylabel(\"Max Temperature (F)\")\n",
    "plt.xlabel(\"Latitude\")\n",
    "plt.grid(True)\n",
    "\n",
    "# Show plot\n",
    "plt.show()\n",
    "\n",
    "plt.savefig('city_lat_max_temp_south.png')"
   ]
  },
  {
   "cell_type": "code",
   "execution_count": 21,
   "metadata": {},
   "outputs": [
    {
     "name": "stdout",
     "output_type": "stream",
     "text": [
      "0      68.323597\n",
      "3      73.609228\n",
      "5      72.716299\n",
      "6      71.307080\n",
      "9      59.394308\n",
      "         ...    \n",
      "535    79.140309\n",
      "537    72.627430\n",
      "545    69.432352\n",
      "546    80.384485\n",
      "554    64.908461\n",
      "Name: lat, Length: 182, dtype: float64\n"
     ]
    }
   ],
   "source": [
    "# Perform a linear regression on temperature vs. latitude\n",
    "(slope, intercept, rvalue, pvalue, stderr) = stats.linregress(south_weather_data[\"lat\"], south_weather_data[\"max_temp\"])\n",
    "\n",
    "# Get regression values\n",
    "regress_values = south_weather_data[\"lat\"] * slope + intercept\n",
    "print(regress_values)"
   ]
  },
  {
   "cell_type": "code",
   "execution_count": 22,
   "metadata": {},
   "outputs": [
    {
     "name": "stdout",
     "output_type": "stream",
     "text": [
      "y = 0.42x +82.59\n"
     ]
    }
   ],
   "source": [
    "# Create line equation string\n",
    "line_eq = \"y = \" + str(round(slope,2)) + \"x +\" + str(round(intercept,2))\n",
    "print(line_eq)"
   ]
  },
  {
   "cell_type": "code",
   "execution_count": 23,
   "metadata": {},
   "outputs": [
    {
     "name": "stdout",
     "output_type": "stream",
     "text": [
      "The r-squared is: 0.5534817646447338\n"
     ]
    },
    {
     "data": {
      "image/png": "[encoded data removed]",
      "text/plain": [
       "<Figure size 432x288 with 1 Axes>"
      ]
     },
     "metadata": {
      "needs_background": "light"
     },
     "output_type": "display_data"
    },
    {
     "name": "stdout",
     "output_type": "stream",
     "text": [
      "This plot is showing that cities closer to the equator have higher max temperatures. The southern hemisphere has a positive correlation between latitute and max temp, while the northern hemisphere has a negative correlation. In both cases, as you get further away from the equator temperature decreases, the correlation difference is due to the change between a positive or negative number based on northern or southern hemisphere.\n"
     ]
    },
    {
     "data": {
      "text/plain": [
       "<Figure size 432x288 with 0 Axes>"
      ]
     },
     "metadata": {},
     "output_type": "display_data"
    }
   ],
   "source": [
    " # Create Plot\n",
    "plt.scatter(south_weather_data[\"lat\"], south_weather_data[\"max_temp\"], marker=\"o\")\n",
    "plt.plot(south_weather_data[\"lat\"],regress_values,\"r-\")\n",
    "\n",
    "# Label plot and annotate the line equation\n",
    "plt.title(\"City Latitude vs. Max Temperature Southern Hemisphere\")\n",
    "plt.ylabel(\"Max Temperature (F)\")\n",
    "plt.xlabel(\"Latitude\")\n",
    "plt.grid(True)\n",
    "\n",
    "# Print r square value\n",
    "print(f\"The r-squared is: {rvalue}\")\n",
    "\n",
    "# Show plot\n",
    "plt.show()\n",
    "\n",
    "plt.savefig('city_lat_max_temp_south_reg.png')\n",
    "\n",
    "print('This plot is showing that cities closer to the equator have higher max temperatures. The southern hemisphere has a positive correlation between latitute and max temp, while the northern hemisphere has a negative correlation. In both cases, as you get further away from the equator temperature decreases, the correlation difference is due to the change between a positive or negative number based on northern or southern hemisphere.')"
   ]
  },
  {
   "cell_type": "code",
   "execution_count": 24,
   "metadata": {},
   "outputs": [
    {
     "data": {
      "image/png": "[encoded data removed]",
      "text/plain": [
       "<Figure size 432x288 with 1 Axes>"
      ]
     },
     "metadata": {
      "needs_background": "light"
     },
     "output_type": "display_data"
    },
    {
     "data": {
      "text/plain": [
       "<Figure size 432x288 with 0 Axes>"
      ]
     },
     "metadata": {},
     "output_type": "display_data"
    }
   ],
   "source": [
    "# Build a scatter plot for each data type\n",
    "plt.scatter(north_weather_data[\"lat\"], north_weather_data[\"humidity\"], marker=\"o\")\n",
    "\n",
    "# Incorporate the other graph properties\n",
    "plt.title(\"City Latitude vs. Humidity Northern Hemisphere\")\n",
    "plt.ylabel(\"Humidity\")\n",
    "plt.xlabel(\"Latitude\")\n",
    "plt.grid(True)\n",
    "\n",
    "# Show plot\n",
    "plt.show()\n",
    "\n",
    "plt.savefig('city_lat_humidity_north.png')"
   ]
  },
  {
   "cell_type": "code",
   "execution_count": 25,
   "metadata": {},
   "outputs": [
    {
     "name": "stdout",
     "output_type": "stream",
     "text": [
      "1      79.641321\n",
      "2      64.736455\n",
      "4      62.146930\n",
      "7      59.390453\n",
      "8      76.618433\n",
      "         ...    \n",
      "551    69.098508\n",
      "552    74.970230\n",
      "553    71.091270\n",
      "555    66.327823\n",
      "556    80.156385\n",
      "Name: lat, Length: 375, dtype: float64\n"
     ]
    }
   ],
   "source": [
    "# Perform a linear regression on temperature vs. latitude\n",
    "(slope, intercept, rvalue, pvalue, stderr) = stats.linregress(north_weather_data[\"lat\"], north_weather_data[\"humidity\"])\n",
    "\n",
    "# Get regression values\n",
    "regress_values = north_weather_data[\"lat\"] * slope + intercept\n",
    "print(regress_values)"
   ]
  },
  {
   "cell_type": "code",
   "execution_count": 26,
   "metadata": {},
   "outputs": [
    {
     "name": "stdout",
     "output_type": "stream",
     "text": [
      "y = 0.36x +56.82\n"
     ]
    }
   ],
   "source": [
    "# Create line equation string\n",
    "line_eq = \"y = \" + str(round(slope,2)) + \"x +\" + str(round(intercept,2))\n",
    "print(line_eq)"
   ]
  },
  {
   "cell_type": "code",
   "execution_count": 27,
   "metadata": {},
   "outputs": [
    {
     "name": "stdout",
     "output_type": "stream",
     "text": [
      "The r-squared is: 0.31476758056301896\n"
     ]
    },
    {
     "data": {
      "image/png": "[encoded data removed]",
      "text/plain": [
       "<Figure size 432x288 with 1 Axes>"
      ]
     },
     "metadata": {
      "needs_background": "light"
     },
     "output_type": "display_data"
    },
    {
     "data": {
      "text/plain": [
       "<Figure size 432x288 with 0 Axes>"
      ]
     },
     "metadata": {},
     "output_type": "display_data"
    }
   ],
   "source": [
    " # Create Plot\n",
    "plt.scatter(north_weather_data[\"lat\"], north_weather_data[\"humidity\"], marker=\"o\")\n",
    "plt.plot(north_weather_data[\"lat\"],regress_values,\"r-\")\n",
    "\n",
    "# Label plot and annotate the line equation\n",
    "plt.title(\"City Latitude vs. Humidity Northern Hemisphere\")\n",
    "plt.ylabel(\"Humidity\")\n",
    "plt.xlabel(\"Latitude\")\n",
    "plt.grid(True)\n",
    "\n",
    "# Print r square value\n",
    "print(f\"The r-squared is: {rvalue}\")\n",
    "\n",
    "# Show plot\n",
    "plt.show()\n",
    "\n",
    "plt.savefig('city_lat_humidity_north_reg.png')"
   ]
  },
  {
   "cell_type": "code",
   "execution_count": 28,
   "metadata": {},
   "outputs": [
    {
     "data": {
      "image/png": "[encoded data removed]",
      "text/plain": [
       "<Figure size 432x288 with 1 Axes>"
      ]
     },
     "metadata": {
      "needs_background": "light"
     },
     "output_type": "display_data"
    },
    {
     "data": {
      "text/plain": [
       "<Figure size 432x288 with 0 Axes>"
      ]
     },
     "metadata": {},
     "output_type": "display_data"
    }
   ],
   "source": [
    "# Build a scatter plot for each data type\n",
    "plt.scatter(south_weather_data[\"lat\"], south_weather_data[\"humidity\"], marker=\"o\")\n",
    "\n",
    "# Incorporate the other graph properties\n",
    "plt.title(\"City Latitude vs. Humidity Southern Hemisphere\")\n",
    "plt.ylabel(\"Humidity\")\n",
    "plt.xlabel(\"Latitude\")\n",
    "plt.grid(True)\n",
    "\n",
    "# Show plot\n",
    "plt.show()\n",
    "\n",
    "plt.savefig('city_lat_humidity_south.png')"
   ]
  },
  {
   "cell_type": "code",
   "execution_count": 29,
   "metadata": {},
   "outputs": [
    {
     "name": "stdout",
     "output_type": "stream",
     "text": [
      "0      71.067383\n",
      "3      75.818318\n",
      "5      75.015718\n",
      "6      73.749056\n",
      "9      63.041384\n",
      "         ...    \n",
      "535    80.789873\n",
      "537    74.935839\n",
      "545    72.063976\n",
      "546    81.908187\n",
      "554    67.997724\n",
      "Name: lat, Length: 182, dtype: float64\n"
     ]
    }
   ],
   "source": [
    "# Perform a linear regression on temperature vs. latitude\n",
    "(slope, intercept, rvalue, pvalue, stderr) = stats.linregress(south_weather_data[\"lat\"], south_weather_data[\"humidity\"])\n",
    "\n",
    "# Get regression values\n",
    "regress_values = south_weather_data[\"lat\"] * slope + intercept\n",
    "print(regress_values)"
   ]
  },
  {
   "cell_type": "code",
   "execution_count": 30,
   "metadata": {},
   "outputs": [
    {
     "name": "stdout",
     "output_type": "stream",
     "text": [
      "y = 0.38x +83.89\n"
     ]
    }
   ],
   "source": [
    "# Create line equation string\n",
    "line_eq = \"y = \" + str(round(slope,2)) + \"x +\" + str(round(intercept,2))\n",
    "print(line_eq)"
   ]
  },
  {
   "cell_type": "code",
   "execution_count": 31,
   "metadata": {},
   "outputs": [
    {
     "name": "stdout",
     "output_type": "stream",
     "text": [
      "The r-squared is: 0.2817182448433008\n"
     ]
    },
    {
     "data": {
      "image/png": "[encoded data removed]",
      "text/plain": [
       "<Figure size 432x288 with 1 Axes>"
      ]
     },
     "metadata": {
      "needs_background": "light"
     },
     "output_type": "display_data"
    },
    {
     "name": "stdout",
     "output_type": "stream",
     "text": [
      "Based on the data collected during this pull of 500+ cities it appears that both hemispheres have positive correlations between latitude and humidity. In the Southern Hemisphere we see as you get closer to the equator it becomes more humid. In the northern hemisphere as you get further from the equator it becomes more humid.\n"
     ]
    },
    {
     "data": {
      "text/plain": [
       "<Figure size 432x288 with 0 Axes>"
      ]
     },
     "metadata": {},
     "output_type": "display_data"
    }
   ],
   "source": [
    " # Create Plot\n",
    "plt.scatter(south_weather_data[\"lat\"], south_weather_data[\"humidity\"], marker=\"o\")\n",
    "plt.plot(south_weather_data[\"lat\"],regress_values,\"r-\")\n",
    "\n",
    "# Label plot and annotate the line equation\n",
    "plt.title(\"City Latitude vs. Humidity Southern Hemisphere\")\n",
    "plt.ylabel(\"Humidity\")\n",
    "plt.xlabel(\"Latitude\")\n",
    "plt.grid(True)\n",
    "\n",
    "# Print r square value\n",
    "print(f\"The r-squared is: {rvalue}\")\n",
    "\n",
    "# Show plot\n",
    "plt.show()\n",
    "\n",
    "plt.savefig('city_lat_humidity_south_reg.png')\n",
    "\n",
    "print(\"Based on the data collected during this pull of 500+ cities it appears that both hemispheres have positive correlations between latitude and humidity. In the Southern Hemisphere we see as you get closer to the equator it becomes more humid. In the northern hemisphere as you get further from the equator it becomes more humid.\")"
   ]
  },
  {
   "cell_type": "code",
   "execution_count": 32,
   "metadata": {},
   "outputs": [
    {
     "data": {
      "image/png": "[encoded data removed]",
      "text/plain": [
       "<Figure size 432x288 with 1 Axes>"
      ]
     },
     "metadata": {
      "needs_background": "light"
     },
     "output_type": "display_data"
    },
    {
     "data": {
      "text/plain": [
       "<Figure size 432x288 with 0 Axes>"
      ]
     },
     "metadata": {},
     "output_type": "display_data"
    }
   ],
   "source": [
    "# Build a scatter plot for each data type\n",
    "plt.scatter(north_weather_data[\"lat\"], north_weather_data[\"cloud\"], marker=\"o\")\n",
    "\n",
    "# Incorporate the other graph properties\n",
    "plt.title(\"City Latitude vs. Cloudiness Northern Hemisphere\")\n",
    "plt.ylabel(\"Cloudiness\")\n",
    "plt.xlabel(\"Latitude\")\n",
    "plt.grid(True)\n",
    "\n",
    "# Show plot\n",
    "plt.show()\n",
    "\n",
    "plt.savefig('city_lat_cloud_north.png')"
   ]
  },
  {
   "cell_type": "code",
   "execution_count": 33,
   "metadata": {},
   "outputs": [
    {
     "name": "stdout",
     "output_type": "stream",
     "text": [
      "1      63.314477\n",
      "2      44.554237\n",
      "4      41.294891\n",
      "7      37.825408\n",
      "8      59.509672\n",
      "         ...    \n",
      "551    50.044603\n",
      "552    57.435136\n",
      "553    52.552823\n",
      "555    46.557236\n",
      "556    63.962770\n",
      "Name: lat, Length: 375, dtype: float64\n"
     ]
    }
   ],
   "source": [
    "# Perform a linear regression on temperature vs. latitude\n",
    "(slope, intercept, rvalue, pvalue, stderr) = stats.linregress(north_weather_data[\"lat\"], north_weather_data[\"cloud\"])\n",
    "\n",
    "# Get regression values\n",
    "regress_values = north_weather_data[\"lat\"] * slope + intercept\n",
    "print(regress_values)"
   ]
  },
  {
   "cell_type": "code",
   "execution_count": 34,
   "metadata": {},
   "outputs": [
    {
     "name": "stdout",
     "output_type": "stream",
     "text": [
      "y = 0.45x +34.59\n"
     ]
    }
   ],
   "source": [
    "# Create line equation string\n",
    "line_eq = \"y = \" + str(round(slope,2)) + \"x +\" + str(round(intercept,2))\n",
    "print(line_eq)"
   ]
  },
  {
   "cell_type": "code",
   "execution_count": 35,
   "metadata": {},
   "outputs": [
    {
     "name": "stdout",
     "output_type": "stream",
     "text": [
      "The r-squared is: 0.23126414013813373\n"
     ]
    },
    {
     "data": {
      "image/png": "[encoded data removed]",
      "text/plain": [
       "<Figure size 432x288 with 1 Axes>"
      ]
     },
     "metadata": {
      "needs_background": "light"
     },
     "output_type": "display_data"
    },
    {
     "data": {
      "text/plain": [
       "<Figure size 432x288 with 0 Axes>"
      ]
     },
     "metadata": {},
     "output_type": "display_data"
    }
   ],
   "source": [
    "# Create Plot\n",
    "plt.scatter(north_weather_data[\"lat\"], north_weather_data[\"cloud\"], marker=\"o\")\n",
    "plt.plot(north_weather_data[\"lat\"],regress_values,\"r-\")\n",
    "\n",
    "# Label plot and annotate the line equation\n",
    "plt.title(\"City Latitude vs. Cloudiness Northern Hemisphere\")\n",
    "plt.ylabel(\"Cloudiness\")\n",
    "plt.xlabel(\"Latitude\")\n",
    "plt.grid(True)\n",
    "\n",
    "# Print r square value\n",
    "print(f\"The r-squared is: {rvalue}\")\n",
    "\n",
    "# Show plot\n",
    "plt.show()\n",
    "\n",
    "plt.savefig('city_lat_cloud_north_reg.png')"
   ]
  },
  {
   "cell_type": "code",
   "execution_count": 36,
   "metadata": {},
   "outputs": [
    {
     "data": {
      "image/png": "[encoded data removed]",
      "text/plain": [
       "<Figure size 432x288 with 1 Axes>"
      ]
     },
     "metadata": {
      "needs_background": "light"
     },
     "output_type": "display_data"
    },
    {
     "data": {
      "text/plain": [
       "<Figure size 432x288 with 0 Axes>"
      ]
     },
     "metadata": {},
     "output_type": "display_data"
    }
   ],
   "source": [
    "# Build a scatter plot for each data type\n",
    "plt.scatter(south_weather_data[\"lat\"], south_weather_data[\"cloud\"], marker=\"o\")\n",
    "\n",
    "# Incorporate the other graph properties\n",
    "plt.title(\"City Latitude vs. Cloudiness Southern Hemisphere\")\n",
    "plt.ylabel(\"Cloudiness\")\n",
    "plt.xlabel(\"Latitude\")\n",
    "plt.grid(True)\n",
    "\n",
    "# Show plot\n",
    "plt.show()\n",
    "\n",
    "plt.savefig('city_lat_cloud_south.png')"
   ]
  },
  {
   "cell_type": "code",
   "execution_count": 37,
   "metadata": {},
   "outputs": [
    {
     "name": "stdout",
     "output_type": "stream",
     "text": [
      "0      45.684986\n",
      "3      54.662162\n",
      "5      53.145602\n",
      "6      50.752167\n",
      "9      30.519381\n",
      "         ...    \n",
      "535    64.056213\n",
      "537    52.994664\n",
      "545    47.568109\n",
      "546    66.169335\n",
      "554    39.884682\n",
      "Name: lat, Length: 182, dtype: float64\n"
     ]
    }
   ],
   "source": [
    "# Perform a linear regression on temperature vs. latitude\n",
    "(slope, intercept, rvalue, pvalue, stderr) = stats.linregress(south_weather_data[\"lat\"], south_weather_data[\"cloud\"])\n",
    "\n",
    "# Get regression values\n",
    "regress_values = south_weather_data[\"lat\"] * slope + intercept\n",
    "print(regress_values)"
   ]
  },
  {
   "cell_type": "code",
   "execution_count": 38,
   "metadata": {},
   "outputs": [
    {
     "name": "stdout",
     "output_type": "stream",
     "text": [
      "y = 0.72x +69.91\n"
     ]
    }
   ],
   "source": [
    "# Create line equation string\n",
    "line_eq = \"y = \" + str(round(slope,2)) + \"x +\" + str(round(intercept,2))\n",
    "print(line_eq)"
   ]
  },
  {
   "cell_type": "code",
   "execution_count": 39,
   "metadata": {},
   "outputs": [
    {
     "name": "stdout",
     "output_type": "stream",
     "text": [
      "The r-squared is: 0.25810322992626605\n"
     ]
    },
    {
     "data": {
      "image/png": "[encoded data removed]",
      "text/plain": [
       "<Figure size 432x288 with 1 Axes>"
      ]
     },
     "metadata": {
      "needs_background": "light"
     },
     "output_type": "display_data"
    },
    {
     "name": "stdout",
     "output_type": "stream",
     "text": [
      "Both hemispheres have positive correlations between latitudes and cloudiness. In the Southern Hemisphere as you get closer to the equator there are more clouds.  In the Northern Hemisphere as you get further from the equator there are more clouds.\n"
     ]
    },
    {
     "data": {
      "text/plain": [
       "<Figure size 432x288 with 0 Axes>"
      ]
     },
     "metadata": {},
     "output_type": "display_data"
    }
   ],
   "source": [
    "# Create Plot\n",
    "plt.scatter(south_weather_data[\"lat\"], south_weather_data[\"cloud\"], marker=\"o\")\n",
    "plt.plot(south_weather_data[\"lat\"],regress_values,\"r-\")\n",
    "\n",
    "# Label plot and annotate the line equation\n",
    "plt.title(\"City Latitude vs. Cloudiness Southern Hemisphere\")\n",
    "plt.ylabel(\"Cloudiness\")\n",
    "plt.xlabel(\"Latitude\")\n",
    "plt.grid(True)\n",
    "\n",
    "# Print r square value\n",
    "print(f\"The r-squared is: {rvalue}\")\n",
    "\n",
    "# Show plot\n",
    "plt.show()\n",
    "\n",
    "plt.savefig('city_lat_cloud_south_reg.png')\n",
    "\n",
    "print('Both hemispheres have positive correlations between latitudes and cloudiness. In the Southern Hemisphere as you get closer to the equator there are more clouds.  In the Northern Hemisphere as you get further from the equator there are more clouds.')"
   ]
  },
  {
   "cell_type": "code",
   "execution_count": 40,
   "metadata": {},
   "outputs": [
    {
     "data": {
      "image/png": "[encoded data removed]",
      "text/plain": [
       "<Figure size 432x288 with 1 Axes>"
      ]
     },
     "metadata": {
      "needs_background": "light"
     },
     "output_type": "display_data"
    },
    {
     "data": {
      "text/plain": [
       "<Figure size 432x288 with 0 Axes>"
      ]
     },
     "metadata": {},
     "output_type": "display_data"
    }
   ],
   "source": [
    "# Build a scatter plot for each data type\n",
    "plt.scatter(north_weather_data[\"lat\"], north_weather_data[\"wind_speed\"], marker=\"o\")\n",
    "\n",
    "# Incorporate the other graph properties\n",
    "plt.title(\"City Latitude vs. Wind Speed Northern Hemisphere\")\n",
    "plt.ylabel(\"Wind Speed (mph)\")\n",
    "plt.xlabel(\"Latitude\")\n",
    "plt.grid(True)\n",
    "\n",
    "# Show plot\n",
    "plt.show()\n",
    "\n",
    "plt.savefig('city_lat_wind_north.png')"
   ]
  },
  {
   "cell_type": "code",
   "execution_count": 41,
   "metadata": {},
   "outputs": [
    {
     "name": "stdout",
     "output_type": "stream",
     "text": [
      "1      10.760729\n",
      "2       8.563626\n",
      "4       8.181909\n",
      "7       7.775581\n",
      "8      10.315130\n",
      "         ...    \n",
      "551     9.206630\n",
      "552    10.072171\n",
      "553     9.500380\n",
      "555     8.798207\n",
      "556    10.836654\n",
      "Name: lat, Length: 375, dtype: float64\n"
     ]
    }
   ],
   "source": [
    "# Perform a linear regression on temperature vs. latitude\n",
    "(slope, intercept, rvalue, pvalue, stderr) = stats.linregress(north_weather_data[\"lat\"], north_weather_data[\"wind_speed\"])\n",
    "\n",
    "# Get regression values\n",
    "regress_values = north_weather_data[\"lat\"] * slope + intercept\n",
    "print(regress_values)"
   ]
  },
  {
   "cell_type": "code",
   "execution_count": 42,
   "metadata": {},
   "outputs": [
    {
     "name": "stdout",
     "output_type": "stream",
     "text": [
      "y = 0.05x +7.4\n"
     ]
    }
   ],
   "source": [
    "# Create line equation string\n",
    "line_eq = \"y = \" + str(round(slope,2)) + \"x +\" + str(round(intercept,2))\n",
    "print(line_eq)"
   ]
  },
  {
   "cell_type": "code",
   "execution_count": 43,
   "metadata": {},
   "outputs": [
    {
     "name": "stdout",
     "output_type": "stream",
     "text": [
      "The r-squared is: 0.16513986341591155\n"
     ]
    },
    {
     "data": {
      "image/png": "[encoded data removed]",
      "text/plain": [
       "<Figure size 432x288 with 1 Axes>"
      ]
     },
     "metadata": {
      "needs_background": "light"
     },
     "output_type": "display_data"
    },
    {
     "data": {
      "text/plain": [
       "<Figure size 432x288 with 0 Axes>"
      ]
     },
     "metadata": {},
     "output_type": "display_data"
    }
   ],
   "source": [
    "# Create Plot\n",
    "plt.scatter(north_weather_data[\"lat\"], north_weather_data[\"wind_speed\"], marker=\"o\")\n",
    "plt.plot(north_weather_data[\"lat\"],regress_values,\"r-\")\n",
    "\n",
    "# Label plot and annotate the line equation\n",
    "plt.title(\"City Latitude vs. Wind Speed Northern Hemisphere\")\n",
    "plt.ylabel(\"Wind Speed (MPH)\")\n",
    "plt.xlabel(\"Latitude\")\n",
    "plt.grid(True)\n",
    "\n",
    "# Print r square value\n",
    "print(f\"The r-squared is: {rvalue}\")\n",
    "\n",
    "# Show plot\n",
    "plt.show()\n",
    "\n",
    "plt.savefig('city_lat_wind_north_reg.png')\n"
   ]
  },
  {
   "cell_type": "code",
   "execution_count": 44,
   "metadata": {},
   "outputs": [
    {
     "data": {
      "image/png": "[encoded data removed]",
      "text/plain": [
       "<Figure size 432x288 with 1 Axes>"
      ]
     },
     "metadata": {
      "needs_background": "light"
     },
     "output_type": "display_data"
    },
    {
     "data": {
      "text/plain": [
       "<Figure size 432x288 with 0 Axes>"
      ]
     },
     "metadata": {},
     "output_type": "display_data"
    }
   ],
   "source": [
    "# Build a scatter plot for each data type\n",
    "plt.scatter(south_weather_data[\"lat\"], south_weather_data[\"wind_speed\"], marker=\"o\")\n",
    "\n",
    "# Incorporate the other graph properties\n",
    "plt.title(\"City Latitude vs. Wind Speed Southern Hemisphere\")\n",
    "plt.ylabel(\"Wind Speed (mph)\")\n",
    "plt.xlabel(\"Latitude\")\n",
    "plt.grid(True)\n",
    "\n",
    "# Show plot\n",
    "plt.show()\n",
    "\n",
    "plt.savefig('city_lat_wind_south.png')"
   ]
  },
  {
   "cell_type": "code",
   "execution_count": 45,
   "metadata": {},
   "outputs": [
    {
     "name": "stdout",
     "output_type": "stream",
     "text": [
      "0       8.469315\n",
      "3       7.317833\n",
      "5       7.512359\n",
      "6       7.819359\n",
      "9      10.414573\n",
      "         ...    \n",
      "535     6.112879\n",
      "537     7.531719\n",
      "545     8.227771\n",
      "546     5.841833\n",
      "554     9.213307\n",
      "Name: lat, Length: 182, dtype: float64\n"
     ]
    }
   ],
   "source": [
    "# Perform a linear regression on temperature vs. latitude\n",
    "(slope, intercept, rvalue, pvalue, stderr) = stats.linregress(south_weather_data[\"lat\"], south_weather_data[\"wind_speed\"])\n",
    "\n",
    "# Get regression values\n",
    "regress_values = south_weather_data[\"lat\"] * slope + intercept\n",
    "print(regress_values)"
   ]
  },
  {
   "cell_type": "code",
   "execution_count": 46,
   "metadata": {},
   "outputs": [
    {
     "name": "stdout",
     "output_type": "stream",
     "text": [
      "y = -0.09x +5.36\n"
     ]
    }
   ],
   "source": [
    "# Create line equation string\n",
    "line_eq = \"y = \" + str(round(slope,2)) + \"x +\" + str(round(intercept,2))\n",
    "print(line_eq)"
   ]
  },
  {
   "cell_type": "code",
   "execution_count": 47,
   "metadata": {},
   "outputs": [
    {
     "name": "stdout",
     "output_type": "stream",
     "text": [
      "The r-squared is: -0.23752455133410771\n"
     ]
    },
    {
     "data": {
      "image/png": "[encoded data removed]",
      "text/plain": [
       "<Figure size 432x288 with 1 Axes>"
      ]
     },
     "metadata": {
      "needs_background": "light"
     },
     "output_type": "display_data"
    },
    {
     "name": "stdout",
     "output_type": "stream",
     "text": [
      "In the Northern Hemisphere as you get further from the equator wind speed picks up, conversly in the Southern Hemisphere as you get closer to the equator the wind speed slows down.\n"
     ]
    }
   ],
   "source": [
    "# Create Plot\n",
    "plt.scatter(south_weather_data[\"lat\"], south_weather_data[\"wind_speed\"], marker=\"o\")\n",
    "plt.plot(south_weather_data[\"lat\"],regress_values,\"r-\")\n",
    "\n",
    "# Label plot and annotate the line equation\n",
    "plt.title(\"City Latitude vs. Wind Speed Southern Hemisphere\")\n",
    "plt.ylabel(\"Wind Speed (MPH)\")\n",
    "plt.xlabel(\"Latitude\")\n",
    "plt.grid(True)\n",
    "\n",
    "# Print r square value\n",
    "print(f\"The r-squared is: {rvalue}\")\n",
    "\n",
    "# Show plot\n",
    "plt.show()\n",
    "\n",
    "print('In the Northern Hemisphere as you get further from the equator wind speed picks up, conversly in the Southern Hemisphere as you get closer to the equator the wind speed slows down.')\n"
   ]
  },
  {
   "cell_type": "code",
   "execution_count": null,
   "metadata": {},
   "outputs": [],
   "source": []
  },
  {
   "cell_type": "code",
   "execution_count": null,
   "metadata": {},
   "outputs": [],
   "source": []
  },
  {
   "cell_type": "code",
   "execution_count": null,
   "metadata": {},
   "outputs": [],
   "source": []
  },
  {
   "cell_type": "code",
   "execution_count": null,
   "metadata": {},
   "outputs": [],
   "source": []
  }
 ],
 "metadata": {
  "kernelspec": {
   "display_name": "Python 3",
   "language": "python",
   "name": "python3"
  },
  "language_info": {
   "codemirror_mode": {
    "name": "ipython",
    "version": 3
   },
   "file_extension": ".py",
   "mimetype": "text/x-python",
   "name": "python",
   "nbconvert_exporter": "python",
   "pygments_lexer": "ipython3",
   "version": "3.6.10"
  }
 },
 "nbformat": 4,
 "nbformat_minor": 4
}
