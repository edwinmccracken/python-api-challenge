{
 "cells": [
  {
   "cell_type": "code",
   "execution_count": 1,
   "metadata": {},
   "outputs": [],
   "source": [
    "# Dependencies and Setup\n",
    "import matplotlib.pyplot as plt\n",
    "import pandas as pd\n",
    "import numpy as np\n",
    "import requests\n",
    "import gmaps\n",
    "import os\n",
    "from scipy import stats\n",
    "\n",
    "# OpenWeatherMap API Key\n",
    "weather_api_key = \"8a02f5cd50992d2561fc902ff6f940be\""
   ]
  },
  {
   "cell_type": "code",
   "execution_count": 2,
   "metadata": {},
   "outputs": [
    {
     "name": "stdout",
     "output_type": "stream",
     "text": [
      "Requirement already satisfied: citipy in c:\\users\\joymode\\anaconda3\\envs\\pythondata\\lib\\site-packages (0.0.5)\n",
      "Requirement already satisfied: kdtree>=0.12 in c:\\users\\joymode\\anaconda3\\envs\\pythondata\\lib\\site-packages (from citipy) (0.16)\n",
      "Note: you may need to restart the kernel to use updated packages.\n"
     ]
    }
   ],
   "source": [
    "pip install citipy"
   ]
  },
  {
   "cell_type": "code",
   "execution_count": 3,
   "metadata": {},
   "outputs": [],
   "source": [
    "from citipy import citipy"
   ]
  },
  {
   "cell_type": "code",
   "execution_count": 4,
   "metadata": {},
   "outputs": [],
   "source": [
    "cities_list= []\n",
    "record_number = 0\n",
    "cloud=[]\n",
    "country=[]\n",
    "date=[]\n",
    "humidity=[]\n",
    "max_temp=[]\n",
    "wind_speed=[]\n",
    "lat=[]\n",
    "lon= []"
   ]
  },
  {
   "cell_type": "code",
   "execution_count": 5,
   "metadata": {},
   "outputs": [
    {
     "data": {
      "text/plain": [
       "625"
      ]
     },
     "execution_count": 5,
     "metadata": {},
     "output_type": "execute_result"
    }
   ],
   "source": [
    "# List for holding lat_lngs and cities\n",
    "lat_lngs = []\n",
    "cities = []\n",
    "\n",
    "# Create a set of random lat and lng combinations\n",
    "lats = np.random.uniform(low=-90.000, high=90.000, size=1500)\n",
    "lngs = np.random.uniform(low=-180.000, high=180.000, size=1500)\n",
    "lat_lngs = zip(lats, lngs)\n",
    "\n",
    "# Identify nearest city for each lat, lng combination\n",
    "for lat_lng in lat_lngs:\n",
    "    city = citipy.nearest_city(lat_lng[0], lat_lng[1]).city_name\n",
    "    \n",
    "    # If the city is unique, then add it to a our cities list\n",
    "    if city not in cities:\n",
    "        cities.append(city)\n",
    "\n",
    "# Print the city count to confirm sufficient count\n",
    "len(cities)"
   ]
  },
  {
   "cell_type": "code",
   "execution_count": 6,
   "metadata": {},
   "outputs": [],
   "source": [
    "output_data_file = \"cities.csv\""
   ]
  },
  {
   "cell_type": "code",
   "execution_count": 7,
   "metadata": {},
   "outputs": [
    {
     "name": "stdout",
     "output_type": "stream",
     "text": [
      "cities.csv\n"
     ]
    }
   ],
   "source": [
    "print(output_data_file)"
   ]
  },
  {
   "cell_type": "code",
   "execution_count": 8,
   "metadata": {},
   "outputs": [
    {
     "data": {
      "text/html": [
       "<div>\n",
       "<style scoped>\n",
       "    .dataframe tbody tr th:only-of-type {\n",
       "        vertical-align: middle;\n",
       "    }\n",
       "\n",
       "    .dataframe tbody tr th {\n",
       "        vertical-align: top;\n",
       "    }\n",
       "\n",
       "    .dataframe thead th {\n",
       "        text-align: right;\n",
       "    }\n",
       "</style>\n",
       "<table border=\"1\" class=\"dataframe\">\n",
       "  <thead>\n",
       "    <tr style=\"text-align: right;\">\n",
       "      <th></th>\n",
       "      <th>City_ID</th>\n",
       "      <th>City</th>\n",
       "      <th>Cloudiness</th>\n",
       "      <th>Country</th>\n",
       "      <th>Date</th>\n",
       "      <th>Humidity</th>\n",
       "      <th>Lat</th>\n",
       "      <th>Lng</th>\n",
       "      <th>Max Temp</th>\n",
       "      <th>Wind Speed</th>\n",
       "    </tr>\n",
       "  </thead>\n",
       "  <tbody>\n",
       "    <tr>\n",
       "      <th>0</th>\n",
       "      <td>0</td>\n",
       "      <td>ostrovnoy</td>\n",
       "      <td>2</td>\n",
       "      <td>RU</td>\n",
       "      <td>1558378754</td>\n",
       "      <td>72</td>\n",
       "      <td>68.05</td>\n",
       "      <td>39.51</td>\n",
       "      <td>37.50</td>\n",
       "      <td>7.16</td>\n",
       "    </tr>\n",
       "    <tr>\n",
       "      <th>1</th>\n",
       "      <td>1</td>\n",
       "      <td>mahebourg</td>\n",
       "      <td>75</td>\n",
       "      <td>MU</td>\n",
       "      <td>1558378503</td>\n",
       "      <td>74</td>\n",
       "      <td>-20.41</td>\n",
       "      <td>57.70</td>\n",
       "      <td>78.80</td>\n",
       "      <td>11.41</td>\n",
       "    </tr>\n",
       "    <tr>\n",
       "      <th>2</th>\n",
       "      <td>2</td>\n",
       "      <td>qaanaaq</td>\n",
       "      <td>25</td>\n",
       "      <td>GL</td>\n",
       "      <td>1558378755</td>\n",
       "      <td>73</td>\n",
       "      <td>77.48</td>\n",
       "      <td>-69.36</td>\n",
       "      <td>22.20</td>\n",
       "      <td>2.37</td>\n",
       "    </tr>\n",
       "    <tr>\n",
       "      <th>3</th>\n",
       "      <td>3</td>\n",
       "      <td>zhuhai</td>\n",
       "      <td>0</td>\n",
       "      <td>CN</td>\n",
       "      <td>1558378755</td>\n",
       "      <td>39</td>\n",
       "      <td>40.71</td>\n",
       "      <td>112.04</td>\n",
       "      <td>44.60</td>\n",
       "      <td>4.47</td>\n",
       "    </tr>\n",
       "    <tr>\n",
       "      <th>4</th>\n",
       "      <td>4</td>\n",
       "      <td>cape town</td>\n",
       "      <td>20</td>\n",
       "      <td>ZA</td>\n",
       "      <td>1558378755</td>\n",
       "      <td>76</td>\n",
       "      <td>-33.93</td>\n",
       "      <td>18.42</td>\n",
       "      <td>55.99</td>\n",
       "      <td>8.05</td>\n",
       "    </tr>\n",
       "    <tr>\n",
       "      <th>...</th>\n",
       "      <td>...</td>\n",
       "      <td>...</td>\n",
       "      <td>...</td>\n",
       "      <td>...</td>\n",
       "      <td>...</td>\n",
       "      <td>...</td>\n",
       "      <td>...</td>\n",
       "      <td>...</td>\n",
       "      <td>...</td>\n",
       "      <td>...</td>\n",
       "    </tr>\n",
       "    <tr>\n",
       "      <th>543</th>\n",
       "      <td>543</td>\n",
       "      <td>yabrud</td>\n",
       "      <td>0</td>\n",
       "      <td>SY</td>\n",
       "      <td>1558378840</td>\n",
       "      <td>32</td>\n",
       "      <td>33.97</td>\n",
       "      <td>36.66</td>\n",
       "      <td>80.60</td>\n",
       "      <td>8.05</td>\n",
       "    </tr>\n",
       "    <tr>\n",
       "      <th>544</th>\n",
       "      <td>544</td>\n",
       "      <td>paraiso</td>\n",
       "      <td>5</td>\n",
       "      <td>MX</td>\n",
       "      <td>1558378898</td>\n",
       "      <td>4</td>\n",
       "      <td>24.01</td>\n",
       "      <td>-104.61</td>\n",
       "      <td>84.20</td>\n",
       "      <td>16.11</td>\n",
       "    </tr>\n",
       "    <tr>\n",
       "      <th>545</th>\n",
       "      <td>545</td>\n",
       "      <td>veraval</td>\n",
       "      <td>0</td>\n",
       "      <td>FR</td>\n",
       "      <td>1558378898</td>\n",
       "      <td>62</td>\n",
       "      <td>49.65</td>\n",
       "      <td>0.71</td>\n",
       "      <td>61.00</td>\n",
       "      <td>8.05</td>\n",
       "    </tr>\n",
       "    <tr>\n",
       "      <th>546</th>\n",
       "      <td>546</td>\n",
       "      <td>novyy urgal</td>\n",
       "      <td>100</td>\n",
       "      <td>RU</td>\n",
       "      <td>1558378899</td>\n",
       "      <td>93</td>\n",
       "      <td>51.07</td>\n",
       "      <td>132.56</td>\n",
       "      <td>49.74</td>\n",
       "      <td>2.68</td>\n",
       "    </tr>\n",
       "    <tr>\n",
       "      <th>547</th>\n",
       "      <td>547</td>\n",
       "      <td>tongren</td>\n",
       "      <td>4</td>\n",
       "      <td>CN</td>\n",
       "      <td>1558378899</td>\n",
       "      <td>64</td>\n",
       "      <td>27.72</td>\n",
       "      <td>109.18</td>\n",
       "      <td>55.86</td>\n",
       "      <td>2.84</td>\n",
       "    </tr>\n",
       "  </tbody>\n",
       "</table>\n",
       "<p>548 rows × 10 columns</p>\n",
       "</div>"
      ],
      "text/plain": [
       "     City_ID         City  Cloudiness Country        Date  Humidity    Lat  \\\n",
       "0          0    ostrovnoy           2      RU  1558378754        72  68.05   \n",
       "1          1    mahebourg          75      MU  1558378503        74 -20.41   \n",
       "2          2      qaanaaq          25      GL  1558378755        73  77.48   \n",
       "3          3       zhuhai           0      CN  1558378755        39  40.71   \n",
       "4          4    cape town          20      ZA  1558378755        76 -33.93   \n",
       "..       ...          ...         ...     ...         ...       ...    ...   \n",
       "543      543       yabrud           0      SY  1558378840        32  33.97   \n",
       "544      544      paraiso           5      MX  1558378898         4  24.01   \n",
       "545      545      veraval           0      FR  1558378898        62  49.65   \n",
       "546      546  novyy urgal         100      RU  1558378899        93  51.07   \n",
       "547      547      tongren           4      CN  1558378899        64  27.72   \n",
       "\n",
       "        Lng  Max Temp  Wind Speed  \n",
       "0     39.51     37.50        7.16  \n",
       "1     57.70     78.80       11.41  \n",
       "2    -69.36     22.20        2.37  \n",
       "3    112.04     44.60        4.47  \n",
       "4     18.42     55.99        8.05  \n",
       "..      ...       ...         ...  \n",
       "543   36.66     80.60        8.05  \n",
       "544 -104.61     84.20       16.11  \n",
       "545    0.71     61.00        8.05  \n",
       "546  132.56     49.74        2.68  \n",
       "547  109.18     55.86        2.84  \n",
       "\n",
       "[548 rows x 10 columns]"
      ]
     },
     "execution_count": 8,
     "metadata": {},
     "output_type": "execute_result"
    }
   ],
   "source": [
    "data = pd.read_csv(output_data_file)\n",
    "data"
   ]
  },
  {
   "cell_type": "code",
   "execution_count": 9,
   "metadata": {},
   "outputs": [
    {
     "data": {
      "text/html": [
       "<div>\n",
       "<style scoped>\n",
       "    .dataframe tbody tr th:only-of-type {\n",
       "        vertical-align: middle;\n",
       "    }\n",
       "\n",
       "    .dataframe tbody tr th {\n",
       "        vertical-align: top;\n",
       "    }\n",
       "\n",
       "    .dataframe thead th {\n",
       "        text-align: right;\n",
       "    }\n",
       "</style>\n",
       "<table border=\"1\" class=\"dataframe\">\n",
       "  <thead>\n",
       "    <tr style=\"text-align: right;\">\n",
       "      <th></th>\n",
       "      <th>City_ID</th>\n",
       "      <th>City</th>\n",
       "      <th>Cloudiness</th>\n",
       "      <th>Country</th>\n",
       "      <th>Date</th>\n",
       "      <th>Humidity</th>\n",
       "      <th>Lat</th>\n",
       "      <th>Lng</th>\n",
       "      <th>Max Temp</th>\n",
       "      <th>Wind Speed</th>\n",
       "    </tr>\n",
       "  </thead>\n",
       "  <tbody>\n",
       "    <tr>\n",
       "      <th>0</th>\n",
       "      <td>0</td>\n",
       "      <td>ostrovnoy</td>\n",
       "      <td>2</td>\n",
       "      <td>RU</td>\n",
       "      <td>1558378754</td>\n",
       "      <td>72</td>\n",
       "      <td>68.05</td>\n",
       "      <td>39.51</td>\n",
       "      <td>37.50</td>\n",
       "      <td>7.16</td>\n",
       "    </tr>\n",
       "    <tr>\n",
       "      <th>1</th>\n",
       "      <td>1</td>\n",
       "      <td>mahebourg</td>\n",
       "      <td>75</td>\n",
       "      <td>MU</td>\n",
       "      <td>1558378503</td>\n",
       "      <td>74</td>\n",
       "      <td>-20.41</td>\n",
       "      <td>57.70</td>\n",
       "      <td>78.80</td>\n",
       "      <td>11.41</td>\n",
       "    </tr>\n",
       "    <tr>\n",
       "      <th>2</th>\n",
       "      <td>2</td>\n",
       "      <td>qaanaaq</td>\n",
       "      <td>25</td>\n",
       "      <td>GL</td>\n",
       "      <td>1558378755</td>\n",
       "      <td>73</td>\n",
       "      <td>77.48</td>\n",
       "      <td>-69.36</td>\n",
       "      <td>22.20</td>\n",
       "      <td>2.37</td>\n",
       "    </tr>\n",
       "    <tr>\n",
       "      <th>3</th>\n",
       "      <td>3</td>\n",
       "      <td>zhuhai</td>\n",
       "      <td>0</td>\n",
       "      <td>CN</td>\n",
       "      <td>1558378755</td>\n",
       "      <td>39</td>\n",
       "      <td>40.71</td>\n",
       "      <td>112.04</td>\n",
       "      <td>44.60</td>\n",
       "      <td>4.47</td>\n",
       "    </tr>\n",
       "    <tr>\n",
       "      <th>4</th>\n",
       "      <td>4</td>\n",
       "      <td>cape town</td>\n",
       "      <td>20</td>\n",
       "      <td>ZA</td>\n",
       "      <td>1558378755</td>\n",
       "      <td>76</td>\n",
       "      <td>-33.93</td>\n",
       "      <td>18.42</td>\n",
       "      <td>55.99</td>\n",
       "      <td>8.05</td>\n",
       "    </tr>\n",
       "  </tbody>\n",
       "</table>\n",
       "</div>"
      ],
      "text/plain": [
       "   City_ID       City  Cloudiness Country        Date  Humidity    Lat  \\\n",
       "0        0  ostrovnoy           2      RU  1558378754        72  68.05   \n",
       "1        1  mahebourg          75      MU  1558378503        74 -20.41   \n",
       "2        2    qaanaaq          25      GL  1558378755        73  77.48   \n",
       "3        3     zhuhai           0      CN  1558378755        39  40.71   \n",
       "4        4  cape town          20      ZA  1558378755        76 -33.93   \n",
       "\n",
       "      Lng  Max Temp  Wind Speed  \n",
       "0   39.51     37.50        7.16  \n",
       "1   57.70     78.80       11.41  \n",
       "2  -69.36     22.20        2.37  \n",
       "3  112.04     44.60        4.47  \n",
       "4   18.42     55.99        8.05  "
      ]
     },
     "execution_count": 9,
     "metadata": {},
     "output_type": "execute_result"
    }
   ],
   "source": [
    "data_df = pd.DataFrame(data)\n",
    "data_df.head()"
   ]
  },
  {
   "cell_type": "code",
   "execution_count": null,
   "metadata": {},
   "outputs": [],
   "source": [
    "\n",
    "\n"
   ]
  },
  {
   "cell_type": "code",
   "execution_count": 10,
   "metadata": {},
   "outputs": [
    {
     "name": "stdout",
     "output_type": "stream",
     "text": [
      "Processing Record 1 | Manga\n",
      "Processing Record 2 | Ambilobe\n",
      "Processing Record 3 | Busselton\n",
      "Processing Record 4 | Sakakah\n",
      "Processing Record 5 | Gold Coast\n",
      "Processing Record 6 | Huron\n",
      "Processing Record 7 | Aklavik\n",
      "City not found. Skipping...\n",
      "Processing Record 8 | Kapaa\n",
      "Processing Record 9 | Airai\n",
      "Processing Record 10 | Dunedin\n",
      "Processing Record 11 | Normandin\n",
      "Processing Record 12 | Geraldton\n",
      "City not found. Skipping...\n",
      "City not found. Skipping...\n",
      "Processing Record 13 | Punta Arenas\n",
      "Processing Record 14 | Annaberg-Buchholz\n",
      "Processing Record 15 | Severo-Kuril'sk\n",
      "Processing Record 16 | Carnarvon\n",
      "Processing Record 17 | Hithadhoo\n",
      "Processing Record 18 | Tiksi\n",
      "Processing Record 19 | Ushuaia\n",
      "Processing Record 20 | Avarua\n",
      "Processing Record 21 | Huambo\n",
      "Processing Record 22 | Kimberley\n",
      "Processing Record 23 | Fairview\n",
      "Processing Record 24 | Nanortalik\n",
      "City not found. Skipping...\n",
      "Processing Record 25 | Lavrentiya\n",
      "Processing Record 26 | Harindānga\n",
      "Processing Record 27 | Madison Heights\n",
      "Processing Record 28 | Askiz\n",
      "Processing Record 29 | Bluff\n",
      "Processing Record 30 | Comodoro Rivadavia\n",
      "Processing Record 31 | Esperance\n",
      "Processing Record 32 | Qaanaaq\n",
      "Processing Record 33 | Tazmalt\n",
      "Processing Record 34 | Dogondoutchi\n",
      "Processing Record 35 | Ahipara\n",
      "Processing Record 36 | Lebu\n",
      "Processing Record 37 | Hobart\n",
      "Processing Record 38 | Dumka\n",
      "City not found. Skipping...\n",
      "Processing Record 39 | Coquimbo\n",
      "Processing Record 40 | Khatanga\n",
      "Processing Record 41 | Port Elizabeth\n",
      "Processing Record 42 | Rikitea\n",
      "Processing Record 43 | Karasburg\n",
      "Processing Record 44 | La Ronge\n",
      "Processing Record 45 | Butaritari\n",
      "Processing Record 46 | Port Alfred\n",
      "Processing Record 47 | Mozarlândia\n",
      "Processing Record 48 | Arraial do Cabo\n",
      "Processing Record 49 | Ransang\n",
      "Processing Record 50 | Atuona\n",
      "Processing Record 51 | Codrington\n",
      "Processing Record 52 | Cidreira\n",
      "Processing Record 53 | Norman Wells\n",
      "Processing Record 54 | Atar\n",
      "Processing Record 55 | Kiunga\n",
      "Processing Record 56 | Saint-Leu\n",
      "City not found. Skipping...\n",
      "Processing Record 57 | Leningradskiy\n",
      "Processing Record 58 | Senneterre\n",
      "Processing Record 59 | Tiznit Province\n",
      "Processing Record 60 | Upernavik\n",
      "Processing Record 61 | Dhidhdhoo\n",
      "Processing Record 62 | Kutum\n",
      "Processing Record 63 | Hay River\n",
      "Processing Record 64 | Sola\n",
      "Processing Record 65 | Aktau\n",
      "Processing Record 66 | Hilo\n",
      "Processing Record 67 | Kichha\n",
      "Processing Record 68 | Balkhash\n",
      "City not found. Skipping...\n",
      "City not found. Skipping...\n",
      "Processing Record 69 | Korla\n",
      "Processing Record 70 | Saint George\n",
      "Processing Record 71 | Walvis Bay\n",
      "Processing Record 72 | Chui\n",
      "Processing Record 73 | Barrow\n",
      "City not found. Skipping...\n",
      "Processing Record 74 | Yulara\n",
      "Processing Record 75 | Lorengau\n",
      "Processing Record 76 | Bogorodskoye\n",
      "Processing Record 77 | Balatonfűzfő\n",
      "Processing Record 78 | Hasaki\n",
      "Processing Record 79 | Mehamn\n",
      "Processing Record 80 | Jamestown\n",
      "Processing Record 81 | Vaini\n",
      "City not found. Skipping...\n",
      "Processing Record 82 | Eyl\n",
      "Processing Record 83 | Saldanha\n",
      "Processing Record 84 | Zhezkazgan\n",
      "Processing Record 85 | New Norfolk\n",
      "Processing Record 86 | Souillac\n",
      "Processing Record 87 | Åmot\n",
      "Processing Record 88 | Yellowknife\n",
      "Processing Record 89 | Samarai\n",
      "City not found. Skipping...\n",
      "Processing Record 90 | Albany\n",
      "Processing Record 91 | Puerto Ayora\n",
      "City not found. Skipping...\n",
      "Processing Record 92 | Cape Town\n",
      "Processing Record 93 | Nara\n",
      "Processing Record 94 | Hermanus\n",
      "Processing Record 95 | Provideniya\n",
      "Processing Record 96 | Mahina\n",
      "Processing Record 97 | Iqaluit\n",
      "Processing Record 98 | Launceston\n",
      "Processing Record 99 | Saskylakh\n",
      "Processing Record 100 | Brusyliv\n",
      "Processing Record 101 | Strezhevoy\n",
      "Processing Record 102 | Chennai\n",
      "Processing Record 103 | Byron Bay\n",
      "City not found. Skipping...\n",
      "City not found. Skipping...\n",
      "Processing Record 104 | Mataura\n",
      "Processing Record 105 | Husavik\n",
      "City not found. Skipping...\n",
      "Processing Record 106 | Port Macquarie\n",
      "Processing Record 107 | Mahébourg\n",
      "Processing Record 108 | Qaqortoq\n",
      "Processing Record 109 | Ubari\n",
      "Processing Record 110 | Seoul\n",
      "Processing Record 111 | Kaitangata\n",
      "Processing Record 112 | Durango\n",
      "City not found. Skipping...\n",
      "Processing Record 113 | Praia da Vitória\n",
      "City not found. Skipping...\n",
      "Processing Record 114 | Grand Forks\n",
      "Processing Record 115 | Bambous Virieux\n",
      "Processing Record 116 | Makakilo City\n",
      "Processing Record 117 | Alice Springs\n",
      "Processing Record 118 | Talnakh\n",
      "Processing Record 119 | Emerald\n",
      "Processing Record 120 | Sarh\n",
      "Processing Record 121 | Bredasdorp\n",
      "Processing Record 122 | Dharmapuri\n",
      "Processing Record 123 | Sitka\n",
      "Processing Record 124 | Port Lincoln\n",
      "Processing Record 125 | Constitución\n",
      "Processing Record 126 | Naze\n",
      "Processing Record 127 | Henties Bay\n",
      "Processing Record 128 | Portland\n",
      "City not found. Skipping...\n",
      "Processing Record 129 | Flin Flon\n",
      "Processing Record 130 | Natal\n",
      "Processing Record 131 | Shingū\n",
      "Processing Record 132 | Egvekinot\n",
      "Processing Record 133 | Kenai\n",
      "Processing Record 134 | Lahaina\n",
      "Processing Record 135 | Fortuna\n",
      "City not found. Skipping...\n",
      "Processing Record 136 | Banda Aceh\n",
      "Processing Record 137 | Lovozero\n",
      "Processing Record 138 | Torbay\n",
      "Processing Record 139 | Mapiripán\n",
      "Processing Record 140 | Los Llanos de Aridane\n",
      "Processing Record 141 | Puta\n",
      "Processing Record 142 | Thompson\n",
      "Processing Record 143 | Mayo\n",
      "City not found. Skipping...\n",
      "Processing Record 144 | Sirte\n",
      "Processing Record 145 | Zambezi\n",
      "City not found. Skipping...\n",
      "Processing Record 146 | Tuatapere\n",
      "Processing Record 147 | Mar del Plata\n",
      "Processing Record 148 | Te Anau\n",
      "Processing Record 149 | Luanda\n",
      "Processing Record 150 | Manokwari\n",
      "Processing Record 151 | Kailua\n",
      "Processing Record 152 | Båtsfjord\n",
      "City not found. Skipping...\n",
      "Processing Record 153 | Qasigiannguit\n",
      "Processing Record 154 | Isangel\n",
      "Processing Record 155 | Cherskiy\n",
      "Processing Record 156 | Ribeira Grande\n",
      "Processing Record 157 | East London\n",
      "Processing Record 158 | Provincia di Pescara\n",
      "Processing Record 159 | Berlevåg\n",
      "Processing Record 160 | Saint Anthony\n",
      "Processing Record 161 | Alta Floresta\n",
      "Processing Record 162 | Tasiilaq\n",
      "Processing Record 163 | Katangli\n",
      "Processing Record 164 | Vicuña\n",
      "Processing Record 165 | Piaçabuçu\n",
      "Processing Record 166 | Faya\n",
      "Processing Record 167 | Chipinge\n",
      "Processing Record 168 | Yagodnoye\n",
      "City not found. Skipping...\n",
      "Processing Record 169 | Sapa\n",
      "Processing Record 170 | Youkounkoun\n",
      "Processing Record 171 | Castro\n",
      "Processing Record 172 | Rāwah\n",
      "City not found. Skipping...\n",
      "Processing Record 173 | Porto-Novo\n",
      "Processing Record 174 | Leiva\n",
      "Processing Record 175 | Koulikoro\n",
      "City not found. Skipping...\n",
      "Processing Record 176 | Avera\n",
      "City not found. Skipping...\n",
      "Processing Record 177 | Taoudenni\n",
      "Processing Record 178 | Banepā\n",
      "Processing Record 179 | Gijang\n",
      "Processing Record 180 | Pampa\n",
      "Processing Record 181 | Jacareacanga\n",
      "Processing Record 182 | Payo\n",
      "Processing Record 183 | Abu Samrah\n",
      "Processing Record 184 | Krasnosel'kup\n",
      "Processing Record 185 | Moa\n",
      "Processing Record 186 | San Patricio\n",
      "Processing Record 187 | Carutapera\n",
      "Processing Record 188 | Zyryanka\n",
      "Processing Record 189 | Hamilton\n",
      "Processing Record 190 | Pevek\n",
      "Processing Record 191 | Hervey Bay\n",
      "Processing Record 192 | Mount Gambier\n",
      "Processing Record 193 | Varkaus\n",
      "Processing Record 194 | Kemijärvi\n",
      "Processing Record 195 | Nikolskoye\n",
      "Processing Record 196 | Antofagasta\n",
      "Processing Record 197 | Moses Lake\n",
      "Processing Record 198 | Satipo\n",
      "Processing Record 199 | George Town\n",
      "Processing Record 200 | Ponta do Sol\n",
      "Processing Record 201 | Chapais\n",
      "Processing Record 202 | Bubaque\n",
      "Processing Record 203 | Clyde River\n",
      "Processing Record 204 | Inhambane\n",
      "Processing Record 205 | Benguela\n",
      "City not found. Skipping...\n",
      "Processing Record 206 | Cheţani\n",
      "Processing Record 207 | Yatou\n",
      "Processing Record 208 | Dubti\n",
      "City not found. Skipping...\n",
      "Processing Record 209 | Waipawa\n",
      "Processing Record 210 | Broken Hill\n",
      "Processing Record 211 | Ambatondrazaka\n",
      "Processing Record 212 | Anadyr\n",
      "Processing Record 213 | La Palma\n",
      "Processing Record 214 | Bathsheba\n",
      "Processing Record 215 | Nouadhibou\n",
      "Processing Record 216 | Zhigansk\n",
      "Processing Record 217 | Saurimo\n",
      "City not found. Skipping...\n",
      "Processing Record 218 | Saint Paul Harbor\n",
      "Processing Record 219 | Saint-Philippe\n",
      "Processing Record 220 | Tokonou\n",
      "Processing Record 221 | Fairbanks\n",
      "Processing Record 222 | Salinas\n",
      "Processing Record 223 | Chokurdakh\n",
      "Processing Record 224 | Leeton\n"
     ]
    },
    {
     "name": "stdout",
     "output_type": "stream",
     "text": [
      "Processing Record 225 | Taiyuan\n",
      "Processing Record 226 | Dingle\n",
      "Processing Record 227 | Pucallpa\n",
      "Processing Record 228 | Asău\n",
      "Processing Record 229 | Lázaro Cárdenas\n",
      "Processing Record 230 | Bayan\n",
      "Processing Record 231 | Pangody\n",
      "Processing Record 232 | Khanbari\n",
      "City not found. Skipping...\n",
      "City not found. Skipping...\n",
      "Processing Record 233 | Merauke\n",
      "Processing Record 234 | Hualmay\n",
      "Processing Record 235 | Contai\n",
      "Processing Record 236 | Maceió\n",
      "Processing Record 237 | Maricá\n",
      "Processing Record 238 | Pierre\n",
      "Processing Record 239 | Cabo San Lucas\n",
      "Processing Record 240 | Dikson\n",
      "Processing Record 241 | Tilichiki\n",
      "Processing Record 242 | Vao\n",
      "Processing Record 243 | Cururupu\n",
      "City not found. Skipping...\n",
      "Processing Record 244 | Pokhara\n",
      "Processing Record 245 | Port Blair\n",
      "Processing Record 246 | Gamba\n",
      "Processing Record 247 | Esim\n",
      "Processing Record 248 | Zdvinsk\n",
      "Processing Record 249 | Kathu\n",
      "Processing Record 250 | Bingöl\n",
      "Processing Record 251 | Pemangkat\n",
      "Processing Record 252 | Turbiv\n",
      "City not found. Skipping...\n",
      "Processing Record 253 | Majholi\n",
      "Processing Record 254 | Touros\n",
      "Processing Record 255 | Yerbogachën\n",
      "Processing Record 256 | Umred\n",
      "Processing Record 257 | Rosa Zarate\n",
      "Processing Record 258 | Wanning\n",
      "Processing Record 259 | La Asuncion\n",
      "Processing Record 260 | Ilulissat\n",
      "Processing Record 261 | Tuktoyaktuk\n",
      "Processing Record 262 | Petropavlovsk-Kamchatskiy\n",
      "Processing Record 263 | Kaduy\n",
      "Processing Record 264 | Tual\n",
      "Processing Record 265 | Hong Kong\n",
      "City not found. Skipping...\n",
      "Processing Record 266 | Labuhan\n",
      "Processing Record 267 | Lagoa\n",
      "Processing Record 268 | College\n",
      "Processing Record 269 | São João da Barra\n",
      "Processing Record 270 | Marrakesh\n",
      "Processing Record 271 | Altagracia de Orituco\n",
      "Processing Record 272 | Trelew\n",
      "Processing Record 273 | Marawi\n",
      "Processing Record 274 | Papayal\n",
      "Processing Record 275 | Honningsvåg\n",
      "Processing Record 276 | Kyaikkami\n",
      "Processing Record 277 | Las Palmas\n",
      "Processing Record 278 | Kruisfontein\n",
      "Processing Record 279 | Bethel\n",
      "Processing Record 280 | Nuristan\n",
      "Processing Record 281 | Buala\n",
      "Processing Record 282 | Mwense\n",
      "Processing Record 283 | Ixtapa\n",
      "City not found. Skipping...\n",
      "Processing Record 284 | Nagato\n",
      "Processing Record 285 | Bambanglipuro\n",
      "Processing Record 286 | Pithorāgarh\n",
      "Processing Record 287 | Ostrovnoy\n",
      "Processing Record 288 | Lompoc\n",
      "City not found. Skipping...\n",
      "Processing Record 289 | Balakhninskiy\n",
      "Processing Record 290 | Evangelista\n",
      "Processing Record 291 | Ruzsa\n",
      "Processing Record 292 | Hobyo\n",
      "Processing Record 293 | Bambuí\n",
      "City not found. Skipping...\n",
      "Processing Record 294 | Lewistown\n",
      "Processing Record 295 | High Level\n",
      "City not found. Skipping...\n",
      "Processing Record 296 | Caniço\n",
      "Processing Record 297 | Lac du Bonnet\n",
      "Processing Record 298 | Unaí\n",
      "Processing Record 299 | Shaunavon\n",
      "Processing Record 300 | Nuuk\n",
      "Processing Record 301 | Safford\n",
      "Processing Record 302 | Manavālakurichi\n",
      "Processing Record 303 | Fatsa\n",
      "Processing Record 304 | Anaco\n",
      "Processing Record 305 | Kendari\n",
      "Processing Record 306 | Rosita\n",
      "Processing Record 307 | Cimarron Hills\n",
      "Processing Record 308 | Mitha Tiwana\n",
      "Processing Record 309 | Brigantine\n",
      "Processing Record 310 | Anglet\n",
      "Processing Record 311 | Utete\n",
      "Processing Record 312 | São Félix do Xingu\n",
      "Processing Record 313 | Namatanai\n",
      "Processing Record 314 | Hirara\n",
      "Processing Record 315 | Faanui\n",
      "Processing Record 316 | Teya\n",
      "Processing Record 317 | Pisco\n",
      "Processing Record 318 | Cap Malheureux\n",
      "Processing Record 319 | Innisfail\n",
      "Processing Record 320 | Razdol'noye\n",
      "Processing Record 321 | Tabat\n",
      "Processing Record 322 | Deder\n",
      "Processing Record 323 | Feuchtwangen\n",
      "Processing Record 324 | Kavaratti\n",
      "Processing Record 325 | Shashi\n",
      "Processing Record 326 | Tiarei\n",
      "City not found. Skipping...\n",
      "Processing Record 327 | Mīnāb\n",
      "Processing Record 328 | Nome\n",
      "Processing Record 329 | Aranos\n",
      "Processing Record 330 | Makkah al Mukarramah\n",
      "Processing Record 331 | Acapulco de Juárez\n",
      "Processing Record 332 | Great Yarmouth\n",
      "Processing Record 333 | Quzhou\n",
      "Processing Record 334 | Álamo\n",
      "Processing Record 335 | Arrondissement de Langres\n",
      "Processing Record 336 | Kieta\n",
      "Processing Record 337 | Tautira\n",
      "Processing Record 338 | Mawlaik\n",
      "Processing Record 339 | Quatre Cocos\n",
      "Processing Record 340 | Shitanjing\n",
      "Processing Record 341 | Prudnik\n",
      "Processing Record 342 | Morondava\n",
      "Processing Record 343 | Ankazoabo\n",
      "Processing Record 344 | Kiryat Gat\n",
      "Processing Record 345 | Cabra\n",
      "Processing Record 346 | Goderich\n",
      "City not found. Skipping...\n",
      "Processing Record 347 | Vardø\n",
      "Processing Record 348 | Khvoynaya\n",
      "Processing Record 349 | Tura\n",
      "Processing Record 350 | Haines Junction\n",
      "Processing Record 351 | Puerto Baquerizo Moreno\n",
      "Processing Record 352 | Caravelas\n",
      "Processing Record 353 | Mackenzie\n",
      "Processing Record 354 | Vágur\n",
      "Processing Record 355 | Opuwo\n",
      "Processing Record 356 | Grand Gaube\n",
      "Processing Record 357 | Camacha\n",
      "City not found. Skipping...\n",
      "Processing Record 358 | Mezen'\n",
      "Processing Record 359 | Tabuk\n",
      "Processing Record 360 | Kaeo\n",
      "City not found. Skipping...\n",
      "Processing Record 361 | Guadalupe\n",
      "Processing Record 362 | Sokolo\n",
      "Processing Record 363 | Linxia Chengguanzhen\n",
      "Processing Record 364 | Nishihara\n",
      "Processing Record 365 | Westport\n",
      "Processing Record 366 | Sørland\n",
      "Processing Record 367 | Iquitos\n",
      "Processing Record 368 | Luau\n",
      "City not found. Skipping...\n",
      "Processing Record 369 | Weligama\n",
      "Processing Record 370 | Vila Franca do Campo\n",
      "Processing Record 371 | Matagami\n",
      "Processing Record 372 | Nyurba\n",
      "Processing Record 373 | Tabou\n",
      "Processing Record 374 | North Bend\n",
      "City not found. Skipping...\n",
      "Processing Record 375 | Pankovka\n",
      "Processing Record 376 | Ayr\n",
      "City not found. Skipping...\n",
      "Processing Record 377 | Maizuru\n",
      "Processing Record 378 | Yangi Marg`ilon\n",
      "Processing Record 379 | Tignère\n",
      "Processing Record 380 | Bāfq\n",
      "Processing Record 381 | Chumikan\n",
      "Processing Record 382 | Letlhakane\n",
      "Processing Record 383 | Kikuyu\n",
      "Processing Record 384 | Chiredzi\n",
      "Processing Record 385 | Homer\n",
      "Processing Record 386 | Māndal\n",
      "Processing Record 387 | Tazovsky\n",
      "Processing Record 388 | Berbera\n",
      "City not found. Skipping...\n",
      "Processing Record 389 | Stokmarknes\n",
      "Processing Record 390 | Alyangula\n",
      "Processing Record 391 | Lüderitz\n",
      "Processing Record 392 | Meulaboh\n",
      "Processing Record 393 | Dickinson\n",
      "Processing Record 394 | Bilibino\n",
      "Processing Record 395 | Iowa City\n",
      "Processing Record 396 | Weihai\n",
      "Processing Record 397 | Mount Isa\n",
      "Processing Record 398 | Adrar\n",
      "Processing Record 399 | Balaipungut\n",
      "Processing Record 400 | Warkworth\n",
      "Processing Record 401 | Morki\n",
      "Processing Record 402 | Huacho\n",
      "Processing Record 403 | Kuching\n",
      "Processing Record 404 | Colares\n",
      "Processing Record 405 | Katobu\n",
      "Processing Record 406 | Rongcheng\n",
      "Processing Record 407 | Pacific Grove\n",
      "Processing Record 408 | Inuvik\n",
      "Processing Record 409 | Dāmghān\n",
      "Processing Record 410 | Tytuvėnai\n",
      "Processing Record 411 | Hinatuan\n",
      "Processing Record 412 | Quartucciu\n",
      "Processing Record 413 | Ceres\n",
      "Processing Record 414 | Brekstad\n",
      "Processing Record 415 | Vredendal\n",
      "Processing Record 416 | Nikšić\n",
      "City not found. Skipping...\n",
      "Processing Record 417 | Voskresenskoye\n",
      "Processing Record 418 | Laizhou\n",
      "Processing Record 419 | Valparaíso\n",
      "City not found. Skipping...\n",
      "City not found. Skipping...\n",
      "Processing Record 420 | Neuquén\n",
      "Processing Record 421 | Bandar-e Lengeh\n",
      "Processing Record 422 | Kamenskiy\n",
      "Processing Record 423 | Dothan\n",
      "Processing Record 424 | Vishnyakovskiye Dachi\n",
      "Processing Record 425 | Elizabeth City\n",
      "Processing Record 426 | Pochutla\n",
      "Processing Record 427 | San Rafael\n",
      "Processing Record 428 | Ryōtsu-minato\n",
      "City not found. Skipping...\n",
      "Processing Record 429 | Brae\n",
      "Processing Record 430 | Luganville\n",
      "Processing Record 431 | Mâncio Lima\n",
      "Processing Record 432 | Kuusamo\n",
      "Processing Record 433 | Vestmannaeyjar\n",
      "Processing Record 434 | Pimenta Bueno\n",
      "Processing Record 435 | Murray Bridge\n",
      "Processing Record 436 | Shirgaon\n",
      "Processing Record 437 | Aykhal\n",
      "Processing Record 438 | Guerrero Negro\n",
      "Processing Record 439 | San Cristobal\n",
      "City not found. Skipping...\n",
      "Processing Record 440 | Stonehaven\n",
      "City not found. Skipping...\n",
      "Processing Record 441 | Alofi\n",
      "Processing Record 442 | Puerto Escondido\n",
      "Processing Record 443 | Grand-Lahou\n",
      "Processing Record 444 | Guánica\n",
      "City not found. Skipping...\n",
      "Processing Record 445 | Cortazar\n",
      "Processing Record 446 | Bila Tserkva\n",
      "Processing Record 447 | Lodja\n",
      "Processing Record 448 | Saint-Pierre\n",
      "City not found. Skipping...\n"
     ]
    },
    {
     "name": "stdout",
     "output_type": "stream",
     "text": [
      "Processing Record 449 | Havre-St-Pierre\n",
      "Processing Record 450 | Brookhaven\n",
      "Processing Record 451 | Okhotsk\n",
      "Processing Record 452 | Dalvik\n",
      "Processing Record 453 | Kumul\n",
      "Processing Record 454 | Traverse City\n",
      "Processing Record 455 | Pascagoula\n",
      "Processing Record 456 | Santiago\n",
      "Processing Record 457 | Atambua\n",
      "City not found. Skipping...\n",
      "City not found. Skipping...\n",
      "Processing Record 458 | Khovd\n",
      "City not found. Skipping...\n",
      "Processing Record 459 | Abhā\n",
      "Processing Record 460 | Les Cayes\n",
      "Processing Record 461 | Iranshahr\n",
      "Processing Record 462 | Santa Rosa\n",
      "Processing Record 463 | Khanpur\n",
      "Processing Record 464 | Kargasok\n",
      "Processing Record 465 | Arman'\n",
      "Processing Record 466 | Kahului\n",
      "Processing Record 467 | Owando\n",
      "City not found. Skipping...\n",
      "Processing Record 468 | Samsun Province\n",
      "Processing Record 469 | Vestmanna\n",
      "City not found. Skipping...\n",
      "Processing Record 470 | Oranjemund\n",
      "Processing Record 471 | Mokhsogollokh\n",
      "Processing Record 472 | Mossamedes\n",
      "Processing Record 473 | Ucluelet\n",
      "Processing Record 474 | Ketchikan\n",
      "Processing Record 475 | Ancud\n",
      "Processing Record 476 | Ishigaki\n",
      "Processing Record 477 | Kashgar\n",
      "Processing Record 478 | Otradnoye\n",
      "Processing Record 479 | Poconé\n",
      "Processing Record 480 | Solnechnyy\n",
      "Processing Record 481 | Daşoguz\n",
      "Processing Record 482 | Midland\n",
      "Processing Record 483 | Tateyama\n",
      "Processing Record 484 | Vaitape\n",
      "Processing Record 485 | Belmonte\n",
      "City not found. Skipping...\n",
      "Processing Record 486 | Vanavara\n",
      "Processing Record 487 | Malanje\n",
      "Processing Record 488 | Riyadh\n",
      "Processing Record 489 | Toma\n",
      "Processing Record 490 | Bilma\n",
      "Processing Record 491 | Katsuura\n",
      "Processing Record 492 | Vinh\n",
      "Processing Record 493 | Krutaya Gorka\n",
      "Processing Record 494 | Vermilion\n",
      "Processing Record 495 | Ternate\n",
      "City not found. Skipping...\n",
      "Processing Record 496 | Najrān\n",
      "Processing Record 497 | Eureka\n",
      "Processing Record 498 | Troitskoye\n",
      "Processing Record 499 | Kavieng\n",
      "Processing Record 500 | Salalah\n",
      "Processing Record 501 | Iquique\n",
      "Processing Record 502 | Gambiran\n",
      "Processing Record 503 | Shache\n",
      "Processing Record 504 | Kargopol'\n",
      "Processing Record 505 | Vysokogornyy\n",
      "Processing Record 506 | Zaria\n",
      "City not found. Skipping...\n",
      "Processing Record 507 | Kirakira\n",
      "Processing Record 508 | Sulangan\n",
      "Processing Record 509 | Tenosique\n",
      "Processing Record 510 | Orocué\n",
      "Processing Record 511 | Sharjah city\n",
      "Processing Record 512 | Sydney\n",
      "Processing Record 513 | Kalakamati\n",
      "Processing Record 514 | Grand Junction\n",
      "Processing Record 515 | Springfield\n",
      "Processing Record 516 | Gobabis\n",
      "Processing Record 517 | Kamenka\n",
      "Processing Record 518 | Valley City\n",
      "Processing Record 519 | Dongsheng\n",
      "Processing Record 520 | Kisi\n",
      "Processing Record 521 | Balclutha\n",
      "Processing Record 522 | Araouane\n",
      "Processing Record 523 | Padang\n",
      "Processing Record 524 | Srednekolymsk\n",
      "Processing Record 525 | Maswa\n",
      "Processing Record 526 | Séguéla\n",
      "Processing Record 527 | Half Moon Bay\n",
      "Processing Record 528 | Luís Correia\n",
      "Processing Record 529 | Gladstone\n",
      "Processing Record 530 | Nizwá\n",
      "Processing Record 531 | Kunming\n",
      "City not found. Skipping...\n",
      "Processing Record 532 | Klaksvík\n",
      "Processing Record 533 | Fereydūnkenār\n",
      "Processing Record 534 | Kichera\n",
      "Processing Record 535 | Moose Factory\n",
      "Processing Record 536 | Dutse\n",
      "Processing Record 537 | Steamboat Springs\n",
      "Processing Record 538 | Kushmurun\n",
      "Processing Record 539 | Biała Podlaska\n",
      "Processing Record 540 | Kamwenge\n",
      "Processing Record 541 | Kneževo\n",
      "Processing Record 542 | Mergen\n",
      "Processing Record 543 | Nauchnyy Gorodok\n",
      "Processing Record 544 | Sioux Lookout\n",
      "Processing Record 545 | Trairi\n",
      "Processing Record 546 | Along\n",
      "Processing Record 547 | Hailar\n",
      "Processing Record 548 | Peno\n",
      "Processing Record 549 | Orlik\n",
      "Processing Record 550 | Adwa\n",
      "Processing Record 551 | Port Charlotte\n",
      "Processing Record 552 | Alvarães\n",
      "Processing Record 553 | Buchanan\n",
      "Processing Record 554 | Oban\n",
      "Processing Record 555 | Port Hedland\n",
      "City not found. Skipping...\n",
      "Processing Record 556 | Berdigestyakh\n",
      "Processing Record 557 | Lodwar\n",
      "Processing Record 558 | Andalan\n",
      "Processing Record 559 | Nanzhang\n",
      "Processing Record 560 | General Roca\n",
      "Processing Record 561 | Kaset Sombun\n",
      "['Manga', 'Ambilobe', 'Busselton', 'Sakakah', 'Gold Coast', 'Huron', 'Aklavik', 'Kapaa', 'Airai', 'Dunedin', 'Normandin', 'Geraldton', 'Punta Arenas', 'Annaberg-Buchholz', \"Severo-Kuril'sk\", 'Carnarvon', 'Hithadhoo', 'Tiksi', 'Ushuaia', 'Avarua', 'Huambo', 'Kimberley', 'Fairview', 'Nanortalik', 'Lavrentiya', 'Harindānga', 'Madison Heights', 'Askiz', 'Bluff', 'Comodoro Rivadavia', 'Esperance', 'Qaanaaq', 'Tazmalt', 'Dogondoutchi', 'Ahipara', 'Lebu', 'Hobart', 'Dumka', 'Coquimbo', 'Khatanga', 'Port Elizabeth', 'Rikitea', 'Karasburg', 'La Ronge', 'Butaritari', 'Port Alfred', 'Mozarlândia', 'Arraial do Cabo', 'Ransang', 'Atuona', 'Codrington', 'Cidreira', 'Norman Wells', 'Atar', 'Kiunga', 'Saint-Leu', 'Leningradskiy', 'Senneterre', 'Tiznit Province', 'Upernavik', 'Dhidhdhoo', 'Kutum', 'Hay River', 'Sola', 'Aktau', 'Hilo', 'Kichha', 'Balkhash', 'Korla', 'Saint George', 'Walvis Bay', 'Chui', 'Barrow', 'Yulara', 'Lorengau', 'Bogorodskoye', 'Balatonfűzfő', 'Hasaki', 'Mehamn', 'Jamestown', 'Vaini', 'Eyl', 'Saldanha', 'Zhezkazgan', 'New Norfolk', 'Souillac', 'Åmot', 'Yellowknife', 'Samarai', 'Albany', 'Puerto Ayora', 'Cape Town', 'Nara', 'Hermanus', 'Provideniya', 'Mahina', 'Iqaluit', 'Launceston', 'Saskylakh', 'Brusyliv', 'Strezhevoy', 'Chennai', 'Byron Bay', 'Mataura', 'Husavik', 'Port Macquarie', 'Mahébourg', 'Qaqortoq', 'Ubari', 'Seoul', 'Kaitangata', 'Durango', 'Praia da Vitória', 'Grand Forks', 'Bambous Virieux', 'Makakilo City', 'Alice Springs', 'Talnakh', 'Emerald', 'Sarh', 'Bredasdorp', 'Dharmapuri', 'Sitka', 'Port Lincoln', 'Constitución', 'Naze', 'Henties Bay', 'Portland', 'Flin Flon', 'Natal', 'Shingū', 'Egvekinot', 'Kenai', 'Lahaina', 'Fortuna', 'Banda Aceh', 'Lovozero', 'Torbay', 'Mapiripán', 'Los Llanos de Aridane', 'Puta', 'Thompson', 'Mayo', 'Sirte', 'Zambezi', 'Tuatapere', 'Mar del Plata', 'Te Anau', 'Luanda', 'Manokwari', 'Kailua', 'Båtsfjord', 'Qasigiannguit', 'Isangel', 'Cherskiy', 'Ribeira Grande', 'East London', 'Provincia di Pescara', 'Berlevåg', 'Saint Anthony', 'Alta Floresta', 'Tasiilaq', 'Katangli', 'Vicuña', 'Piaçabuçu', 'Faya', 'Chipinge', 'Yagodnoye', 'Sapa', 'Youkounkoun', 'Castro', 'Rāwah', 'Porto-Novo', 'Leiva', 'Koulikoro', 'Avera', 'Taoudenni', 'Banepā', 'Gijang', 'Pampa', 'Jacareacanga', 'Payo', 'Abu Samrah', \"Krasnosel'kup\", 'Moa', 'San Patricio', 'Carutapera', 'Zyryanka', 'Hamilton', 'Pevek', 'Hervey Bay', 'Mount Gambier', 'Varkaus', 'Kemijärvi', 'Nikolskoye', 'Antofagasta', 'Moses Lake', 'Satipo', 'George Town', 'Ponta do Sol', 'Chapais', 'Bubaque', 'Clyde River', 'Inhambane', 'Benguela', 'Cheţani', 'Yatou', 'Dubti', 'Waipawa', 'Broken Hill', 'Ambatondrazaka', 'Anadyr', 'La Palma', 'Bathsheba', 'Nouadhibou', 'Zhigansk', 'Saurimo', 'Saint Paul Harbor', 'Saint-Philippe', 'Tokonou', 'Fairbanks', 'Salinas', 'Chokurdakh', 'Leeton', 'Taiyuan', 'Dingle', 'Pucallpa', 'Asău', 'Lázaro Cárdenas', 'Bayan', 'Pangody', 'Khanbari', 'Merauke', 'Hualmay', 'Contai', 'Maceió', 'Maricá', 'Pierre', 'Cabo San Lucas', 'Dikson', 'Tilichiki', 'Vao', 'Cururupu', 'Pokhara', 'Port Blair', 'Gamba', 'Esim', 'Zdvinsk', 'Kathu', 'Bingöl', 'Pemangkat', 'Turbiv', 'Majholi', 'Touros', 'Yerbogachën', 'Umred', 'Rosa Zarate', 'Wanning', 'La Asuncion', 'Ilulissat', 'Tuktoyaktuk', 'Petropavlovsk-Kamchatskiy', 'Kaduy', 'Tual', 'Hong Kong', 'Labuhan', 'Lagoa', 'College', 'São João da Barra', 'Marrakesh', 'Altagracia de Orituco', 'Trelew', 'Marawi', 'Papayal', 'Honningsvåg', 'Kyaikkami', 'Las Palmas', 'Kruisfontein', 'Bethel', 'Nuristan', 'Buala', 'Mwense', 'Ixtapa', 'Nagato', 'Bambanglipuro', 'Pithorāgarh', 'Ostrovnoy', 'Lompoc', 'Balakhninskiy', 'Evangelista', 'Ruzsa', 'Hobyo', 'Bambuí', 'Lewistown', 'High Level', 'Caniço', 'Lac du Bonnet', 'Unaí', 'Shaunavon', 'Nuuk', 'Safford', 'Manavālakurichi', 'Fatsa', 'Anaco', 'Kendari', 'Rosita', 'Cimarron Hills', 'Mitha Tiwana', 'Brigantine', 'Anglet', 'Utete', 'São Félix do Xingu', 'Namatanai', 'Hirara', 'Faanui', 'Teya', 'Pisco', 'Cap Malheureux', 'Innisfail', \"Razdol'noye\", 'Tabat', 'Deder', 'Feuchtwangen', 'Kavaratti', 'Shashi', 'Tiarei', 'Mīnāb', 'Nome', 'Aranos', 'Makkah al Mukarramah', 'Acapulco de Juárez', 'Great Yarmouth', 'Quzhou', 'Álamo', 'Arrondissement de Langres', 'Kieta', 'Tautira', 'Mawlaik', 'Quatre Cocos', 'Shitanjing', 'Prudnik', 'Morondava', 'Ankazoabo', 'Kiryat Gat', 'Cabra', 'Goderich', 'Vardø', 'Khvoynaya', 'Tura', 'Haines Junction', 'Puerto Baquerizo Moreno', 'Caravelas', 'Mackenzie', 'Vágur', 'Opuwo', 'Grand Gaube', 'Camacha', \"Mezen'\", 'Tabuk', 'Kaeo', 'Guadalupe', 'Sokolo', 'Linxia Chengguanzhen', 'Nishihara', 'Westport', 'Sørland', 'Iquitos', 'Luau', 'Weligama', 'Vila Franca do Campo', 'Matagami', 'Nyurba', 'Tabou', 'North Bend', 'Pankovka', 'Ayr', 'Maizuru', 'Yangi Marg`ilon', 'Tignère', 'Bāfq', 'Chumikan', 'Letlhakane', 'Kikuyu', 'Chiredzi', 'Homer', 'Māndal', 'Tazovsky', 'Berbera', 'Stokmarknes', 'Alyangula', 'Lüderitz', 'Meulaboh', 'Dickinson', 'Bilibino', 'Iowa City', 'Weihai', 'Mount Isa', 'Adrar', 'Balaipungut', 'Warkworth', 'Morki', 'Huacho', 'Kuching', 'Colares', 'Katobu', 'Rongcheng', 'Pacific Grove', 'Inuvik', 'Dāmghān', 'Tytuvėnai', 'Hinatuan', 'Quartucciu', 'Ceres', 'Brekstad', 'Vredendal', 'Nikšić', 'Voskresenskoye', 'Laizhou', 'Valparaíso', 'Neuquén', 'Bandar-e Lengeh', 'Kamenskiy', 'Dothan', 'Vishnyakovskiye Dachi', 'Elizabeth City', 'Pochutla', 'San Rafael', 'Ryōtsu-minato', 'Brae', 'Luganville', 'Mâncio Lima', 'Kuusamo', 'Vestmannaeyjar', 'Pimenta Bueno', 'Murray Bridge', 'Shirgaon', 'Aykhal', 'Guerrero Negro', 'San Cristobal', 'Stonehaven', 'Alofi', 'Puerto Escondido', 'Grand-Lahou', 'Guánica', 'Cortazar', 'Bila Tserkva', 'Lodja', 'Saint-Pierre', 'Havre-St-Pierre', 'Brookhaven', 'Okhotsk', 'Dalvik', 'Kumul', 'Traverse City', 'Pascagoula', 'Santiago', 'Atambua', 'Khovd', 'Abhā', 'Les Cayes', 'Iranshahr', 'Santa Rosa', 'Khanpur', 'Kargasok', \"Arman'\", 'Kahului', 'Owando', 'Samsun Province', 'Vestmanna', 'Oranjemund', 'Mokhsogollokh', 'Mossamedes', 'Ucluelet', 'Ketchikan', 'Ancud', 'Ishigaki', 'Kashgar', 'Otradnoye', 'Poconé', 'Solnechnyy', 'Daşoguz', 'Midland', 'Tateyama', 'Vaitape', 'Belmonte', 'Vanavara', 'Malanje', 'Riyadh', 'Toma', 'Bilma', 'Katsuura', 'Vinh', 'Krutaya Gorka', 'Vermilion', 'Ternate', 'Najrān', 'Eureka', 'Troitskoye', 'Kavieng', 'Salalah', 'Iquique', 'Gambiran', 'Shache', \"Kargopol'\", 'Vysokogornyy', 'Zaria', 'Kirakira', 'Sulangan', 'Tenosique', 'Orocué', 'Sharjah city', 'Sydney', 'Kalakamati', 'Grand Junction', 'Springfield', 'Gobabis', 'Kamenka', 'Valley City', 'Dongsheng', 'Kisi', 'Balclutha', 'Araouane', 'Padang', 'Srednekolymsk', 'Maswa', 'Séguéla', 'Half Moon Bay', 'Luís Correia', 'Gladstone', 'Nizwá', 'Kunming', 'Klaksvík', 'Fereydūnkenār', 'Kichera', 'Moose Factory', 'Dutse', 'Steamboat Springs', 'Kushmurun', 'Biała Podlaska', 'Kamwenge', 'Kneževo', 'Mergen', 'Nauchnyy Gorodok', 'Sioux Lookout', 'Trairi', 'Along', 'Hailar', 'Peno', 'Orlik', 'Adwa', 'Port Charlotte', 'Alvarães', 'Buchanan', 'Oban', 'Port Hedland', 'Berdigestyakh', 'Lodwar', 'Andalan', 'Nanzhang', 'General Roca', 'Kaset Sombun']\n"
     ]
    }
   ],
   "source": [
    "\n",
    "# Save config information\n",
    "url = \"http://api.openweathermap.org/data/2.5/weather?\"\n",
    "\n",
    "for c in range(len(cities)):\n",
    "    try:\n",
    "        spec_url=cities[c]\n",
    "        query_url = f\"{url}appid={weather_api_key}&q={spec_url}&units=imperial\"\n",
    "        weather_response = requests.get(query_url).json()\n",
    "        cities_list.append(weather_response[\"name\"])\n",
    "        cloud.append(weather_response['clouds']['all'])\n",
    "        country.append(weather_response['sys']['country'])\n",
    "        date.append(weather_response['dt'])\n",
    "        humidity.append(weather_response['main']['humidity'])\n",
    "        max_temp.append(weather_response['main']['temp_max'])\n",
    "        wind_speed.append(weather_response['wind']['speed'])\n",
    "        lat.append(weather_response['coord']['lat'])\n",
    "        lon.append(weather_response['coord']['lon'])\n",
    "        record_number += 1\n",
    "        print(f\"Processing Record {record_number} | {weather_response['name']}\")\n",
    "    except KeyError:\n",
    "        print('City not found. Skipping...')\n",
    "print (cities_list)"
   ]
  },
  {
   "cell_type": "code",
   "execution_count": 11,
   "metadata": {},
   "outputs": [
    {
     "data": {
      "text/html": [
       "<div>\n",
       "<style scoped>\n",
       "    .dataframe tbody tr th:only-of-type {\n",
       "        vertical-align: middle;\n",
       "    }\n",
       "\n",
       "    .dataframe tbody tr th {\n",
       "        vertical-align: top;\n",
       "    }\n",
       "\n",
       "    .dataframe thead th {\n",
       "        text-align: right;\n",
       "    }\n",
       "</style>\n",
       "<table border=\"1\" class=\"dataframe\">\n",
       "  <thead>\n",
       "    <tr style=\"text-align: right;\">\n",
       "      <th></th>\n",
       "      <th>city</th>\n",
       "      <th>lon</th>\n",
       "      <th>lat</th>\n",
       "      <th>wind_speed</th>\n",
       "      <th>max_temp</th>\n",
       "      <th>humidity</th>\n",
       "      <th>date</th>\n",
       "      <th>country</th>\n",
       "      <th>cloud</th>\n",
       "    </tr>\n",
       "  </thead>\n",
       "  <tbody>\n",
       "    <tr>\n",
       "      <th>0</th>\n",
       "      <td>Manga</td>\n",
       "      <td>-1.07</td>\n",
       "      <td>11.66</td>\n",
       "      <td>0.85</td>\n",
       "      <td>82.81</td>\n",
       "      <td>25</td>\n",
       "      <td>1584494069</td>\n",
       "      <td>BF</td>\n",
       "      <td>40</td>\n",
       "    </tr>\n",
       "    <tr>\n",
       "      <th>1</th>\n",
       "      <td>Ambilobe</td>\n",
       "      <td>49.05</td>\n",
       "      <td>-13.20</td>\n",
       "      <td>2.77</td>\n",
       "      <td>74.75</td>\n",
       "      <td>91</td>\n",
       "      <td>1584494070</td>\n",
       "      <td>MG</td>\n",
       "      <td>47</td>\n",
       "    </tr>\n",
       "    <tr>\n",
       "      <th>2</th>\n",
       "      <td>Busselton</td>\n",
       "      <td>115.33</td>\n",
       "      <td>-33.65</td>\n",
       "      <td>1.01</td>\n",
       "      <td>59.00</td>\n",
       "      <td>97</td>\n",
       "      <td>1584493781</td>\n",
       "      <td>AU</td>\n",
       "      <td>20</td>\n",
       "    </tr>\n",
       "    <tr>\n",
       "      <th>3</th>\n",
       "      <td>Sakakah</td>\n",
       "      <td>40.21</td>\n",
       "      <td>29.97</td>\n",
       "      <td>17.22</td>\n",
       "      <td>59.00</td>\n",
       "      <td>54</td>\n",
       "      <td>1584494070</td>\n",
       "      <td>SA</td>\n",
       "      <td>0</td>\n",
       "    </tr>\n",
       "    <tr>\n",
       "      <th>4</th>\n",
       "      <td>Gold Coast</td>\n",
       "      <td>153.43</td>\n",
       "      <td>-28.00</td>\n",
       "      <td>16.11</td>\n",
       "      <td>80.01</td>\n",
       "      <td>50</td>\n",
       "      <td>1584493930</td>\n",
       "      <td>AU</td>\n",
       "      <td>4</td>\n",
       "    </tr>\n",
       "    <tr>\n",
       "      <th>...</th>\n",
       "      <td>...</td>\n",
       "      <td>...</td>\n",
       "      <td>...</td>\n",
       "      <td>...</td>\n",
       "      <td>...</td>\n",
       "      <td>...</td>\n",
       "      <td>...</td>\n",
       "      <td>...</td>\n",
       "      <td>...</td>\n",
       "    </tr>\n",
       "    <tr>\n",
       "      <th>556</th>\n",
       "      <td>Lodwar</td>\n",
       "      <td>35.60</td>\n",
       "      <td>3.12</td>\n",
       "      <td>4.72</td>\n",
       "      <td>83.19</td>\n",
       "      <td>55</td>\n",
       "      <td>1584494213</td>\n",
       "      <td>KE</td>\n",
       "      <td>88</td>\n",
       "    </tr>\n",
       "    <tr>\n",
       "      <th>557</th>\n",
       "      <td>Andalan</td>\n",
       "      <td>121.39</td>\n",
       "      <td>5.96</td>\n",
       "      <td>3.24</td>\n",
       "      <td>80.73</td>\n",
       "      <td>73</td>\n",
       "      <td>1584494213</td>\n",
       "      <td>PH</td>\n",
       "      <td>93</td>\n",
       "    </tr>\n",
       "    <tr>\n",
       "      <th>558</th>\n",
       "      <td>Nanzhang</td>\n",
       "      <td>111.84</td>\n",
       "      <td>31.78</td>\n",
       "      <td>2.48</td>\n",
       "      <td>59.11</td>\n",
       "      <td>60</td>\n",
       "      <td>1584494213</td>\n",
       "      <td>CN</td>\n",
       "      <td>0</td>\n",
       "    </tr>\n",
       "    <tr>\n",
       "      <th>559</th>\n",
       "      <td>General Roca</td>\n",
       "      <td>-67.58</td>\n",
       "      <td>-39.03</td>\n",
       "      <td>5.82</td>\n",
       "      <td>69.80</td>\n",
       "      <td>43</td>\n",
       "      <td>1584494213</td>\n",
       "      <td>AR</td>\n",
       "      <td>40</td>\n",
       "    </tr>\n",
       "    <tr>\n",
       "      <th>560</th>\n",
       "      <td>Kaset Sombun</td>\n",
       "      <td>101.95</td>\n",
       "      <td>16.28</td>\n",
       "      <td>4.27</td>\n",
       "      <td>79.52</td>\n",
       "      <td>63</td>\n",
       "      <td>1584494214</td>\n",
       "      <td>TH</td>\n",
       "      <td>45</td>\n",
       "    </tr>\n",
       "  </tbody>\n",
       "</table>\n",
       "<p>561 rows × 9 columns</p>\n",
       "</div>"
      ],
      "text/plain": [
       "             city     lon    lat  wind_speed  max_temp  humidity        date  \\\n",
       "0           Manga   -1.07  11.66        0.85     82.81        25  1584494069   \n",
       "1        Ambilobe   49.05 -13.20        2.77     74.75        91  1584494070   \n",
       "2       Busselton  115.33 -33.65        1.01     59.00        97  1584493781   \n",
       "3         Sakakah   40.21  29.97       17.22     59.00        54  1584494070   \n",
       "4      Gold Coast  153.43 -28.00       16.11     80.01        50  1584493930   \n",
       "..            ...     ...    ...         ...       ...       ...         ...   \n",
       "556        Lodwar   35.60   3.12        4.72     83.19        55  1584494213   \n",
       "557       Andalan  121.39   5.96        3.24     80.73        73  1584494213   \n",
       "558      Nanzhang  111.84  31.78        2.48     59.11        60  1584494213   \n",
       "559  General Roca  -67.58 -39.03        5.82     69.80        43  1584494213   \n",
       "560  Kaset Sombun  101.95  16.28        4.27     79.52        63  1584494214   \n",
       "\n",
       "    country  cloud  \n",
       "0        BF     40  \n",
       "1        MG     47  \n",
       "2        AU     20  \n",
       "3        SA      0  \n",
       "4        AU      4  \n",
       "..      ...    ...  \n",
       "556      KE     88  \n",
       "557      PH     93  \n",
       "558      CN      0  \n",
       "559      AR     40  \n",
       "560      TH     45  \n",
       "\n",
       "[561 rows x 9 columns]"
      ]
     },
     "execution_count": 11,
     "metadata": {},
     "output_type": "execute_result"
    }
   ],
   "source": [
    "# create a data frame from cities, lat, and temp\n",
    "weather_dict = {\n",
    "    \"city\": cities_list,\n",
    "    \"lon\": lon,\n",
    "    \"lat\": lat,\n",
    "    \"wind_speed\": wind_speed,\n",
    "    \"max_temp\": max_temp,\n",
    "    \"humidity\": humidity,\n",
    "    \"date\": date,\n",
    "    \"country\": country,\n",
    "    \"cloud\": cloud\n",
    "}\n",
    "weather_data = pd.DataFrame(weather_dict)\n",
    "weather_data\n"
   ]
  },
  {
   "cell_type": "code",
   "execution_count": 53,
   "metadata": {},
   "outputs": [],
   "source": [
    "weather_data.to_csv('weather.csv')"
   ]
  },
  {
   "cell_type": "code",
   "execution_count": 54,
   "metadata": {},
   "outputs": [
    {
     "data": {
      "image/png": "[encoded data removed]",
      "text/plain": [
       "<Figure size 432x288 with 1 Axes>"
      ]
     },
     "metadata": {
      "needs_background": "light"
     },
     "output_type": "display_data"
    },
    {
     "name": "stdout",
     "output_type": "stream",
     "text": [
      "This plot is showing that cities closer to the equator have higher max temperatures. This is using data on 05/28/19 and is just one day of data.\n"
     ]
    }
   ],
   "source": [
    "# Build a scatter plot for each data type\n",
    "plt.scatter(data_df[\"Lat\"], data_df[\"Max Temp\"], marker=\"o\")\n",
    "\n",
    "# Incorporate the other graph properties\n",
    "plt.title(\"City Latitude vs. Max Temperature (05/28/19)\")\n",
    "plt.ylabel(\"Max Temperature (F)\")\n",
    "plt.xlabel(\"Latitude\")\n",
    "plt.grid(True)\n",
    "\n",
    "# Show plot\n",
    "plt.show()\n",
    "\n",
    "print('This plot is showing that cities closer to the equator have higher max temperatures. This is using data on 05/28/19 and is just one day of data.')"
   ]
  },
  {
   "cell_type": "code",
   "execution_count": 55,
   "metadata": {},
   "outputs": [
    {
     "data": {
      "image/png": "[encoded data removed]",
      "text/plain": [
       "<Figure size 432x288 with 1 Axes>"
      ]
     },
     "metadata": {
      "needs_background": "light"
     },
     "output_type": "display_data"
    },
    {
     "name": "stdout",
     "output_type": "stream",
     "text": [
      "This plot is showing that distance from the equator does not have a large impact on humidity. This is using data on 05/28/19 and is just one day of data.\n"
     ]
    }
   ],
   "source": [
    "# Build a scatter plot for each data type\n",
    "plt.scatter(data_df[\"Lat\"], data_df[\"Humidity\"], marker=\"o\")\n",
    "\n",
    "# Incorporate the other graph properties\n",
    "plt.title(\"City Latitude vs. Humidity (05/28/19)\")\n",
    "plt.ylabel(\"Humidity\")\n",
    "plt.xlabel(\"Latitude\")\n",
    "plt.grid(True)\n",
    "\n",
    "# Show plot\n",
    "plt.show()\n",
    "\n",
    "print('This plot is showing that distance from the equator does not have a large impact on humidity. This is using data on 05/28/19 and is just one day of data.')"
   ]
  },
  {
   "cell_type": "code",
   "execution_count": 56,
   "metadata": {},
   "outputs": [
    {
     "data": {
      "image/png": "[encoded data removed]",
      "text/plain": [
       "<Figure size 432x288 with 1 Axes>"
      ]
     },
     "metadata": {
      "needs_background": "light"
     },
     "output_type": "display_data"
    },
    {
     "name": "stdout",
     "output_type": "stream",
     "text": [
      "This plot shows that cloudiness is variable across cities and does not have a strong correlation to distance from equator. This is using data on 05/28/19 and is just one day of data.\n"
     ]
    }
   ],
   "source": [
    "# Build a scatter plot for each data type\n",
    "plt.scatter(data_df[\"Lat\"], data_df[\"Cloudiness\"], marker=\"o\")\n",
    "\n",
    "# Incorporate the other graph properties\n",
    "plt.title(\"City Latitude vs. Cloudiness (05/28/19)\")\n",
    "plt.ylabel(\"Cloudiness\")\n",
    "plt.xlabel(\"Latitude\")\n",
    "plt.grid(True)\n",
    "\n",
    "# Show plot\n",
    "plt.show()\n",
    "\n",
    "print('This plot shows that cloudiness is variable across cities and does not have a strong correlation to distance from equator. This is using data on 05/28/19 and is just one day of data.')"
   ]
  },
  {
   "cell_type": "code",
   "execution_count": 57,
   "metadata": {},
   "outputs": [
    {
     "data": {
      "image/png": "[encoded data removed]",
      "text/plain": [
       "<Figure size 432x288 with 1 Axes>"
      ]
     },
     "metadata": {
      "needs_background": "light"
     },
     "output_type": "display_data"
    },
    {
     "name": "stdout",
     "output_type": "stream",
     "text": [
      "This plot shows that wind speed is variable across cities and does not have a strong correlation to distance from the equator. This is using data on 05/28/19 and is just one day of data.\n"
     ]
    }
   ],
   "source": [
    "# Build a scatter plot for each data type\n",
    "plt.scatter(data_df[\"Lat\"], data_df[\"Wind Speed\"], marker=\"o\")\n",
    "\n",
    "# Incorporate the other graph properties\n",
    "plt.title(\"City Latitude vs. Wind Speed (05/28/19)\")\n",
    "plt.ylabel(\"Wind Speed (mph)\")\n",
    "plt.xlabel(\"Latitude\")\n",
    "plt.grid(True)\n",
    "\n",
    "# Show plot\n",
    "plt.show()\n",
    "\n",
    "print('This plot shows that wind speed is variable across cities and does not have a strong correlation to distance from the equator. This is using data on 05/28/19 and is just one day of data.')"
   ]
  },
  {
   "cell_type": "code",
   "execution_count": 58,
   "metadata": {},
   "outputs": [
    {
     "data": {
      "text/html": [
       "<div>\n",
       "<style scoped>\n",
       "    .dataframe tbody tr th:only-of-type {\n",
       "        vertical-align: middle;\n",
       "    }\n",
       "\n",
       "    .dataframe tbody tr th {\n",
       "        vertical-align: top;\n",
       "    }\n",
       "\n",
       "    .dataframe thead th {\n",
       "        text-align: right;\n",
       "    }\n",
       "</style>\n",
       "<table border=\"1\" class=\"dataframe\">\n",
       "  <thead>\n",
       "    <tr style=\"text-align: right;\">\n",
       "      <th></th>\n",
       "      <th>city</th>\n",
       "      <th>lon</th>\n",
       "      <th>lat</th>\n",
       "      <th>wind_speed</th>\n",
       "      <th>max_temp</th>\n",
       "      <th>humidity</th>\n",
       "      <th>date</th>\n",
       "      <th>country</th>\n",
       "      <th>cloud</th>\n",
       "    </tr>\n",
       "  </thead>\n",
       "  <tbody>\n",
       "    <tr>\n",
       "      <th>0</th>\n",
       "      <td>Manga</td>\n",
       "      <td>-1.07</td>\n",
       "      <td>11.66</td>\n",
       "      <td>0.85</td>\n",
       "      <td>82.81</td>\n",
       "      <td>25</td>\n",
       "      <td>1584494069</td>\n",
       "      <td>BF</td>\n",
       "      <td>40</td>\n",
       "    </tr>\n",
       "    <tr>\n",
       "      <th>1</th>\n",
       "      <td>Ambilobe</td>\n",
       "      <td>49.05</td>\n",
       "      <td>-13.20</td>\n",
       "      <td>2.77</td>\n",
       "      <td>74.75</td>\n",
       "      <td>91</td>\n",
       "      <td>1584494070</td>\n",
       "      <td>MG</td>\n",
       "      <td>47</td>\n",
       "    </tr>\n",
       "    <tr>\n",
       "      <th>2</th>\n",
       "      <td>Busselton</td>\n",
       "      <td>115.33</td>\n",
       "      <td>-33.65</td>\n",
       "      <td>1.01</td>\n",
       "      <td>59.00</td>\n",
       "      <td>97</td>\n",
       "      <td>1584493781</td>\n",
       "      <td>AU</td>\n",
       "      <td>20</td>\n",
       "    </tr>\n",
       "    <tr>\n",
       "      <th>3</th>\n",
       "      <td>Sakakah</td>\n",
       "      <td>40.21</td>\n",
       "      <td>29.97</td>\n",
       "      <td>17.22</td>\n",
       "      <td>59.00</td>\n",
       "      <td>54</td>\n",
       "      <td>1584494070</td>\n",
       "      <td>SA</td>\n",
       "      <td>0</td>\n",
       "    </tr>\n",
       "    <tr>\n",
       "      <th>4</th>\n",
       "      <td>Gold Coast</td>\n",
       "      <td>153.43</td>\n",
       "      <td>-28.00</td>\n",
       "      <td>16.11</td>\n",
       "      <td>80.01</td>\n",
       "      <td>50</td>\n",
       "      <td>1584493930</td>\n",
       "      <td>AU</td>\n",
       "      <td>4</td>\n",
       "    </tr>\n",
       "    <tr>\n",
       "      <th>...</th>\n",
       "      <td>...</td>\n",
       "      <td>...</td>\n",
       "      <td>...</td>\n",
       "      <td>...</td>\n",
       "      <td>...</td>\n",
       "      <td>...</td>\n",
       "      <td>...</td>\n",
       "      <td>...</td>\n",
       "      <td>...</td>\n",
       "    </tr>\n",
       "    <tr>\n",
       "      <th>556</th>\n",
       "      <td>Lodwar</td>\n",
       "      <td>35.60</td>\n",
       "      <td>3.12</td>\n",
       "      <td>4.72</td>\n",
       "      <td>83.19</td>\n",
       "      <td>55</td>\n",
       "      <td>1584494213</td>\n",
       "      <td>KE</td>\n",
       "      <td>88</td>\n",
       "    </tr>\n",
       "    <tr>\n",
       "      <th>557</th>\n",
       "      <td>Andalan</td>\n",
       "      <td>121.39</td>\n",
       "      <td>5.96</td>\n",
       "      <td>3.24</td>\n",
       "      <td>80.73</td>\n",
       "      <td>73</td>\n",
       "      <td>1584494213</td>\n",
       "      <td>PH</td>\n",
       "      <td>93</td>\n",
       "    </tr>\n",
       "    <tr>\n",
       "      <th>558</th>\n",
       "      <td>Nanzhang</td>\n",
       "      <td>111.84</td>\n",
       "      <td>31.78</td>\n",
       "      <td>2.48</td>\n",
       "      <td>59.11</td>\n",
       "      <td>60</td>\n",
       "      <td>1584494213</td>\n",
       "      <td>CN</td>\n",
       "      <td>0</td>\n",
       "    </tr>\n",
       "    <tr>\n",
       "      <th>559</th>\n",
       "      <td>General Roca</td>\n",
       "      <td>-67.58</td>\n",
       "      <td>-39.03</td>\n",
       "      <td>5.82</td>\n",
       "      <td>69.80</td>\n",
       "      <td>43</td>\n",
       "      <td>1584494213</td>\n",
       "      <td>AR</td>\n",
       "      <td>40</td>\n",
       "    </tr>\n",
       "    <tr>\n",
       "      <th>560</th>\n",
       "      <td>Kaset Sombun</td>\n",
       "      <td>101.95</td>\n",
       "      <td>16.28</td>\n",
       "      <td>4.27</td>\n",
       "      <td>79.52</td>\n",
       "      <td>63</td>\n",
       "      <td>1584494214</td>\n",
       "      <td>TH</td>\n",
       "      <td>45</td>\n",
       "    </tr>\n",
       "  </tbody>\n",
       "</table>\n",
       "<p>561 rows × 9 columns</p>\n",
       "</div>"
      ],
      "text/plain": [
       "             city     lon    lat  wind_speed  max_temp  humidity        date  \\\n",
       "0           Manga   -1.07  11.66        0.85     82.81        25  1584494069   \n",
       "1        Ambilobe   49.05 -13.20        2.77     74.75        91  1584494070   \n",
       "2       Busselton  115.33 -33.65        1.01     59.00        97  1584493781   \n",
       "3         Sakakah   40.21  29.97       17.22     59.00        54  1584494070   \n",
       "4      Gold Coast  153.43 -28.00       16.11     80.01        50  1584493930   \n",
       "..            ...     ...    ...         ...       ...       ...         ...   \n",
       "556        Lodwar   35.60   3.12        4.72     83.19        55  1584494213   \n",
       "557       Andalan  121.39   5.96        3.24     80.73        73  1584494213   \n",
       "558      Nanzhang  111.84  31.78        2.48     59.11        60  1584494213   \n",
       "559  General Roca  -67.58 -39.03        5.82     69.80        43  1584494213   \n",
       "560  Kaset Sombun  101.95  16.28        4.27     79.52        63  1584494214   \n",
       "\n",
       "    country  cloud  \n",
       "0        BF     40  \n",
       "1        MG     47  \n",
       "2        AU     20  \n",
       "3        SA      0  \n",
       "4        AU      4  \n",
       "..      ...    ...  \n",
       "556      KE     88  \n",
       "557      PH     93  \n",
       "558      CN      0  \n",
       "559      AR     40  \n",
       "560      TH     45  \n",
       "\n",
       "[561 rows x 9 columns]"
      ]
     },
     "execution_count": 58,
     "metadata": {},
     "output_type": "execute_result"
    }
   ],
   "source": [
    "weather_data"
   ]
  },
  {
   "cell_type": "code",
   "execution_count": 59,
   "metadata": {},
   "outputs": [
    {
     "data": {
      "text/html": [
       "<div>\n",
       "<style scoped>\n",
       "    .dataframe tbody tr th:only-of-type {\n",
       "        vertical-align: middle;\n",
       "    }\n",
       "\n",
       "    .dataframe tbody tr th {\n",
       "        vertical-align: top;\n",
       "    }\n",
       "\n",
       "    .dataframe thead th {\n",
       "        text-align: right;\n",
       "    }\n",
       "</style>\n",
       "<table border=\"1\" class=\"dataframe\">\n",
       "  <thead>\n",
       "    <tr style=\"text-align: right;\">\n",
       "      <th></th>\n",
       "      <th>city</th>\n",
       "      <th>lon</th>\n",
       "      <th>lat</th>\n",
       "      <th>wind_speed</th>\n",
       "      <th>max_temp</th>\n",
       "      <th>humidity</th>\n",
       "      <th>date</th>\n",
       "      <th>country</th>\n",
       "      <th>cloud</th>\n",
       "    </tr>\n",
       "  </thead>\n",
       "  <tbody>\n",
       "    <tr>\n",
       "      <th>0</th>\n",
       "      <td>Manga</td>\n",
       "      <td>-1.07</td>\n",
       "      <td>11.66</td>\n",
       "      <td>0.85</td>\n",
       "      <td>82.81</td>\n",
       "      <td>25</td>\n",
       "      <td>1584494069</td>\n",
       "      <td>BF</td>\n",
       "      <td>40</td>\n",
       "    </tr>\n",
       "    <tr>\n",
       "      <th>3</th>\n",
       "      <td>Sakakah</td>\n",
       "      <td>40.21</td>\n",
       "      <td>29.97</td>\n",
       "      <td>17.22</td>\n",
       "      <td>59.00</td>\n",
       "      <td>54</td>\n",
       "      <td>1584494070</td>\n",
       "      <td>SA</td>\n",
       "      <td>0</td>\n",
       "    </tr>\n",
       "    <tr>\n",
       "      <th>5</th>\n",
       "      <td>Huron</td>\n",
       "      <td>-82.55</td>\n",
       "      <td>41.15</td>\n",
       "      <td>6.93</td>\n",
       "      <td>43.00</td>\n",
       "      <td>60</td>\n",
       "      <td>1584494071</td>\n",
       "      <td>US</td>\n",
       "      <td>1</td>\n",
       "    </tr>\n",
       "    <tr>\n",
       "      <th>6</th>\n",
       "      <td>Aklavik</td>\n",
       "      <td>-135.01</td>\n",
       "      <td>68.22</td>\n",
       "      <td>4.09</td>\n",
       "      <td>23.00</td>\n",
       "      <td>67</td>\n",
       "      <td>1584493489</td>\n",
       "      <td>CA</td>\n",
       "      <td>40</td>\n",
       "    </tr>\n",
       "    <tr>\n",
       "      <th>7</th>\n",
       "      <td>Kapaa</td>\n",
       "      <td>-159.32</td>\n",
       "      <td>22.08</td>\n",
       "      <td>6.93</td>\n",
       "      <td>78.80</td>\n",
       "      <td>94</td>\n",
       "      <td>1584494071</td>\n",
       "      <td>US</td>\n",
       "      <td>75</td>\n",
       "    </tr>\n",
       "    <tr>\n",
       "      <th>...</th>\n",
       "      <td>...</td>\n",
       "      <td>...</td>\n",
       "      <td>...</td>\n",
       "      <td>...</td>\n",
       "      <td>...</td>\n",
       "      <td>...</td>\n",
       "      <td>...</td>\n",
       "      <td>...</td>\n",
       "      <td>...</td>\n",
       "    </tr>\n",
       "    <tr>\n",
       "      <th>555</th>\n",
       "      <td>Berdigestyakh</td>\n",
       "      <td>126.70</td>\n",
       "      <td>62.10</td>\n",
       "      <td>6.35</td>\n",
       "      <td>-2.45</td>\n",
       "      <td>94</td>\n",
       "      <td>1584494213</td>\n",
       "      <td>RU</td>\n",
       "      <td>99</td>\n",
       "    </tr>\n",
       "    <tr>\n",
       "      <th>556</th>\n",
       "      <td>Lodwar</td>\n",
       "      <td>35.60</td>\n",
       "      <td>3.12</td>\n",
       "      <td>4.72</td>\n",
       "      <td>83.19</td>\n",
       "      <td>55</td>\n",
       "      <td>1584494213</td>\n",
       "      <td>KE</td>\n",
       "      <td>88</td>\n",
       "    </tr>\n",
       "    <tr>\n",
       "      <th>557</th>\n",
       "      <td>Andalan</td>\n",
       "      <td>121.39</td>\n",
       "      <td>5.96</td>\n",
       "      <td>3.24</td>\n",
       "      <td>80.73</td>\n",
       "      <td>73</td>\n",
       "      <td>1584494213</td>\n",
       "      <td>PH</td>\n",
       "      <td>93</td>\n",
       "    </tr>\n",
       "    <tr>\n",
       "      <th>558</th>\n",
       "      <td>Nanzhang</td>\n",
       "      <td>111.84</td>\n",
       "      <td>31.78</td>\n",
       "      <td>2.48</td>\n",
       "      <td>59.11</td>\n",
       "      <td>60</td>\n",
       "      <td>1584494213</td>\n",
       "      <td>CN</td>\n",
       "      <td>0</td>\n",
       "    </tr>\n",
       "    <tr>\n",
       "      <th>560</th>\n",
       "      <td>Kaset Sombun</td>\n",
       "      <td>101.95</td>\n",
       "      <td>16.28</td>\n",
       "      <td>4.27</td>\n",
       "      <td>79.52</td>\n",
       "      <td>63</td>\n",
       "      <td>1584494214</td>\n",
       "      <td>TH</td>\n",
       "      <td>45</td>\n",
       "    </tr>\n",
       "  </tbody>\n",
       "</table>\n",
       "<p>385 rows × 9 columns</p>\n",
       "</div>"
      ],
      "text/plain": [
       "              city     lon    lat  wind_speed  max_temp  humidity        date  \\\n",
       "0            Manga   -1.07  11.66        0.85     82.81        25  1584494069   \n",
       "3          Sakakah   40.21  29.97       17.22     59.00        54  1584494070   \n",
       "5            Huron  -82.55  41.15        6.93     43.00        60  1584494071   \n",
       "6          Aklavik -135.01  68.22        4.09     23.00        67  1584493489   \n",
       "7            Kapaa -159.32  22.08        6.93     78.80        94  1584494071   \n",
       "..             ...     ...    ...         ...       ...       ...         ...   \n",
       "555  Berdigestyakh  126.70  62.10        6.35     -2.45        94  1584494213   \n",
       "556         Lodwar   35.60   3.12        4.72     83.19        55  1584494213   \n",
       "557        Andalan  121.39   5.96        3.24     80.73        73  1584494213   \n",
       "558       Nanzhang  111.84  31.78        2.48     59.11        60  1584494213   \n",
       "560   Kaset Sombun  101.95  16.28        4.27     79.52        63  1584494214   \n",
       "\n",
       "    country  cloud  \n",
       "0        BF     40  \n",
       "3        SA      0  \n",
       "5        US      1  \n",
       "6        CA     40  \n",
       "7        US     75  \n",
       "..      ...    ...  \n",
       "555      RU     99  \n",
       "556      KE     88  \n",
       "557      PH     93  \n",
       "558      CN      0  \n",
       "560      TH     45  \n",
       "\n",
       "[385 rows x 9 columns]"
      ]
     },
     "execution_count": 59,
     "metadata": {},
     "output_type": "execute_result"
    }
   ],
   "source": [
    "north_weather_data = weather_data[(weather_data.lat >= 0)]\n",
    "north_weather_data\n"
   ]
  },
  {
   "cell_type": "code",
   "execution_count": 60,
   "metadata": {},
   "outputs": [
    {
     "data": {
      "text/html": [
       "<div>\n",
       "<style scoped>\n",
       "    .dataframe tbody tr th:only-of-type {\n",
       "        vertical-align: middle;\n",
       "    }\n",
       "\n",
       "    .dataframe tbody tr th {\n",
       "        vertical-align: top;\n",
       "    }\n",
       "\n",
       "    .dataframe thead th {\n",
       "        text-align: right;\n",
       "    }\n",
       "</style>\n",
       "<table border=\"1\" class=\"dataframe\">\n",
       "  <thead>\n",
       "    <tr style=\"text-align: right;\">\n",
       "      <th></th>\n",
       "      <th>city</th>\n",
       "      <th>lon</th>\n",
       "      <th>lat</th>\n",
       "      <th>wind_speed</th>\n",
       "      <th>max_temp</th>\n",
       "      <th>humidity</th>\n",
       "      <th>date</th>\n",
       "      <th>country</th>\n",
       "      <th>cloud</th>\n",
       "    </tr>\n",
       "  </thead>\n",
       "  <tbody>\n",
       "    <tr>\n",
       "      <th>1</th>\n",
       "      <td>Ambilobe</td>\n",
       "      <td>49.05</td>\n",
       "      <td>-13.20</td>\n",
       "      <td>2.77</td>\n",
       "      <td>74.75</td>\n",
       "      <td>91</td>\n",
       "      <td>1584494070</td>\n",
       "      <td>MG</td>\n",
       "      <td>47</td>\n",
       "    </tr>\n",
       "    <tr>\n",
       "      <th>2</th>\n",
       "      <td>Busselton</td>\n",
       "      <td>115.33</td>\n",
       "      <td>-33.65</td>\n",
       "      <td>1.01</td>\n",
       "      <td>59.00</td>\n",
       "      <td>97</td>\n",
       "      <td>1584493781</td>\n",
       "      <td>AU</td>\n",
       "      <td>20</td>\n",
       "    </tr>\n",
       "    <tr>\n",
       "      <th>4</th>\n",
       "      <td>Gold Coast</td>\n",
       "      <td>153.43</td>\n",
       "      <td>-28.00</td>\n",
       "      <td>16.11</td>\n",
       "      <td>80.01</td>\n",
       "      <td>50</td>\n",
       "      <td>1584493930</td>\n",
       "      <td>AU</td>\n",
       "      <td>4</td>\n",
       "    </tr>\n",
       "    <tr>\n",
       "      <th>8</th>\n",
       "      <td>Airai</td>\n",
       "      <td>125.41</td>\n",
       "      <td>-8.93</td>\n",
       "      <td>4.74</td>\n",
       "      <td>73.18</td>\n",
       "      <td>64</td>\n",
       "      <td>1584493506</td>\n",
       "      <td>TL</td>\n",
       "      <td>0</td>\n",
       "    </tr>\n",
       "    <tr>\n",
       "      <th>9</th>\n",
       "      <td>Dunedin</td>\n",
       "      <td>170.50</td>\n",
       "      <td>-45.87</td>\n",
       "      <td>5.01</td>\n",
       "      <td>64.99</td>\n",
       "      <td>46</td>\n",
       "      <td>1584493517</td>\n",
       "      <td>NZ</td>\n",
       "      <td>0</td>\n",
       "    </tr>\n",
       "    <tr>\n",
       "      <th>...</th>\n",
       "      <td>...</td>\n",
       "      <td>...</td>\n",
       "      <td>...</td>\n",
       "      <td>...</td>\n",
       "      <td>...</td>\n",
       "      <td>...</td>\n",
       "      <td>...</td>\n",
       "      <td>...</td>\n",
       "      <td>...</td>\n",
       "    </tr>\n",
       "    <tr>\n",
       "      <th>528</th>\n",
       "      <td>Gladstone</td>\n",
       "      <td>151.25</td>\n",
       "      <td>-23.85</td>\n",
       "      <td>13.87</td>\n",
       "      <td>80.60</td>\n",
       "      <td>51</td>\n",
       "      <td>1584494206</td>\n",
       "      <td>AU</td>\n",
       "      <td>40</td>\n",
       "    </tr>\n",
       "    <tr>\n",
       "      <th>544</th>\n",
       "      <td>Trairi</td>\n",
       "      <td>-39.27</td>\n",
       "      <td>-3.28</td>\n",
       "      <td>1.99</td>\n",
       "      <td>74.16</td>\n",
       "      <td>91</td>\n",
       "      <td>1584494210</td>\n",
       "      <td>BR</td>\n",
       "      <td>60</td>\n",
       "    </tr>\n",
       "    <tr>\n",
       "      <th>551</th>\n",
       "      <td>Alvarães</td>\n",
       "      <td>-64.80</td>\n",
       "      <td>-3.22</td>\n",
       "      <td>2.06</td>\n",
       "      <td>76.21</td>\n",
       "      <td>96</td>\n",
       "      <td>1584494212</td>\n",
       "      <td>BR</td>\n",
       "      <td>97</td>\n",
       "    </tr>\n",
       "    <tr>\n",
       "      <th>554</th>\n",
       "      <td>Port Hedland</td>\n",
       "      <td>118.57</td>\n",
       "      <td>-20.32</td>\n",
       "      <td>9.17</td>\n",
       "      <td>95.00</td>\n",
       "      <td>36</td>\n",
       "      <td>1584494212</td>\n",
       "      <td>AU</td>\n",
       "      <td>0</td>\n",
       "    </tr>\n",
       "    <tr>\n",
       "      <th>559</th>\n",
       "      <td>General Roca</td>\n",
       "      <td>-67.58</td>\n",
       "      <td>-39.03</td>\n",
       "      <td>5.82</td>\n",
       "      <td>69.80</td>\n",
       "      <td>43</td>\n",
       "      <td>1584494213</td>\n",
       "      <td>AR</td>\n",
       "      <td>40</td>\n",
       "    </tr>\n",
       "  </tbody>\n",
       "</table>\n",
       "<p>176 rows × 9 columns</p>\n",
       "</div>"
      ],
      "text/plain": [
       "             city     lon    lat  wind_speed  max_temp  humidity        date  \\\n",
       "1        Ambilobe   49.05 -13.20        2.77     74.75        91  1584494070   \n",
       "2       Busselton  115.33 -33.65        1.01     59.00        97  1584493781   \n",
       "4      Gold Coast  153.43 -28.00       16.11     80.01        50  1584493930   \n",
       "8           Airai  125.41  -8.93        4.74     73.18        64  1584493506   \n",
       "9         Dunedin  170.50 -45.87        5.01     64.99        46  1584493517   \n",
       "..            ...     ...    ...         ...       ...       ...         ...   \n",
       "528     Gladstone  151.25 -23.85       13.87     80.60        51  1584494206   \n",
       "544        Trairi  -39.27  -3.28        1.99     74.16        91  1584494210   \n",
       "551      Alvarães  -64.80  -3.22        2.06     76.21        96  1584494212   \n",
       "554  Port Hedland  118.57 -20.32        9.17     95.00        36  1584494212   \n",
       "559  General Roca  -67.58 -39.03        5.82     69.80        43  1584494213   \n",
       "\n",
       "    country  cloud  \n",
       "1        MG     47  \n",
       "2        AU     20  \n",
       "4        AU      4  \n",
       "8        TL      0  \n",
       "9        NZ      0  \n",
       "..      ...    ...  \n",
       "528      AU     40  \n",
       "544      BR     60  \n",
       "551      BR     97  \n",
       "554      AU      0  \n",
       "559      AR     40  \n",
       "\n",
       "[176 rows x 9 columns]"
      ]
     },
     "execution_count": 60,
     "metadata": {},
     "output_type": "execute_result"
    }
   ],
   "source": [
    "south_weather_data = weather_data[(weather_data.lat < 0)]\n",
    "south_weather_data"
   ]
  },
  {
   "cell_type": "code",
   "execution_count": 75,
   "metadata": {},
   "outputs": [
    {
     "data": {
      "image/png": "[encoded data removed]",
      "text/plain": [
       "<Figure size 432x288 with 1 Axes>"
      ]
     },
     "metadata": {
      "needs_background": "light"
     },
     "output_type": "display_data"
    },
    {
     "data": {
      "text/plain": [
       "<Figure size 432x288 with 0 Axes>"
      ]
     },
     "metadata": {},
     "output_type": "display_data"
    }
   ],
   "source": [
    "# Build a scatter plot for each data type\n",
    "plt.scatter(north_weather_data[\"lat\"], north_weather_data[\"max_temp\"], marker=\"o\")\n",
    "\n",
    "# Incorporate the other graph properties\n",
    "plt.title(\"City Latitude vs. Max Temperature Northern Hemisphere\")\n",
    "plt.ylabel(\"Max Temperature (F)\")\n",
    "plt.xlabel(\"Latitude\")\n",
    "plt.grid(True)\n",
    "\n",
    "# Show plot\n",
    "plt.show()\n",
    "\n",
    "plt.savefig('city_lat_max_temp.png')"
   ]
  },
  {
   "cell_type": "code",
   "execution_count": 77,
   "metadata": {},
   "outputs": [
    {
     "name": "stdout",
     "output_type": "stream",
     "text": [
      "0      78.852279\n",
      "3      57.984305\n",
      "5      45.242418\n",
      "6      14.390640\n",
      "7      66.976567\n",
      "         ...    \n",
      "555    21.365626\n",
      "556    88.585349\n",
      "557    85.348590\n",
      "558    55.921441\n",
      "560    73.586848\n",
      "Name: lat, Length: 385, dtype: float64\n"
     ]
    }
   ],
   "source": [
    "# Perform a linear regression on temperature vs. latitude\n",
    "(slope, intercept, rvalue, pvalue, stderr) = stats.linregress(north_weather_data[\"lat\"], north_weather_data[\"max_temp\"])\n",
    "\n",
    "# Get regression values\n",
    "regress_values = north_weather_data[\"lat\"] * slope + intercept\n",
    "print(regress_values)"
   ]
  },
  {
   "cell_type": "code",
   "execution_count": 78,
   "metadata": {},
   "outputs": [
    {
     "name": "stdout",
     "output_type": "stream",
     "text": [
      "y = -1.14x +92.14\n"
     ]
    }
   ],
   "source": [
    "# Create line equation string\n",
    "line_eq = \"y = \" + str(round(slope,2)) + \"x +\" + str(round(intercept,2))\n",
    "print(line_eq)"
   ]
  },
  {
   "cell_type": "code",
   "execution_count": 79,
   "metadata": {},
   "outputs": [
    {
     "name": "stdout",
     "output_type": "stream",
     "text": [
      "The r-squared is: -0.8896688317523717\n"
     ]
    },
    {
     "data": {
      "image/png": "[encoded data removed]",
      "text/plain": [
       "<Figure size 432x288 with 1 Axes>"
      ]
     },
     "metadata": {
      "needs_background": "light"
     },
     "output_type": "display_data"
    },
    {
     "data": {
      "text/plain": [
       "<Figure size 432x288 with 0 Axes>"
      ]
     },
     "metadata": {},
     "output_type": "display_data"
    }
   ],
   "source": [
    " # Create Plot\n",
    "plt.scatter(north_weather_data[\"lat\"], north_weather_data[\"max_temp\"], marker=\"o\")\n",
    "plt.plot(north_weather_data[\"lat\"],regress_values,\"r-\")\n",
    "\n",
    "# Label plot and annotate the line equation\n",
    "plt.title(\"City Latitude vs. Max Temperature Northern Hemisphere\")\n",
    "plt.ylabel(\"Max Temperature (F)\")\n",
    "plt.xlabel(\"Latitude\")\n",
    "plt.grid(True)\n",
    "\n",
    "# Print r square value\n",
    "print(f\"The r-squared is: {rvalue}\")\n",
    "\n",
    "# Show plot\n",
    "plt.show()\n",
    "\n",
    "plt.savefig('city_lat_max_temp_reg.png')"
   ]
  },
  {
   "cell_type": "code",
   "execution_count": 80,
   "metadata": {},
   "outputs": [
    {
     "data": {
      "image/png": "[encoded data removed]",
      "text/plain": [
       "<Figure size 432x288 with 1 Axes>"
      ]
     },
     "metadata": {
      "needs_background": "light"
     },
     "output_type": "display_data"
    },
    {
     "data": {
      "text/plain": [
       "<Figure size 432x288 with 0 Axes>"
      ]
     },
     "metadata": {},
     "output_type": "display_data"
    }
   ],
   "source": [
    "# Build a scatter plot for each data type\n",
    "plt.scatter(south_weather_data[\"lat\"], south_weather_data[\"max_temp\"], marker=\"o\")\n",
    "\n",
    "# Incorporate the other graph properties\n",
    "plt.title(\"City Latitude vs. Max Temperature Southern Hemisphere\")\n",
    "plt.ylabel(\"Max Temperature (F)\")\n",
    "plt.xlabel(\"Latitude\")\n",
    "plt.grid(True)\n",
    "\n",
    "# Show plot\n",
    "plt.show()\n",
    "\n",
    "plt.savefig('city_lat_max_temp_south.png')"
   ]
  },
  {
   "cell_type": "code",
   "execution_count": 81,
   "metadata": {},
   "outputs": [
    {
     "name": "stdout",
     "output_type": "stream",
     "text": [
      "1      75.548955\n",
      "2      68.235743\n",
      "4      70.256264\n",
      "8      77.075968\n",
      "9      63.865697\n",
      "         ...    \n",
      "528    71.740363\n",
      "544    79.096489\n",
      "551    79.117946\n",
      "554    73.002742\n",
      "559    66.311779\n",
      "Name: lat, Length: 176, dtype: float64\n"
     ]
    }
   ],
   "source": [
    "# Perform a linear regression on temperature vs. latitude\n",
    "(slope, intercept, rvalue, pvalue, stderr) = stats.linregress(south_weather_data[\"lat\"], south_weather_data[\"max_temp\"])\n",
    "\n",
    "# Get regression values\n",
    "regress_values = south_weather_data[\"lat\"] * slope + intercept\n",
    "print(regress_values)"
   ]
  },
  {
   "cell_type": "code",
   "execution_count": 82,
   "metadata": {},
   "outputs": [
    {
     "name": "stdout",
     "output_type": "stream",
     "text": [
      "y = 0.36x +80.27\n"
     ]
    }
   ],
   "source": [
    "# Create line equation string\n",
    "line_eq = \"y = \" + str(round(slope,2)) + \"x +\" + str(round(intercept,2))\n",
    "print(line_eq)"
   ]
  },
  {
   "cell_type": "code",
   "execution_count": 83,
   "metadata": {},
   "outputs": [
    {
     "name": "stdout",
     "output_type": "stream",
     "text": [
      "The r-squared is: 0.5198585318339279\n"
     ]
    },
    {
     "data": {
      "image/png": "[encoded data removed]",
      "text/plain": [
       "<Figure size 432x288 with 1 Axes>"
      ]
     },
     "metadata": {
      "needs_background": "light"
     },
     "output_type": "display_data"
    },
    {
     "name": "stdout",
     "output_type": "stream",
     "text": [
      "This plot is showing that cities closer to the equator have higher max temperatures. The southern hemisphere has a positive correlation between latitute and max temp, while the northern hemisphere has a negative correlation. In both cases, as you get further away from the equator temperature decreases, the correlation difference is due to the change between a positive or negative number based on northern or southern hemisphere.\n"
     ]
    },
    {
     "data": {
      "text/plain": [
       "<Figure size 432x288 with 0 Axes>"
      ]
     },
     "metadata": {},
     "output_type": "display_data"
    }
   ],
   "source": [
    " # Create Plot\n",
    "plt.scatter(south_weather_data[\"lat\"], south_weather_data[\"max_temp\"], marker=\"o\")\n",
    "plt.plot(south_weather_data[\"lat\"],regress_values,\"r-\")\n",
    "\n",
    "# Label plot and annotate the line equation\n",
    "plt.title(\"City Latitude vs. Max Temperature Southern Hemisphere\")\n",
    "plt.ylabel(\"Max Temperature (F)\")\n",
    "plt.xlabel(\"Latitude\")\n",
    "plt.grid(True)\n",
    "\n",
    "# Print r square value\n",
    "print(f\"The r-squared is: {rvalue}\")\n",
    "\n",
    "# Show plot\n",
    "plt.show()\n",
    "\n",
    "plt.savefig('city_lat_max_temp_south_reg.png')\n",
    "\n",
    "print('This plot is showing that cities closer to the equator have higher max temperatures. The southern hemisphere has a positive correlation between latitute and max temp, while the northern hemisphere has a negative correlation. In both cases, as you get further away from the equator temperature decreases, the correlation difference is due to the change between a positive or negative number based on northern or southern hemisphere.')"
   ]
  },
  {
   "cell_type": "code",
   "execution_count": 84,
   "metadata": {},
   "outputs": [
    {
     "data": {
      "image/png": "[encoded data removed]",
      "text/plain": [
       "<Figure size 432x288 with 1 Axes>"
      ]
     },
     "metadata": {
      "needs_background": "light"
     },
     "output_type": "display_data"
    },
    {
     "data": {
      "text/plain": [
       "<Figure size 432x288 with 0 Axes>"
      ]
     },
     "metadata": {},
     "output_type": "display_data"
    }
   ],
   "source": [
    "# Build a scatter plot for each data type\n",
    "plt.scatter(north_weather_data[\"lat\"], north_weather_data[\"humidity\"], marker=\"o\")\n",
    "\n",
    "# Incorporate the other graph properties\n",
    "plt.title(\"City Latitude vs. Humidity Northern Hemisphere\")\n",
    "plt.ylabel(\"Humidity\")\n",
    "plt.xlabel(\"Latitude\")\n",
    "plt.grid(True)\n",
    "\n",
    "# Show plot\n",
    "plt.show()\n",
    "\n",
    "plt.savefig('city_lat_humidity_north.png')"
   ]
  },
  {
   "cell_type": "code",
   "execution_count": 85,
   "metadata": {},
   "outputs": [
    {
     "name": "stdout",
     "output_type": "stream",
     "text": [
      "0      63.249223\n",
      "3      68.171153\n",
      "5      71.176461\n",
      "6      78.453176\n",
      "7      66.050234\n",
      "         ...    \n",
      "555    76.808052\n",
      "556    60.953576\n",
      "557    61.717000\n",
      "558    68.657701\n",
      "560    64.491130\n",
      "Name: lat, Length: 385, dtype: float64\n"
     ]
    }
   ],
   "source": [
    "# Perform a linear regression on temperature vs. latitude\n",
    "(slope, intercept, rvalue, pvalue, stderr) = stats.linregress(north_weather_data[\"lat\"], north_weather_data[\"humidity\"])\n",
    "\n",
    "# Get regression values\n",
    "regress_values = north_weather_data[\"lat\"] * slope + intercept\n",
    "print(regress_values)"
   ]
  },
  {
   "cell_type": "code",
   "execution_count": 86,
   "metadata": {},
   "outputs": [
    {
     "name": "stdout",
     "output_type": "stream",
     "text": [
      "y = 0.27x +60.11\n"
     ]
    }
   ],
   "source": [
    "# Create line equation string\n",
    "line_eq = \"y = \" + str(round(slope,2)) + \"x +\" + str(round(intercept,2))\n",
    "print(line_eq)"
   ]
  },
  {
   "cell_type": "code",
   "execution_count": 87,
   "metadata": {},
   "outputs": [
    {
     "name": "stdout",
     "output_type": "stream",
     "text": [
      "The r-squared is: 0.25300117850561127\n"
     ]
    },
    {
     "data": {
      "image/png": "[encoded data removed]",
      "text/plain": [
       "<Figure size 432x288 with 1 Axes>"
      ]
     },
     "metadata": {
      "needs_background": "light"
     },
     "output_type": "display_data"
    },
    {
     "data": {
      "text/plain": [
       "<Figure size 432x288 with 0 Axes>"
      ]
     },
     "metadata": {},
     "output_type": "display_data"
    }
   ],
   "source": [
    " # Create Plot\n",
    "plt.scatter(north_weather_data[\"lat\"], north_weather_data[\"humidity\"], marker=\"o\")\n",
    "plt.plot(north_weather_data[\"lat\"],regress_values,\"r-\")\n",
    "\n",
    "# Label plot and annotate the line equation\n",
    "plt.title(\"City Latitude vs. Humidity Northern Hemisphere\")\n",
    "plt.ylabel(\"Humidity\")\n",
    "plt.xlabel(\"Latitude\")\n",
    "plt.grid(True)\n",
    "\n",
    "# Print r square value\n",
    "print(f\"The r-squared is: {rvalue}\")\n",
    "\n",
    "# Show plot\n",
    "plt.show()\n",
    "\n",
    "plt.savefig('city_lat_humidity_north_reg.png')"
   ]
  },
  {
   "cell_type": "code",
   "execution_count": 88,
   "metadata": {},
   "outputs": [
    {
     "data": {
      "image/png": "[encoded data removed]",
      "text/plain": [
       "<Figure size 432x288 with 1 Axes>"
      ]
     },
     "metadata": {
      "needs_background": "light"
     },
     "output_type": "display_data"
    },
    {
     "data": {
      "text/plain": [
       "<Figure size 432x288 with 0 Axes>"
      ]
     },
     "metadata": {},
     "output_type": "display_data"
    }
   ],
   "source": [
    "# Build a scatter plot for each data type\n",
    "plt.scatter(south_weather_data[\"lat\"], south_weather_data[\"humidity\"], marker=\"o\")\n",
    "\n",
    "# Incorporate the other graph properties\n",
    "plt.title(\"City Latitude vs. Humidity Southern Hemisphere\")\n",
    "plt.ylabel(\"Humidity\")\n",
    "plt.xlabel(\"Latitude\")\n",
    "plt.grid(True)\n",
    "\n",
    "# Show plot\n",
    "plt.show()\n",
    "\n",
    "plt.savefig('city_lat_humidity_south.png')"
   ]
  },
  {
   "cell_type": "code",
   "execution_count": 89,
   "metadata": {},
   "outputs": [
    {
     "name": "stdout",
     "output_type": "stream",
     "text": [
      "1      80.526099\n",
      "2      67.029859\n",
      "4      70.758649\n",
      "8      83.344140\n",
      "9      58.965113\n",
      "         ...    \n",
      "528    73.497495\n",
      "544    87.072930\n",
      "551    87.112528\n",
      "554    75.827164\n",
      "559    63.479259\n",
      "Name: lat, Length: 176, dtype: float64\n"
     ]
    }
   ],
   "source": [
    "# Perform a linear regression on temperature vs. latitude\n",
    "(slope, intercept, rvalue, pvalue, stderr) = stats.linregress(south_weather_data[\"lat\"], south_weather_data[\"humidity\"])\n",
    "\n",
    "# Get regression values\n",
    "regress_values = south_weather_data[\"lat\"] * slope + intercept\n",
    "print(regress_values)"
   ]
  },
  {
   "cell_type": "code",
   "execution_count": 90,
   "metadata": {},
   "outputs": [
    {
     "name": "stdout",
     "output_type": "stream",
     "text": [
      "y = 0.66x +89.24\n"
     ]
    }
   ],
   "source": [
    "# Create line equation string\n",
    "line_eq = \"y = \" + str(round(slope,2)) + \"x +\" + str(round(intercept,2))\n",
    "print(line_eq)"
   ]
  },
  {
   "cell_type": "code",
   "execution_count": 91,
   "metadata": {},
   "outputs": [
    {
     "name": "stdout",
     "output_type": "stream",
     "text": [
      "The r-squared is: 0.45341868867641066\n"
     ]
    },
    {
     "data": {
      "image/png": "[encoded data removed]",
      "text/plain": [
       "<Figure size 432x288 with 1 Axes>"
      ]
     },
     "metadata": {
      "needs_background": "light"
     },
     "output_type": "display_data"
    },
    {
     "name": "stdout",
     "output_type": "stream",
     "text": [
      "Based on the data collected during this pull of 500+ cities it appears that both hemispheres have positive correlations between latitude and humidity. In the Southern Hemisphere we see as you get closer to the equator it becomes more humid. In the northern hemisphere as you get further from the equator it becomes more humid.\n"
     ]
    },
    {
     "data": {
      "text/plain": [
       "<Figure size 432x288 with 0 Axes>"
      ]
     },
     "metadata": {},
     "output_type": "display_data"
    }
   ],
   "source": [
    " # Create Plot\n",
    "plt.scatter(south_weather_data[\"lat\"], south_weather_data[\"humidity\"], marker=\"o\")\n",
    "plt.plot(south_weather_data[\"lat\"],regress_values,\"r-\")\n",
    "\n",
    "# Label plot and annotate the line equation\n",
    "plt.title(\"City Latitude vs. Humidity Southern Hemisphere\")\n",
    "plt.ylabel(\"Humidity\")\n",
    "plt.xlabel(\"Latitude\")\n",
    "plt.grid(True)\n",
    "\n",
    "# Print r square value\n",
    "print(f\"The r-squared is: {rvalue}\")\n",
    "\n",
    "# Show plot\n",
    "plt.show()\n",
    "\n",
    "plt.savefig('city_lat_humidity_south_reg.png')\n",
    "\n",
    "print(\"Based on the data collected during this pull of 500+ cities it appears that both hemispheres have positive correlations between latitude and humidity. In the Southern Hemisphere we see as you get closer to the equator it becomes more humid. In the northern hemisphere as you get further from the equator it becomes more humid.\")"
   ]
  },
  {
   "cell_type": "code",
   "execution_count": 92,
   "metadata": {},
   "outputs": [
    {
     "data": {
      "image/png": "[encoded data removed]",
      "text/plain": [
       "<Figure size 432x288 with 1 Axes>"
      ]
     },
     "metadata": {
      "needs_background": "light"
     },
     "output_type": "display_data"
    },
    {
     "data": {
      "text/plain": [
       "<Figure size 432x288 with 0 Axes>"
      ]
     },
     "metadata": {},
     "output_type": "display_data"
    }
   ],
   "source": [
    "# Build a scatter plot for each data type\n",
    "plt.scatter(north_weather_data[\"lat\"], north_weather_data[\"cloud\"], marker=\"o\")\n",
    "\n",
    "# Incorporate the other graph properties\n",
    "plt.title(\"City Latitude vs. Cloudiness Northern Hemisphere\")\n",
    "plt.ylabel(\"Cloudiness\")\n",
    "plt.xlabel(\"Latitude\")\n",
    "plt.grid(True)\n",
    "\n",
    "# Show plot\n",
    "plt.show()\n",
    "\n",
    "plt.savefig('city_lat_cloud_north.png')"
   ]
  },
  {
   "cell_type": "code",
   "execution_count": 93,
   "metadata": {},
   "outputs": [
    {
     "name": "stdout",
     "output_type": "stream",
     "text": [
      "0      46.648540\n",
      "3      52.358218\n",
      "5      55.844521\n",
      "6      64.285863\n",
      "7      49.897849\n",
      "         ...    \n",
      "555    62.377440\n",
      "556    43.985479\n",
      "557    44.871088\n",
      "558    52.922637\n",
      "560    48.089213\n",
      "Name: lat, Length: 385, dtype: float64\n"
     ]
    }
   ],
   "source": [
    "# Perform a linear regression on temperature vs. latitude\n",
    "(slope, intercept, rvalue, pvalue, stderr) = stats.linregress(north_weather_data[\"lat\"], north_weather_data[\"cloud\"])\n",
    "\n",
    "# Get regression values\n",
    "regress_values = north_weather_data[\"lat\"] * slope + intercept\n",
    "print(regress_values)"
   ]
  },
  {
   "cell_type": "code",
   "execution_count": 94,
   "metadata": {},
   "outputs": [
    {
     "name": "stdout",
     "output_type": "stream",
     "text": [
      "y = 0.31x +43.01\n"
     ]
    }
   ],
   "source": [
    "# Create line equation string\n",
    "line_eq = \"y = \" + str(round(slope,2)) + \"x +\" + str(round(intercept,2))\n",
    "print(line_eq)"
   ]
  },
  {
   "cell_type": "code",
   "execution_count": 96,
   "metadata": {},
   "outputs": [
    {
     "name": "stdout",
     "output_type": "stream",
     "text": [
      "The r-squared is: 0.16603699630515736\n"
     ]
    },
    {
     "data": {
      "image/png": "[encoded data removed]",
      "text/plain": [
       "<Figure size 432x288 with 1 Axes>"
      ]
     },
     "metadata": {
      "needs_background": "light"
     },
     "output_type": "display_data"
    },
    {
     "data": {
      "text/plain": [
       "<Figure size 432x288 with 0 Axes>"
      ]
     },
     "metadata": {},
     "output_type": "display_data"
    }
   ],
   "source": [
    "# Create Plot\n",
    "plt.scatter(north_weather_data[\"lat\"], north_weather_data[\"cloud\"], marker=\"o\")\n",
    "plt.plot(north_weather_data[\"lat\"],regress_values,\"r-\")\n",
    "\n",
    "# Label plot and annotate the line equation\n",
    "plt.title(\"City Latitude vs. Cloudiness Northern Hemisphere\")\n",
    "plt.ylabel(\"Cloudiness\")\n",
    "plt.xlabel(\"Latitude\")\n",
    "plt.grid(True)\n",
    "\n",
    "# Print r square value\n",
    "print(f\"The r-squared is: {rvalue}\")\n",
    "\n",
    "# Show plot\n",
    "plt.show()\n",
    "\n",
    "plt.savefig('city_lat_cloud_north_reg.png')"
   ]
  },
  {
   "cell_type": "code",
   "execution_count": 97,
   "metadata": {},
   "outputs": [
    {
     "data": {
      "image/png": "[encoded data removed]",
      "text/plain": [
       "<Figure size 432x288 with 1 Axes>"
      ]
     },
     "metadata": {
      "needs_background": "light"
     },
     "output_type": "display_data"
    },
    {
     "data": {
      "text/plain": [
       "<Figure size 432x288 with 0 Axes>"
      ]
     },
     "metadata": {},
     "output_type": "display_data"
    }
   ],
   "source": [
    "# Build a scatter plot for each data type\n",
    "plt.scatter(south_weather_data[\"lat\"], south_weather_data[\"cloud\"], marker=\"o\")\n",
    "\n",
    "# Incorporate the other graph properties\n",
    "plt.title(\"City Latitude vs. Cloudiness Southern Hemisphere\")\n",
    "plt.ylabel(\"Cloudiness\")\n",
    "plt.xlabel(\"Latitude\")\n",
    "plt.grid(True)\n",
    "\n",
    "# Show plot\n",
    "plt.show()\n",
    "\n",
    "plt.savefig('city_lat_cloud_south.png')"
   ]
  },
  {
   "cell_type": "code",
   "execution_count": 98,
   "metadata": {},
   "outputs": [
    {
     "name": "stdout",
     "output_type": "stream",
     "text": [
      "1      56.530023\n",
      "2      33.233698\n",
      "4      39.670091\n",
      "8      61.394341\n",
      "9      19.312862\n",
      "         ...    \n",
      "528    44.397707\n",
      "544    67.830735\n",
      "551    67.899086\n",
      "554    48.419029\n",
      "559    27.104884\n",
      "Name: lat, Length: 176, dtype: float64\n"
     ]
    }
   ],
   "source": [
    "# Perform a linear regression on temperature vs. latitude\n",
    "(slope, intercept, rvalue, pvalue, stderr) = stats.linregress(south_weather_data[\"lat\"], south_weather_data[\"cloud\"])\n",
    "\n",
    "# Get regression values\n",
    "regress_values = south_weather_data[\"lat\"] * slope + intercept\n",
    "print(regress_values)"
   ]
  },
  {
   "cell_type": "code",
   "execution_count": 99,
   "metadata": {},
   "outputs": [
    {
     "name": "stdout",
     "output_type": "stream",
     "text": [
      "y = 1.14x +71.57\n"
     ]
    }
   ],
   "source": [
    "# Create line equation string\n",
    "line_eq = \"y = \" + str(round(slope,2)) + \"x +\" + str(round(intercept,2))\n",
    "print(line_eq)"
   ]
  },
  {
   "cell_type": "code",
   "execution_count": 100,
   "metadata": {},
   "outputs": [
    {
     "name": "stdout",
     "output_type": "stream",
     "text": [
      "The r-squared is: 0.3917533262023311\n"
     ]
    },
    {
     "data": {
      "image/png": "[encoded data removed]",
      "text/plain": [
       "<Figure size 432x288 with 1 Axes>"
      ]
     },
     "metadata": {
      "needs_background": "light"
     },
     "output_type": "display_data"
    },
    {
     "name": "stdout",
     "output_type": "stream",
     "text": [
      "Both hemispheres have positive correlations between latitudes and cloudiness. In the Southern Hemisphere as you get closer to the equator there are more clouds.  In the Northern Hemisphere as you get further from the equator there are more clouds.\n"
     ]
    },
    {
     "data": {
      "text/plain": [
       "<Figure size 432x288 with 0 Axes>"
      ]
     },
     "metadata": {},
     "output_type": "display_data"
    }
   ],
   "source": [
    "# Create Plot\n",
    "plt.scatter(south_weather_data[\"lat\"], south_weather_data[\"cloud\"], marker=\"o\")\n",
    "plt.plot(south_weather_data[\"lat\"],regress_values,\"r-\")\n",
    "\n",
    "# Label plot and annotate the line equation\n",
    "plt.title(\"City Latitude vs. Cloudiness Southern Hemisphere\")\n",
    "plt.ylabel(\"Cloudiness\")\n",
    "plt.xlabel(\"Latitude\")\n",
    "plt.grid(True)\n",
    "\n",
    "# Print r square value\n",
    "print(f\"The r-squared is: {rvalue}\")\n",
    "\n",
    "# Show plot\n",
    "plt.show()\n",
    "\n",
    "plt.savefig('city_lat_cloud_south_reg.png')\n",
    "\n",
    "print('Both hemispheres have positive correlations between latitudes and cloudiness. In the Southern Hemisphere as you get closer to the equator there are more clouds.  In the Northern Hemisphere as you get further from the equator there are more clouds.')"
   ]
  },
  {
   "cell_type": "code",
   "execution_count": 101,
   "metadata": {},
   "outputs": [
    {
     "data": {
      "image/png": "[encoded data removed]",
      "text/plain": [
       "<Figure size 432x288 with 1 Axes>"
      ]
     },
     "metadata": {
      "needs_background": "light"
     },
     "output_type": "display_data"
    },
    {
     "data": {
      "text/plain": [
       "<Figure size 432x288 with 0 Axes>"
      ]
     },
     "metadata": {},
     "output_type": "display_data"
    }
   ],
   "source": [
    "# Build a scatter plot for each data type\n",
    "plt.scatter(north_weather_data[\"lat\"], north_weather_data[\"wind_speed\"], marker=\"o\")\n",
    "\n",
    "# Incorporate the other graph properties\n",
    "plt.title(\"City Latitude vs. Wind Speed Northern Hemisphere\")\n",
    "plt.ylabel(\"Wind Speed (mph)\")\n",
    "plt.xlabel(\"Latitude\")\n",
    "plt.grid(True)\n",
    "\n",
    "# Show plot\n",
    "plt.show()\n",
    "\n",
    "plt.savefig('city_lat_wind_north.png')"
   ]
  },
  {
   "cell_type": "code",
   "execution_count": 102,
   "metadata": {},
   "outputs": [
    {
     "name": "stdout",
     "output_type": "stream",
     "text": [
      "0       6.907513\n",
      "3       7.977487\n",
      "5       8.630809\n",
      "6      10.212689\n",
      "7       7.516422\n",
      "         ...    \n",
      "555     9.855057\n",
      "556     6.408464\n",
      "557     6.574424\n",
      "558     8.083258\n",
      "560     7.177490\n",
      "Name: lat, Length: 385, dtype: float64\n"
     ]
    }
   ],
   "source": [
    "# Perform a linear regression on temperature vs. latitude\n",
    "(slope, intercept, rvalue, pvalue, stderr) = stats.linregress(north_weather_data[\"lat\"], north_weather_data[\"wind_speed\"])\n",
    "\n",
    "# Get regression values\n",
    "regress_values = north_weather_data[\"lat\"] * slope + intercept\n",
    "print(regress_values)"
   ]
  },
  {
   "cell_type": "code",
   "execution_count": 103,
   "metadata": {},
   "outputs": [
    {
     "name": "stdout",
     "output_type": "stream",
     "text": [
      "y = 0.06x +6.23\n"
     ]
    }
   ],
   "source": [
    "# Create line equation string\n",
    "line_eq = \"y = \" + str(round(slope,2)) + \"x +\" + str(round(intercept,2))\n",
    "print(line_eq)"
   ]
  },
  {
   "cell_type": "code",
   "execution_count": 104,
   "metadata": {},
   "outputs": [
    {
     "name": "stdout",
     "output_type": "stream",
     "text": [
      "The r-squared is: 0.20304736740813956\n"
     ]
    },
    {
     "data": {
      "image/png": "[encoded data removed]",
      "text/plain": [
       "<Figure size 432x288 with 1 Axes>"
      ]
     },
     "metadata": {
      "needs_background": "light"
     },
     "output_type": "display_data"
    },
    {
     "data": {
      "text/plain": [
       "<Figure size 432x288 with 0 Axes>"
      ]
     },
     "metadata": {},
     "output_type": "display_data"
    }
   ],
   "source": [
    "# Create Plot\n",
    "plt.scatter(north_weather_data[\"lat\"], north_weather_data[\"wind_speed\"], marker=\"o\")\n",
    "plt.plot(north_weather_data[\"lat\"],regress_values,\"r-\")\n",
    "\n",
    "# Label plot and annotate the line equation\n",
    "plt.title(\"City Latitude vs. Wind Speed Northern Hemisphere\")\n",
    "plt.ylabel(\"Wind Speed (MPH)\")\n",
    "plt.xlabel(\"Latitude\")\n",
    "plt.grid(True)\n",
    "\n",
    "# Print r square value\n",
    "print(f\"The r-squared is: {rvalue}\")\n",
    "\n",
    "# Show plot\n",
    "plt.show()\n",
    "\n",
    "plt.savefig('city_lat_wind_north_reg.png')\n"
   ]
  },
  {
   "cell_type": "code",
   "execution_count": 105,
   "metadata": {},
   "outputs": [
    {
     "data": {
      "image/png": "[encoded data removed]",
      "text/plain": [
       "<Figure size 432x288 with 1 Axes>"
      ]
     },
     "metadata": {
      "needs_background": "light"
     },
     "output_type": "display_data"
    },
    {
     "data": {
      "text/plain": [
       "<Figure size 432x288 with 0 Axes>"
      ]
     },
     "metadata": {},
     "output_type": "display_data"
    }
   ],
   "source": [
    "# Build a scatter plot for each data type\n",
    "plt.scatter(south_weather_data[\"lat\"], south_weather_data[\"wind_speed\"], marker=\"o\")\n",
    "\n",
    "# Incorporate the other graph properties\n",
    "plt.title(\"City Latitude vs. Wind Speed Southern Hemisphere\")\n",
    "plt.ylabel(\"Wind Speed (mph)\")\n",
    "plt.xlabel(\"Latitude\")\n",
    "plt.grid(True)\n",
    "\n",
    "# Show plot\n",
    "plt.show()\n",
    "\n",
    "plt.savefig('city_lat_wind_south.png')"
   ]
  },
  {
   "cell_type": "code",
   "execution_count": 106,
   "metadata": {},
   "outputs": [
    {
     "name": "stdout",
     "output_type": "stream",
     "text": [
      "1       6.084103\n",
      "2       9.384657\n",
      "4       8.472768\n",
      "8       5.394941\n",
      "9      11.356920\n",
      "         ...    \n",
      "528     7.802974\n",
      "544     4.483052\n",
      "551     4.473369\n",
      "554     7.233245\n",
      "559    10.252969\n",
      "Name: lat, Length: 176, dtype: float64\n"
     ]
    }
   ],
   "source": [
    "# Perform a linear regression on temperature vs. latitude\n",
    "(slope, intercept, rvalue, pvalue, stderr) = stats.linregress(south_weather_data[\"lat\"], south_weather_data[\"wind_speed\"])\n",
    "\n",
    "# Get regression values\n",
    "regress_values = south_weather_data[\"lat\"] * slope + intercept\n",
    "print(regress_values)"
   ]
  },
  {
   "cell_type": "code",
   "execution_count": 107,
   "metadata": {},
   "outputs": [
    {
     "name": "stdout",
     "output_type": "stream",
     "text": [
      "y = -0.16x +3.95\n"
     ]
    }
   ],
   "source": [
    "# Create line equation string\n",
    "line_eq = \"y = \" + str(round(slope,2)) + \"x +\" + str(round(intercept,2))\n",
    "print(line_eq)"
   ]
  },
  {
   "cell_type": "code",
   "execution_count": 51,
   "metadata": {},
   "outputs": [
    {
     "name": "stdout",
     "output_type": "stream",
     "text": [
      "The r-squared is: -0.43891694000385667\n"
     ]
    },
    {
     "data": {
      "image/png": "[encoded data removed]",
      "text/plain": [
       "<Figure size 432x288 with 1 Axes>"
      ]
     },
     "metadata": {
      "needs_background": "light"
     },
     "output_type": "display_data"
    },
    {
     "name": "stdout",
     "output_type": "stream",
     "text": [
      "In the Northern Hemisphere as you get further from the equator wind speed picks up, conversly in the Southern Hemisphere as you get closer to the equator the wind speed slows down.\n"
     ]
    }
   ],
   "source": [
    "# Create Plot\n",
    "plt.scatter(south_weather_data[\"lat\"], south_weather_data[\"wind_speed\"], marker=\"o\")\n",
    "plt.plot(south_weather_data[\"lat\"],regress_values,\"r-\")\n",
    "\n",
    "# Label plot and annotate the line equation\n",
    "plt.title(\"City Latitude vs. Wind Speed Southern Hemisphere\")\n",
    "plt.ylabel(\"Wind Speed (MPH)\")\n",
    "plt.xlabel(\"Latitude\")\n",
    "plt.grid(True)\n",
    "\n",
    "# Print r square value\n",
    "print(f\"The r-squared is: {rvalue}\")\n",
    "\n",
    "# Show plot\n",
    "plt.show()\n",
    "\n",
    "print('In the Northern Hemisphere as you get further from the equator wind speed picks up, conversly in the Southern Hemisphere as you get closer to the equator the wind speed slows down.')\n"
   ]
  },
  {
   "cell_type": "code",
   "execution_count": null,
   "metadata": {},
   "outputs": [],
   "source": []
  },
  {
   "cell_type": "code",
   "execution_count": null,
   "metadata": {},
   "outputs": [],
   "source": []
  },
  {
   "cell_type": "code",
   "execution_count": null,
   "metadata": {},
   "outputs": [],
   "source": []
  },
  {
   "cell_type": "code",
   "execution_count": null,
   "metadata": {},
   "outputs": [],
   "source": []
  }
 ],
 "metadata": {
  "kernelspec": {
   "display_name": "Python 3",
   "language": "python",
   "name": "python3"
  },
  "language_info": {
   "codemirror_mode": {
    "name": "ipython",
    "version": 3
   },
   "file_extension": ".py",
   "mimetype": "text/x-python",
   "name": "python",
   "nbconvert_exporter": "python",
   "pygments_lexer": "ipython3",
   "version": "3.7.4"
  }
 },
 "nbformat": 4,
 "nbformat_minor": 4
}
